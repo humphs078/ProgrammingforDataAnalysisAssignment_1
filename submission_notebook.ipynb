{
 "cells": [
  {
   "cell_type": "markdown",
   "metadata": {},
   "source": [
    "# Programming for Data Analysis Assignment 1 Notebook\n",
    "\n",
    "Author - Sean Humphreys\n",
    "\n",
    "---\n",
    "\n",
    "## Contents\n",
    "\n",
    "1. [Introduction](#introduction)\n",
    "2. [Definitions](#definitions)\n",
    "3. [Dataset Exploration](#dataset-exploration)\n",
    "4. [Dataset Variables](#dataset-variables)\n",
    "5. [Random Probability Distribution](#random-probability-distribution)\n",
    "4. [References](#references)\n",
    "5. [Associated Reading](#associated-reading)\n",
    "\n",
    "---"
   ]
  },
  {
   "cell_type": "markdown",
   "metadata": {},
   "source": [
    "## Introduction <a id=\"introduction\"></a>\n",
    "\n",
    "The dataset explored and synthesised in this notebook is from a weather sensor in the author's back garden. The data extract is in the form of a csv. The source data csv can be accessed [here](datasets/back_garden_sensor_data_12_months.csv). The extract contains local weather data captured over a 12 month period.\n",
    "\n",
    "---"
   ]
  },
  {
   "cell_type": "markdown",
   "metadata": {},
   "source": [
    "## Definitions <a id=\"definitions\"></a>\n",
    "\n",
    "- [Matplotlib](https://matplotlib.org/) (https://matplotlib.org/ - last accesssed 8 Nov. 2023) - is an opensource software library for creating static, animated, and interactive visualizations in Python.\n",
    "- [Numpy](https://numpy.org/doc/stable/index.html) (https://numpy.org/doc/stable/index.html - last accessed 8. Nov 2023) - is an opensource software library for the Python, adding support for large, multi-dimensional arrays and matrices, along with a large collection of high-level mathematical functions to operate on these arrays. \n",
    "- [Pandas](https://pandas.pydata.org/) (https://pandas.pydata.org/ - last accessed 3 Nov. 2023) is an open source software library used in data analytics that allows data analysis and manipulation. Pandas is built on top of the *Python* programming language. A Pandas DataFrame is a dictionary like container for Series objects. A DataFrame is the primary Pandas data structure.\n",
    "\n",
    "---"
   ]
  },
  {
   "cell_type": "markdown",
   "metadata": {},
   "source": [
    "## Dataset Exploration <a id=\"dataset-exploration\"></a>\n",
    "\n",
    "Import the Pandas software library. Pandas can be used to make datasets clean and process datasets."
   ]
  },
  {
   "cell_type": "code",
   "execution_count": 21,
   "metadata": {},
   "outputs": [],
   "source": [
    "# import the required python libraries\n",
    "import pandas as pd"
   ]
  },
  {
   "cell_type": "markdown",
   "metadata": {},
   "source": [
    "Read in the source data CSV file."
   ]
  },
  {
   "cell_type": "code",
   "execution_count": 22,
   "metadata": {},
   "outputs": [],
   "source": [
    "# use pandas to read in the dataset\n",
    "garden_weather = pd.read_csv('datasets/back_garden_sensor_data_12_months.csv')"
   ]
  },
  {
   "cell_type": "markdown",
   "metadata": {},
   "source": [
    "Visually inspect the top and bottom of the dataframe to ascertain if there is any obvious data quality issues. This is done using the Pandas `head()` and `tail()` methods. The frist and last 5 rows of data are checked."
   ]
  },
  {
   "cell_type": "code",
   "execution_count": 23,
   "metadata": {},
   "outputs": [
    {
     "data": {
      "text/html": [
       "<div>\n",
       "<style scoped>\n",
       "    .dataframe tbody tr th:only-of-type {\n",
       "        vertical-align: middle;\n",
       "    }\n",
       "\n",
       "    .dataframe tbody tr th {\n",
       "        vertical-align: top;\n",
       "    }\n",
       "\n",
       "    .dataframe thead th {\n",
       "        text-align: right;\n",
       "    }\n",
       "</style>\n",
       "<table border=\"1\" class=\"dataframe\">\n",
       "  <thead>\n",
       "    <tr style=\"text-align: right;\">\n",
       "      <th></th>\n",
       "      <th>Date Time</th>\n",
       "      <th>Wind Speed m/s</th>\n",
       "      <th>Gust m/s</th>\n",
       "      <th>Humidity %</th>\n",
       "      <th>Chill Celsius</th>\n",
       "      <th>Chill Minimum Celsius</th>\n",
       "      <th>Temperature Average Celsius</th>\n",
       "      <th>Temperature Range (low) Celsius</th>\n",
       "      <th>Temperature Range (high)  Celsius</th>\n",
       "      <th>Air Pressure hPa</th>\n",
       "    </tr>\n",
       "  </thead>\n",
       "  <tbody>\n",
       "    <tr>\n",
       "      <th>0</th>\n",
       "      <td>09/11/2022 00:00</td>\n",
       "      <td>3.3</td>\n",
       "      <td>6.7</td>\n",
       "      <td>84.0</td>\n",
       "      <td>12.9</td>\n",
       "      <td>11.8</td>\n",
       "      <td>12.74</td>\n",
       "      <td>12.4</td>\n",
       "      <td>13.0</td>\n",
       "      <td>1000.3</td>\n",
       "    </tr>\n",
       "    <tr>\n",
       "      <th>1</th>\n",
       "      <td>10/11/2022 00:00</td>\n",
       "      <td>3.2</td>\n",
       "      <td>11.5</td>\n",
       "      <td>81.0</td>\n",
       "      <td>16.9</td>\n",
       "      <td>12.1</td>\n",
       "      <td>14.59</td>\n",
       "      <td>12.3</td>\n",
       "      <td>16.9</td>\n",
       "      <td>1007.1</td>\n",
       "    </tr>\n",
       "    <tr>\n",
       "      <th>2</th>\n",
       "      <td>11/11/2022 00:00</td>\n",
       "      <td>3.1</td>\n",
       "      <td>12.5</td>\n",
       "      <td>82.0</td>\n",
       "      <td>16.9</td>\n",
       "      <td>14.4</td>\n",
       "      <td>15.40</td>\n",
       "      <td>14.4</td>\n",
       "      <td>16.9</td>\n",
       "      <td>1013.6</td>\n",
       "    </tr>\n",
       "    <tr>\n",
       "      <th>3</th>\n",
       "      <td>12/11/2022 00:00</td>\n",
       "      <td>0.6</td>\n",
       "      <td>2.3</td>\n",
       "      <td>87.0</td>\n",
       "      <td>13.6</td>\n",
       "      <td>12.6</td>\n",
       "      <td>13.27</td>\n",
       "      <td>12.6</td>\n",
       "      <td>13.6</td>\n",
       "      <td>1018.9</td>\n",
       "    </tr>\n",
       "    <tr>\n",
       "      <th>4</th>\n",
       "      <td>13/11/2022 00:00</td>\n",
       "      <td>0.8</td>\n",
       "      <td>5.5</td>\n",
       "      <td>87.0</td>\n",
       "      <td>14.8</td>\n",
       "      <td>12.3</td>\n",
       "      <td>13.95</td>\n",
       "      <td>12.3</td>\n",
       "      <td>14.8</td>\n",
       "      <td>1011.0</td>\n",
       "    </tr>\n",
       "  </tbody>\n",
       "</table>\n",
       "</div>"
      ],
      "text/plain": [
       "          Date Time  Wind Speed m/s  Gust m/s  Humidity %  Chill Celsius  \\\n",
       "0  09/11/2022 00:00             3.3       6.7        84.0           12.9   \n",
       "1  10/11/2022 00:00             3.2      11.5        81.0           16.9   \n",
       "2  11/11/2022 00:00             3.1      12.5        82.0           16.9   \n",
       "3  12/11/2022 00:00             0.6       2.3        87.0           13.6   \n",
       "4  13/11/2022 00:00             0.8       5.5        87.0           14.8   \n",
       "\n",
       "   Chill Minimum Celsius  Temperature Average Celsius  \\\n",
       "0                   11.8                        12.74   \n",
       "1                   12.1                        14.59   \n",
       "2                   14.4                        15.40   \n",
       "3                   12.6                        13.27   \n",
       "4                   12.3                        13.95   \n",
       "\n",
       "   Temperature Range (low) Celsius  Temperature Range (high)  Celsius  \\\n",
       "0                             12.4                               13.0   \n",
       "1                             12.3                               16.9   \n",
       "2                             14.4                               16.9   \n",
       "3                             12.6                               13.6   \n",
       "4                             12.3                               14.8   \n",
       "\n",
       "   Air Pressure hPa  \n",
       "0            1000.3  \n",
       "1            1007.1  \n",
       "2            1013.6  \n",
       "3            1018.9  \n",
       "4            1011.0  "
      ]
     },
     "execution_count": 23,
     "metadata": {},
     "output_type": "execute_result"
    }
   ],
   "source": [
    "# https://www.analyticsvidhya.com/blog/2023/07/head-and-tail-functions/ - [Accessed 7 Nov. 2023]\n",
    "garden_weather.head()"
   ]
  },
  {
   "cell_type": "code",
   "execution_count": 24,
   "metadata": {},
   "outputs": [
    {
     "data": {
      "text/html": [
       "<div>\n",
       "<style scoped>\n",
       "    .dataframe tbody tr th:only-of-type {\n",
       "        vertical-align: middle;\n",
       "    }\n",
       "\n",
       "    .dataframe tbody tr th {\n",
       "        vertical-align: top;\n",
       "    }\n",
       "\n",
       "    .dataframe thead th {\n",
       "        text-align: right;\n",
       "    }\n",
       "</style>\n",
       "<table border=\"1\" class=\"dataframe\">\n",
       "  <thead>\n",
       "    <tr style=\"text-align: right;\">\n",
       "      <th></th>\n",
       "      <th>Date Time</th>\n",
       "      <th>Wind Speed m/s</th>\n",
       "      <th>Gust m/s</th>\n",
       "      <th>Humidity %</th>\n",
       "      <th>Chill Celsius</th>\n",
       "      <th>Chill Minimum Celsius</th>\n",
       "      <th>Temperature Average Celsius</th>\n",
       "      <th>Temperature Range (low) Celsius</th>\n",
       "      <th>Temperature Range (high)  Celsius</th>\n",
       "      <th>Air Pressure hPa</th>\n",
       "    </tr>\n",
       "  </thead>\n",
       "  <tbody>\n",
       "    <tr>\n",
       "      <th>355</th>\n",
       "      <td>30/10/2023 00:00</td>\n",
       "      <td>0.0</td>\n",
       "      <td>0.6</td>\n",
       "      <td>93.000000</td>\n",
       "      <td>13.9</td>\n",
       "      <td>4.7</td>\n",
       "      <td>8.940000</td>\n",
       "      <td>4.7</td>\n",
       "      <td>13.9</td>\n",
       "      <td>989.5</td>\n",
       "    </tr>\n",
       "    <tr>\n",
       "      <th>356</th>\n",
       "      <td>31/10/2023 00:00</td>\n",
       "      <td>0.6</td>\n",
       "      <td>2.5</td>\n",
       "      <td>93.000000</td>\n",
       "      <td>15.9</td>\n",
       "      <td>5.5</td>\n",
       "      <td>9.910000</td>\n",
       "      <td>5.5</td>\n",
       "      <td>15.9</td>\n",
       "      <td>994.5</td>\n",
       "    </tr>\n",
       "    <tr>\n",
       "      <th>357</th>\n",
       "      <td>01/11/2023 00:00</td>\n",
       "      <td>2.5</td>\n",
       "      <td>7.6</td>\n",
       "      <td>90.000000</td>\n",
       "      <td>12.8</td>\n",
       "      <td>3.0</td>\n",
       "      <td>8.790000</td>\n",
       "      <td>3.0</td>\n",
       "      <td>12.9</td>\n",
       "      <td>979.7</td>\n",
       "    </tr>\n",
       "    <tr>\n",
       "      <th>358</th>\n",
       "      <td>02/11/2023 00:00</td>\n",
       "      <td>1.9</td>\n",
       "      <td>5.6</td>\n",
       "      <td>88.000000</td>\n",
       "      <td>12.4</td>\n",
       "      <td>4.9</td>\n",
       "      <td>7.640000</td>\n",
       "      <td>5.0</td>\n",
       "      <td>12.4</td>\n",
       "      <td>973.1</td>\n",
       "    </tr>\n",
       "    <tr>\n",
       "      <th>359</th>\n",
       "      <td>03/11/2023 00:00</td>\n",
       "      <td>2.0</td>\n",
       "      <td>8.3</td>\n",
       "      <td>89.601351</td>\n",
       "      <td>12.8</td>\n",
       "      <td>4.6</td>\n",
       "      <td>8.248322</td>\n",
       "      <td>5.3</td>\n",
       "      <td>12.8</td>\n",
       "      <td>981.0</td>\n",
       "    </tr>\n",
       "  </tbody>\n",
       "</table>\n",
       "</div>"
      ],
      "text/plain": [
       "            Date Time  Wind Speed m/s  Gust m/s  Humidity %  Chill Celsius  \\\n",
       "355  30/10/2023 00:00             0.0       0.6   93.000000           13.9   \n",
       "356  31/10/2023 00:00             0.6       2.5   93.000000           15.9   \n",
       "357  01/11/2023 00:00             2.5       7.6   90.000000           12.8   \n",
       "358  02/11/2023 00:00             1.9       5.6   88.000000           12.4   \n",
       "359  03/11/2023 00:00             2.0       8.3   89.601351           12.8   \n",
       "\n",
       "     Chill Minimum Celsius  Temperature Average Celsius  \\\n",
       "355                    4.7                     8.940000   \n",
       "356                    5.5                     9.910000   \n",
       "357                    3.0                     8.790000   \n",
       "358                    4.9                     7.640000   \n",
       "359                    4.6                     8.248322   \n",
       "\n",
       "     Temperature Range (low) Celsius  Temperature Range (high)  Celsius  \\\n",
       "355                              4.7                               13.9   \n",
       "356                              5.5                               15.9   \n",
       "357                              3.0                               12.9   \n",
       "358                              5.0                               12.4   \n",
       "359                              5.3                               12.8   \n",
       "\n",
       "     Air Pressure hPa  \n",
       "355             989.5  \n",
       "356             994.5  \n",
       "357             979.7  \n",
       "358             973.1  \n",
       "359             981.0  "
      ]
     },
     "execution_count": 24,
     "metadata": {},
     "output_type": "execute_result"
    }
   ],
   "source": [
    "# https://www.analyticsvidhya.com/blog/2023/07/head-and-tail-functions/ - [Accessed 7 Nov. 2023]\n",
    "garden_weather.tail()"
   ]
  },
  {
   "cell_type": "markdown",
   "metadata": {},
   "source": [
    "Using Pandas the column names can be renamed to make them python friendly."
   ]
  },
  {
   "cell_type": "code",
   "execution_count": 25,
   "metadata": {},
   "outputs": [],
   "source": [
    "# python friendly columns list\n",
    "column_rename = ['date_time', 'wind_speed_m_s', 'gust_m_s', 'humidity_%', 'chill_celsius', 'chill_minimum_celsius', \n",
    "                 'temperature_average_celsius', 'temperature_range_low_celsius', 'temperature_range_high_celsius', 'outside_air_pres_hPa']\n",
    "\n",
    "# rename columns - https://www.geeksforgeeks.org/how-to-rename-columns-in-pandas-dataframe/ [Accessed 7 Nov. 2023].\n",
    "garden_weather.columns = column_rename"
   ]
  },
  {
   "cell_type": "markdown",
   "metadata": {},
   "source": [
    "The Pandas `info()` method is used to print more information about the DataFrame. The renamed columns can be seen in the output of this command. The Pandas Dtype (datatype) is displayed."
   ]
  },
  {
   "cell_type": "code",
   "execution_count": 26,
   "metadata": {},
   "outputs": [
    {
     "name": "stdout",
     "output_type": "stream",
     "text": [
      "<class 'pandas.core.frame.DataFrame'>\n",
      "RangeIndex: 360 entries, 0 to 359\n",
      "Data columns (total 10 columns):\n",
      " #   Column                          Non-Null Count  Dtype  \n",
      "---  ------                          --------------  -----  \n",
      " 0   date_time                       360 non-null    object \n",
      " 1   wind_speed_m_s                  359 non-null    float64\n",
      " 2   gust_m_s                        359 non-null    float64\n",
      " 3   humidity_%                      359 non-null    float64\n",
      " 4   chill_celsius                   359 non-null    float64\n",
      " 5   chill_minimum_celsius           359 non-null    float64\n",
      " 6   temperature_average_celsius     359 non-null    float64\n",
      " 7   temperature_range_low_celsius   359 non-null    float64\n",
      " 8   temperature_range_high_celsius  359 non-null    float64\n",
      " 9   outside_air_pres_hPa            359 non-null    float64\n",
      "dtypes: float64(9), object(1)\n",
      "memory usage: 28.3+ KB\n"
     ]
    }
   ],
   "source": [
    "# Code from https://www.w3schools.com/python/pandas/ref_df_info.asp [Accessed 7 Nov. 2023].\n",
    "garden_weather.info()"
   ]
  },
  {
   "cell_type": "markdown",
   "metadata": {},
   "source": [
    "The range index indicates that there are 360 rows in the dataset.\n",
    "\n",
    "The variables in the *date_time* column are stored as objects. The Pandas object datatype is used to store text or mixed numeric and non-numeric values (Moffitt, 2018). The values in this column are character strings and do not provide any datetime operations (e.g. extract the year, day of the week, etc.). The Pandas `to_datetime()` function can be applied to this data. Pandas interprets the strings and convert these to datetime objects. This allows for examining details during specific time periods of interest, and zooming out to explore variations on different time scales, such as monthly or annual aggregations, recurring patterns, and long-term trends (Walker, 2019)."
   ]
  },
  {
   "cell_type": "code",
   "execution_count": 27,
   "metadata": {},
   "outputs": [],
   "source": [
    "# https://pandas.pydata.org/docs/reference/api/pandas.to_datetime.html [Accessed 7 Nov. 2023]\n",
    "garden_weather['time_series'] = pd.to_datetime(garden_weather['date_time'], dayfirst=True, format='%d/%m/%Y %H:%M')\n",
    "\n",
    "# set time_series column as index\n",
    "# https://stackoverflow.com/questions/27032052/how-do-i-properly-set-the-datetimeindex-for-a-pandas-datetime-object-in-a-datafr [Accessed 7 Nov. 2023].\n",
    "garden_weather = garden_weather.set_index('time_series')"
   ]
  },
  {
   "cell_type": "markdown",
   "metadata": {},
   "source": [
    "The rest of the variables in the dataset are stored as 64bit floating point integers. 64-bit datatypes allow for a high degree of precision. However, use of 64-bit precision comes at a cost of computational overhead as more memory is required to complete calculations on these numbers due to their size.\n",
    "\n",
    "Of note, there is an issue caused by limitations in the way in which Python performs floating point arithmetic (docs.python.org, n.d.). Floating point numbers are stored in memory as base 2 binary fractions. Most decimal fractions cannot be represented exactly as binary fractions. Thus decimal floating-point numbers are only approximated by the binary floating-point numbers actually stored in the machine. This has the potential to cause inaccuracies when arithmetic is performed on floating point numbers in Python and could lead to inaccuracies when modelling data."
   ]
  },
  {
   "cell_type": "markdown",
   "metadata": {},
   "source": [
    "After re-indexing the DataFrame a quick visual check can be made to validate the changes. "
   ]
  },
  {
   "cell_type": "code",
   "execution_count": 28,
   "metadata": {},
   "outputs": [
    {
     "data": {
      "text/html": [
       "<div>\n",
       "<style scoped>\n",
       "    .dataframe tbody tr th:only-of-type {\n",
       "        vertical-align: middle;\n",
       "    }\n",
       "\n",
       "    .dataframe tbody tr th {\n",
       "        vertical-align: top;\n",
       "    }\n",
       "\n",
       "    .dataframe thead th {\n",
       "        text-align: right;\n",
       "    }\n",
       "</style>\n",
       "<table border=\"1\" class=\"dataframe\">\n",
       "  <thead>\n",
       "    <tr style=\"text-align: right;\">\n",
       "      <th></th>\n",
       "      <th>date_time</th>\n",
       "      <th>wind_speed_m_s</th>\n",
       "      <th>gust_m_s</th>\n",
       "      <th>humidity_%</th>\n",
       "      <th>chill_celsius</th>\n",
       "      <th>chill_minimum_celsius</th>\n",
       "      <th>temperature_average_celsius</th>\n",
       "      <th>temperature_range_low_celsius</th>\n",
       "      <th>temperature_range_high_celsius</th>\n",
       "      <th>outside_air_pres_hPa</th>\n",
       "    </tr>\n",
       "    <tr>\n",
       "      <th>time_series</th>\n",
       "      <th></th>\n",
       "      <th></th>\n",
       "      <th></th>\n",
       "      <th></th>\n",
       "      <th></th>\n",
       "      <th></th>\n",
       "      <th></th>\n",
       "      <th></th>\n",
       "      <th></th>\n",
       "      <th></th>\n",
       "    </tr>\n",
       "  </thead>\n",
       "  <tbody>\n",
       "    <tr>\n",
       "      <th>2022-11-09</th>\n",
       "      <td>09/11/2022 00:00</td>\n",
       "      <td>3.3</td>\n",
       "      <td>6.7</td>\n",
       "      <td>84.0</td>\n",
       "      <td>12.9</td>\n",
       "      <td>11.8</td>\n",
       "      <td>12.74</td>\n",
       "      <td>12.4</td>\n",
       "      <td>13.0</td>\n",
       "      <td>1000.3</td>\n",
       "    </tr>\n",
       "    <tr>\n",
       "      <th>2022-11-10</th>\n",
       "      <td>10/11/2022 00:00</td>\n",
       "      <td>3.2</td>\n",
       "      <td>11.5</td>\n",
       "      <td>81.0</td>\n",
       "      <td>16.9</td>\n",
       "      <td>12.1</td>\n",
       "      <td>14.59</td>\n",
       "      <td>12.3</td>\n",
       "      <td>16.9</td>\n",
       "      <td>1007.1</td>\n",
       "    </tr>\n",
       "    <tr>\n",
       "      <th>2022-11-11</th>\n",
       "      <td>11/11/2022 00:00</td>\n",
       "      <td>3.1</td>\n",
       "      <td>12.5</td>\n",
       "      <td>82.0</td>\n",
       "      <td>16.9</td>\n",
       "      <td>14.4</td>\n",
       "      <td>15.40</td>\n",
       "      <td>14.4</td>\n",
       "      <td>16.9</td>\n",
       "      <td>1013.6</td>\n",
       "    </tr>\n",
       "    <tr>\n",
       "      <th>2022-11-12</th>\n",
       "      <td>12/11/2022 00:00</td>\n",
       "      <td>0.6</td>\n",
       "      <td>2.3</td>\n",
       "      <td>87.0</td>\n",
       "      <td>13.6</td>\n",
       "      <td>12.6</td>\n",
       "      <td>13.27</td>\n",
       "      <td>12.6</td>\n",
       "      <td>13.6</td>\n",
       "      <td>1018.9</td>\n",
       "    </tr>\n",
       "    <tr>\n",
       "      <th>2022-11-13</th>\n",
       "      <td>13/11/2022 00:00</td>\n",
       "      <td>0.8</td>\n",
       "      <td>5.5</td>\n",
       "      <td>87.0</td>\n",
       "      <td>14.8</td>\n",
       "      <td>12.3</td>\n",
       "      <td>13.95</td>\n",
       "      <td>12.3</td>\n",
       "      <td>14.8</td>\n",
       "      <td>1011.0</td>\n",
       "    </tr>\n",
       "  </tbody>\n",
       "</table>\n",
       "</div>"
      ],
      "text/plain": [
       "                    date_time  wind_speed_m_s  gust_m_s  humidity_%  \\\n",
       "time_series                                                           \n",
       "2022-11-09   09/11/2022 00:00             3.3       6.7        84.0   \n",
       "2022-11-10   10/11/2022 00:00             3.2      11.5        81.0   \n",
       "2022-11-11   11/11/2022 00:00             3.1      12.5        82.0   \n",
       "2022-11-12   12/11/2022 00:00             0.6       2.3        87.0   \n",
       "2022-11-13   13/11/2022 00:00             0.8       5.5        87.0   \n",
       "\n",
       "             chill_celsius  chill_minimum_celsius  \\\n",
       "time_series                                         \n",
       "2022-11-09            12.9                   11.8   \n",
       "2022-11-10            16.9                   12.1   \n",
       "2022-11-11            16.9                   14.4   \n",
       "2022-11-12            13.6                   12.6   \n",
       "2022-11-13            14.8                   12.3   \n",
       "\n",
       "             temperature_average_celsius  temperature_range_low_celsius  \\\n",
       "time_series                                                               \n",
       "2022-11-09                         12.74                           12.4   \n",
       "2022-11-10                         14.59                           12.3   \n",
       "2022-11-11                         15.40                           14.4   \n",
       "2022-11-12                         13.27                           12.6   \n",
       "2022-11-13                         13.95                           12.3   \n",
       "\n",
       "             temperature_range_high_celsius  outside_air_pres_hPa  \n",
       "time_series                                                        \n",
       "2022-11-09                             13.0                1000.3  \n",
       "2022-11-10                             16.9                1007.1  \n",
       "2022-11-11                             16.9                1013.6  \n",
       "2022-11-12                             13.6                1018.9  \n",
       "2022-11-13                             14.8                1011.0  "
      ]
     },
     "execution_count": 28,
     "metadata": {},
     "output_type": "execute_result"
    }
   ],
   "source": [
    "# quick visual validation of the changes to the dataframe\n",
    "garden_weather.head()"
   ]
  },
  {
   "cell_type": "markdown",
   "metadata": {},
   "source": [
    "The dataset can be checked for missing values using the `isnull()` function chained with the `sum()` function."
   ]
  },
  {
   "cell_type": "code",
   "execution_count": 29,
   "metadata": {},
   "outputs": [
    {
     "data": {
      "text/plain": [
       "date_time                         0\n",
       "wind_speed_m_s                    1\n",
       "gust_m_s                          1\n",
       "humidity_%                        1\n",
       "chill_celsius                     1\n",
       "chill_minimum_celsius             1\n",
       "temperature_average_celsius       1\n",
       "temperature_range_low_celsius     1\n",
       "temperature_range_high_celsius    1\n",
       "outside_air_pres_hPa              1\n",
       "dtype: int64"
      ]
     },
     "execution_count": 29,
     "metadata": {},
     "output_type": "execute_result"
    }
   ],
   "source": [
    "# https://chartio.com/resources/tutorials/how-to-check-if-any-value-is-nan-in-a-pandas-dataframe/ - [Accessed 7 Nov. 2023].\n",
    "garden_weather.isnull().sum()"
   ]
  },
  {
   "cell_type": "markdown",
   "metadata": {},
   "source": [
    "One null values is demonstrated in all of the columns except the *date_time* column. The presence of missing values in any dataset is an issue in so far as it can create a lack of relatability or trustworthiness in the dataset (Kumar, 2021). Consequently, if a strategy to manage missing values during model development is not employed insight could be lost leading to incorrect results (Tamboli, 2021). To synthesis or model the dataset the null values will need to be managed.\n",
    "\n",
    "Inspect the dataset for any duplicate rows across all columns."
   ]
  },
  {
   "cell_type": "code",
   "execution_count": 30,
   "metadata": {},
   "outputs": [
    {
     "data": {
      "text/html": [
       "<div>\n",
       "<style scoped>\n",
       "    .dataframe tbody tr th:only-of-type {\n",
       "        vertical-align: middle;\n",
       "    }\n",
       "\n",
       "    .dataframe tbody tr th {\n",
       "        vertical-align: top;\n",
       "    }\n",
       "\n",
       "    .dataframe thead th {\n",
       "        text-align: right;\n",
       "    }\n",
       "</style>\n",
       "<table border=\"1\" class=\"dataframe\">\n",
       "  <thead>\n",
       "    <tr style=\"text-align: right;\">\n",
       "      <th></th>\n",
       "      <th>date_time</th>\n",
       "      <th>wind_speed_m_s</th>\n",
       "      <th>gust_m_s</th>\n",
       "      <th>humidity_%</th>\n",
       "      <th>chill_celsius</th>\n",
       "      <th>chill_minimum_celsius</th>\n",
       "      <th>temperature_average_celsius</th>\n",
       "      <th>temperature_range_low_celsius</th>\n",
       "      <th>temperature_range_high_celsius</th>\n",
       "      <th>outside_air_pres_hPa</th>\n",
       "    </tr>\n",
       "    <tr>\n",
       "      <th>time_series</th>\n",
       "      <th></th>\n",
       "      <th></th>\n",
       "      <th></th>\n",
       "      <th></th>\n",
       "      <th></th>\n",
       "      <th></th>\n",
       "      <th></th>\n",
       "      <th></th>\n",
       "      <th></th>\n",
       "      <th></th>\n",
       "    </tr>\n",
       "  </thead>\n",
       "  <tbody>\n",
       "  </tbody>\n",
       "</table>\n",
       "</div>"
      ],
      "text/plain": [
       "Empty DataFrame\n",
       "Columns: [date_time, wind_speed_m_s, gust_m_s, humidity_%, chill_celsius, chill_minimum_celsius, temperature_average_celsius, temperature_range_low_celsius, temperature_range_high_celsius, outside_air_pres_hPa]\n",
       "Index: []"
      ]
     },
     "execution_count": 30,
     "metadata": {},
     "output_type": "execute_result"
    }
   ],
   "source": [
    "# https://www.statology.org/pandas-find-duplicates/ [Accessed 07 Nov.2023]\n",
    "duplicate_rows = garden_weather[garden_weather.duplicated()]\n",
    "\n",
    "duplicate_rows"
   ]
  },
  {
   "cell_type": "markdown",
   "metadata": {},
   "source": [
    "No duplicate rows are demonstrated."
   ]
  },
  {
   "cell_type": "markdown",
   "metadata": {},
   "source": [
    "## Dataset Variables <a id=\"dataset-variables\"></a>"
   ]
  },
  {
   "cell_type": "markdown",
   "metadata": {},
   "source": [
    "The dataset consists of 10 variables. When examining the dataset variables it is useful to look at their classification as this in turn will dictate how they can be analysed.\n",
    "\n",
    "**Variable Classification Summary Table** (Summarised from Sharma, 2020)\n",
    "\n",
    "![Data Summary](images/illustrations/data_categories_18102023_sh.png \"Data Summary Graphic\")\n",
    "\n",
    "Levels of measurement tell how precisely variables are recorded (Bhandari, 2020) and are summarised as follows:\n",
    "\n",
    "**Levels of Measurement Summary Table**\n",
    "\n",
    "| Level             | Description                                                                   |\n",
    "| :-----------      | :----------                                                                   |\n",
    "| Nominal           | The data can only be categorized                                              |\n",
    "| Ordinal           | The data can be categorized and ranked                                        |\n",
    "| Interval          | The data can be categorized, ranked, and evenly spaced                        |\n",
    "| Ratio             | The data can be categorized, ranked, evenly spaced, and has a natural zero    |\n",
    "\n",
    "Applying variable classification and level of measurement the dataset can be summarised as follows:\n",
    "\n",
    "**Variable Summary Table**\n",
    "\n",
    "| Variable                      | Classification    | Type          | Python Dtype  | Unit of Measure   | Level of Measure  |\n",
    "| :----------                   | :----------       | :----------   | :----------   | :---------        | :---------        |\n",
    "| date_time                     | numerical         | *             | Object        | date              | interval          |\n",
    "| wind_speed_m_s                | numerical         | continuous    | float64       | m/s               | ratio             |\n",
    "| gust_m_s                      | numerical         | continuous    | float64       | m/s               | ratio             |\n",
    "| humidity_%                    | numerical         | continuous    | float64       | mm                | ratio             |\n",
    "| chill_celsius                 | numerical         | continuous    | float64       | mm                | ratio             |\n",
    "| chill_minimum_celsius         | numerical         | continuous    | float64       | degrees celcius   | interval          |\n",
    "| temperature_average_celsius   | numerical         | continuous    | float64       | degrees celcius   | interval          |\n",
    "| temperature_range_low_celsius | numerical         | continuous    | float64       | degrees celcius   | interval          |\n",
    "| temperature_range_high_celsius| numerical         | continuous    | float64       | degrees celcius   | interval          |\n",
    "| outside_air_pres_hPa          | numerical         | continuous    | float64       | hPa               | interval          |\n",
    "\n",
    "\\* date and time can be continuous or discreet depending on use (Treadwell, 2014).\n",
    "\n",
    "Complex mathematical operations can be carried out on interval and ratio datatypes. Measures of central tendancy on these datatypes include mode, median and arithemtic mean (Bhandari, 2020). The measure of variability include range, interquartile range standard deviation and variance (op. cit.). Knowing these measures for the variable will enable modelling of the data. These values can be automatically calculated using the Pandas `describe()` method (www.javatpoint.com, n.d.)."
   ]
  },
  {
   "cell_type": "code",
   "execution_count": 31,
   "metadata": {},
   "outputs": [
    {
     "data": {
      "text/html": [
       "<div>\n",
       "<style scoped>\n",
       "    .dataframe tbody tr th:only-of-type {\n",
       "        vertical-align: middle;\n",
       "    }\n",
       "\n",
       "    .dataframe tbody tr th {\n",
       "        vertical-align: top;\n",
       "    }\n",
       "\n",
       "    .dataframe thead th {\n",
       "        text-align: right;\n",
       "    }\n",
       "</style>\n",
       "<table border=\"1\" class=\"dataframe\">\n",
       "  <thead>\n",
       "    <tr style=\"text-align: right;\">\n",
       "      <th></th>\n",
       "      <th>wind_speed_m_s</th>\n",
       "      <th>gust_m_s</th>\n",
       "      <th>humidity_%</th>\n",
       "      <th>chill_celsius</th>\n",
       "      <th>chill_minimum_celsius</th>\n",
       "      <th>temperature_average_celsius</th>\n",
       "      <th>temperature_range_low_celsius</th>\n",
       "      <th>temperature_range_high_celsius</th>\n",
       "      <th>outside_air_pres_hPa</th>\n",
       "    </tr>\n",
       "  </thead>\n",
       "  <tbody>\n",
       "    <tr>\n",
       "      <th>count</th>\n",
       "      <td>359.000000</td>\n",
       "      <td>359.000000</td>\n",
       "      <td>359.000000</td>\n",
       "      <td>359.000000</td>\n",
       "      <td>359.000000</td>\n",
       "      <td>359.000000</td>\n",
       "      <td>359.000000</td>\n",
       "      <td>359.000000</td>\n",
       "      <td>359.000000</td>\n",
       "    </tr>\n",
       "    <tr>\n",
       "      <th>mean</th>\n",
       "      <td>1.698329</td>\n",
       "      <td>5.204735</td>\n",
       "      <td>81.166020</td>\n",
       "      <td>17.349025</td>\n",
       "      <td>7.145404</td>\n",
       "      <td>11.561806</td>\n",
       "      <td>7.419220</td>\n",
       "      <td>17.405850</td>\n",
       "      <td>1011.865738</td>\n",
       "    </tr>\n",
       "    <tr>\n",
       "      <th>std</th>\n",
       "      <td>1.105596</td>\n",
       "      <td>2.961325</td>\n",
       "      <td>5.671424</td>\n",
       "      <td>6.558507</td>\n",
       "      <td>4.898555</td>\n",
       "      <td>5.100804</td>\n",
       "      <td>4.684545</td>\n",
       "      <td>6.486319</td>\n",
       "      <td>13.269578</td>\n",
       "    </tr>\n",
       "    <tr>\n",
       "      <th>min</th>\n",
       "      <td>0.000000</td>\n",
       "      <td>0.000000</td>\n",
       "      <td>60.000000</td>\n",
       "      <td>3.400000</td>\n",
       "      <td>-5.800000</td>\n",
       "      <td>-1.750000</td>\n",
       "      <td>-5.800000</td>\n",
       "      <td>3.400000</td>\n",
       "      <td>973.100000</td>\n",
       "    </tr>\n",
       "    <tr>\n",
       "      <th>25%</th>\n",
       "      <td>0.800000</td>\n",
       "      <td>3.000000</td>\n",
       "      <td>78.000000</td>\n",
       "      <td>11.800000</td>\n",
       "      <td>3.650000</td>\n",
       "      <td>7.720000</td>\n",
       "      <td>4.100000</td>\n",
       "      <td>11.900000</td>\n",
       "      <td>1004.000000</td>\n",
       "    </tr>\n",
       "    <tr>\n",
       "      <th>50%</th>\n",
       "      <td>1.500000</td>\n",
       "      <td>4.600000</td>\n",
       "      <td>81.000000</td>\n",
       "      <td>17.400000</td>\n",
       "      <td>7.600000</td>\n",
       "      <td>11.650000</td>\n",
       "      <td>7.700000</td>\n",
       "      <td>17.400000</td>\n",
       "      <td>1013.200000</td>\n",
       "    </tr>\n",
       "    <tr>\n",
       "      <th>75%</th>\n",
       "      <td>2.300000</td>\n",
       "      <td>6.700000</td>\n",
       "      <td>85.000000</td>\n",
       "      <td>23.050000</td>\n",
       "      <td>11.200000</td>\n",
       "      <td>15.460000</td>\n",
       "      <td>11.200000</td>\n",
       "      <td>23.050000</td>\n",
       "      <td>1020.500000</td>\n",
       "    </tr>\n",
       "    <tr>\n",
       "      <th>max</th>\n",
       "      <td>5.500000</td>\n",
       "      <td>15.600000</td>\n",
       "      <td>94.000000</td>\n",
       "      <td>32.800000</td>\n",
       "      <td>17.800000</td>\n",
       "      <td>22.510000</td>\n",
       "      <td>17.800000</td>\n",
       "      <td>32.800000</td>\n",
       "      <td>1045.200000</td>\n",
       "    </tr>\n",
       "  </tbody>\n",
       "</table>\n",
       "</div>"
      ],
      "text/plain": [
       "       wind_speed_m_s    gust_m_s  humidity_%  chill_celsius  \\\n",
       "count      359.000000  359.000000  359.000000     359.000000   \n",
       "mean         1.698329    5.204735   81.166020      17.349025   \n",
       "std          1.105596    2.961325    5.671424       6.558507   \n",
       "min          0.000000    0.000000   60.000000       3.400000   \n",
       "25%          0.800000    3.000000   78.000000      11.800000   \n",
       "50%          1.500000    4.600000   81.000000      17.400000   \n",
       "75%          2.300000    6.700000   85.000000      23.050000   \n",
       "max          5.500000   15.600000   94.000000      32.800000   \n",
       "\n",
       "       chill_minimum_celsius  temperature_average_celsius  \\\n",
       "count             359.000000                   359.000000   \n",
       "mean                7.145404                    11.561806   \n",
       "std                 4.898555                     5.100804   \n",
       "min                -5.800000                    -1.750000   \n",
       "25%                 3.650000                     7.720000   \n",
       "50%                 7.600000                    11.650000   \n",
       "75%                11.200000                    15.460000   \n",
       "max                17.800000                    22.510000   \n",
       "\n",
       "       temperature_range_low_celsius  temperature_range_high_celsius  \\\n",
       "count                     359.000000                      359.000000   \n",
       "mean                        7.419220                       17.405850   \n",
       "std                         4.684545                        6.486319   \n",
       "min                        -5.800000                        3.400000   \n",
       "25%                         4.100000                       11.900000   \n",
       "50%                         7.700000                       17.400000   \n",
       "75%                        11.200000                       23.050000   \n",
       "max                        17.800000                       32.800000   \n",
       "\n",
       "       outside_air_pres_hPa  \n",
       "count            359.000000  \n",
       "mean            1011.865738  \n",
       "std               13.269578  \n",
       "min              973.100000  \n",
       "25%             1004.000000  \n",
       "50%             1013.200000  \n",
       "75%             1020.500000  \n",
       "max             1045.200000  "
      ]
     },
     "execution_count": 31,
     "metadata": {},
     "output_type": "execute_result"
    }
   ],
   "source": [
    "# assign variable so that values can be accessed later\n",
    "data_summary = garden_weather.describe()\n",
    "data_summary"
   ]
  },
  {
   "cell_type": "markdown",
   "metadata": {},
   "source": [
    "---"
   ]
  },
  {
   "cell_type": "markdown",
   "metadata": {},
   "source": [
    "## Random Probability Distribution <a id=\"random-probability-distribution\"></a>\n",
    "\n",
    "*\"In probability theory and statistics, a [probability distribution](https://en.wikipedia.org/wiki/Probability_distribution) is the mathematical function that gives the probabilities of occurrence of different possible outcomes for an experiment.\"* (Wikipedia Contributors, 2019).\n",
    "\n",
    "In order synthesise variables in the dataset it is insightful to visually represent the day in order to understand how the data is distributed. This can be achieved using the Matplotlib library to create histigrams of the dataset variables."
   ]
  },
  {
   "cell_type": "code",
   "execution_count": 32,
   "metadata": {},
   "outputs": [],
   "source": [
    "# import the required libraries\n",
    "import matplotlib.pyplot as plt\n",
    "import numpy as np"
   ]
  },
  {
   "cell_type": "markdown",
   "metadata": {},
   "source": [
    "Weather variables are subject to seasonal variation and therefore to create an accurate model of the dataset it becomes useful to break the data down by season."
   ]
  },
  {
   "cell_type": "code",
   "execution_count": 38,
   "metadata": {},
   "outputs": [
    {
     "data": {
      "text/plain": [
       "(87, 10)"
      ]
     },
     "execution_count": 38,
     "metadata": {},
     "output_type": "execute_result"
    }
   ],
   "source": [
    "winter = garden_weather[garden_weather.index.month_name().isin(['November', 'December', 'January'])].sort_index(ascending=True)\n",
    "spring = garden_weather[garden_weather.index.month_name().isin(['February', 'March', 'April'])].sort_index(ascending=True)\n",
    "summer = garden_weather[garden_weather.index.month_name().isin(['May', 'June', 'July'])].sort_index(ascending=True)\n",
    "autumn = garden_weather[garden_weather.index.month_name().isin(['August', 'September', 'October'])].sort_index(ascending=True)\n",
    "winter.shape"
   ]
  },
  {
   "cell_type": "code",
   "execution_count": 39,
   "metadata": {},
   "outputs": [
    {
     "data": {
      "text/plain": [
       "[Text(0.5, 0, 'value'), Text(0, 0.5, 'count')]"
      ]
     },
     "execution_count": 39,
     "metadata": {},
     "output_type": "execute_result"
    },
    {
     "data": {
      "image/png": "[encoded data removed]",
      "text/plain": [
       "<Figure size 750x300 with 2 Axes>"
      ]
     },
     "metadata": {},
     "output_type": "display_data"
    }
   ],
   "source": [
    "plt.rcParams[\"figure.figsize\"] = [7.5, 3]\n",
    "plt.rcParams[\"figure.autolayout\"] = True\n",
    "\n",
    "fig, axis = plt.subplots(1, 2)\n",
    "axis[0].hist(summer['wind_speed_m_s'], color = 'green', edgecolor = 'black', bins=15)\n",
    "axis[0].set_title(\"Wind Speed\")\n",
    "axis[0].set(xlabel='value', ylabel='count')\n",
    "axis[1].hist(summer['gust_m_s'], color = 'green', edgecolor = 'black', bins=15)\n",
    "axis[1].set_title(\"Wind Speed\")\n",
    "axis[1].set(xlabel='value', ylabel='count')"
   ]
  },
  {
   "cell_type": "code",
   "execution_count": 35,
   "metadata": {},
   "outputs": [
    {
     "data": {
      "text/plain": [
       "[Text(0.5, 0, 'value'), Text(0, 0.5, 'count')]"
      ]
     },
     "execution_count": 35,
     "metadata": {},
     "output_type": "execute_result"
    },
    {
     "data": {
      "image/png": "[encoded data removed]",
      "text/plain": [
       "<Figure size 750x300 with 2 Axes>"
      ]
     },
     "metadata": {},
     "output_type": "display_data"
    }
   ],
   "source": [
    "# seeding so the random numbers generated don't change when code is run, for demonstrative purposes\n",
    "seed = np.random.seed(2)\n",
    "\n",
    "s = np.random.weibull(1.29, 359)\n",
    "d = s*4\n",
    "\n",
    "plt.rcParams[\"figure.figsize\"] = [7.5, 3]\n",
    "plt.rcParams[\"figure.autolayout\"] = True\n",
    "\n",
    "fig, axis = plt.subplots(1, 2)\n",
    "axis[0].hist(s, color = 'grey', edgecolor = 'black', bins=15)\n",
    "axis[0].set_title(\"Wind Speed\")\n",
    "axis[0].set(xlabel='value', ylabel='count')\n",
    "axis[1].hist(d, color = 'grey', edgecolor = 'black', bins=15)\n",
    "axis[1].set_title(\"Wind Speed\")\n",
    "axis[1].set(xlabel='value', ylabel='count')"
   ]
  },
  {
   "cell_type": "markdown",
   "metadata": {},
   "source": [
    "## Associated Reading <a id=\"associated-reading\"></a>\n",
    "\n",
    "Flom, P. (2019). Are dates nominal, ordinal, interval or ratio? [online] Medium. Available at: https://medium.com/@peterflom/are-dates-nominal-ordinal-interval-or-ratio-ef567e10884 [Accessed 7 Nov. 2023].\n",
    "\n",
    "Matplotlib (2012). Matplotlib: Python plotting — Matplotlib 3.1.1 documentation. [online] Matplotlib.org. Available at: https://matplotlib.org/. [Accessed 8 Nov 2023].\n",
    "\n",
    "numpy.org. (n.d.). Overview — NumPy v1.21 Manual. [online] Available at: https://numpy.org/doc/stable/index.html. [Accessed 8 Nov. 2023].\n",
    "\n",
    "Pandas (2018). Python Data Analysis Library — pandas: Python Data Analysis Library. [online] Pydata.org. Available at: https://pandas.pydata.org/. [Accessed 03 Nov. 2023].\n",
    "\n",
    "pandas.pydata.org. (n.d.). API reference — pandas 1.1.4 documentation. [online] Available at: https://pandas.pydata.org/docs/reference/index.html. [Accessed 03 Nov. 2023].\n",
    "\n",
    "pandas.pydata.org. (n.d.). How to handle time series data with ease — pandas 2.1.2 documentation. [online] Available at: https://pandas.pydata.org/docs/getting_started/intro_tutorials/09_timeseries.html [Accessed 7 Nov. 2023].\n",
    "\n",
    "Stack Overflow. (n.d.). The real difference between float32 and float64. [online] Available at: https://stackoverflow.com/questions/43440821/the-real-difference-between-float32-and-float64 [Accessed 7 Nov. 2023].\n",
    "\n",
    "---\n",
    "\n",
    "*Notebook Ends*"
   ]
  }
 ],
 "metadata": {
  "kernelspec": {
   "display_name": "Python 3 (ipykernel)",
   "language": "python",
   "name": "python3"
  },
  "language_info": {
   "codemirror_mode": {
    "name": "ipython",
    "version": 3
   },
   "file_extension": ".py",
   "mimetype": "text/x-python",
   "name": "python",
   "nbconvert_exporter": "python",
   "pygments_lexer": "ipython3",
   "version": "3.11.5"
  }
 },
 "nbformat": 4,
 "nbformat_minor": 2
}
