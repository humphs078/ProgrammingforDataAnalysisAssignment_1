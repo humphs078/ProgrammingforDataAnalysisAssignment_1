{
 "cells": [
  {
   "cell_type": "markdown",
   "metadata": {},
   "source": [
    "# Programming for Data Analysis Assignment 1 Notebook\n",
    "\n",
    "Author - Sean Humphreys\n",
    "\n",
    "---\n",
    "\n",
    "## Contents\n",
    "\n",
    "1. [Introduction](#introduction)\n",
    "2. [Definitions](#definitions)\n",
    "3. [Dataset Exploration](#dataset-exploration)\n",
    "4. [Dataset Variables](#dataset-variables)\n",
    "5. [Random Probability Distribution](#random-probability-distribution)\n",
    "4. [References](#references)\n",
    "5. [Associated Reading](#associated-reading)\n",
    "\n",
    "---"
   ]
  },
  {
   "cell_type": "markdown",
   "metadata": {},
   "source": [
    "## Introduction <a id=\"introduction\"></a>\n",
    "\n",
    "The dataset explored and synthesised in this notebook is from a weather sensor in the author's back garden. The data extract is in the form of a csv. The source data csv can be accessed [here](datasets/back_garden_sensor_data_12_months.csv). The extract contains local weather data captured over a 12 month period.\n",
    "\n",
    "---"
   ]
  },
  {
   "cell_type": "markdown",
   "metadata": {},
   "source": [
    "## Definitions <a id=\"definitions\"></a>\n",
    "\n",
    "- [Matplotlib](https://matplotlib.org/) (https://matplotlib.org/ - last accesssed 8 Nov. 2023) - is an opensource software library for creating static, animated, and interactive visualizations in Python.\n",
    "- [Numpy](https://numpy.org/doc/stable/index.html) (https://numpy.org/doc/stable/index.html - last accessed 8. Nov 2023) - is an opensource software library for the Python, adding support for large, multi-dimensional arrays and matrices, along with a large collection of high-level mathematical functions to operate on these arrays. \n",
    "- [Pandas](https://pandas.pydata.org/) (https://pandas.pydata.org/ - last accessed 3 Nov. 2023) is an open source software library used in data analytics that allows data analysis and manipulation. Pandas is built on top of the *Python* programming language. A Pandas DataFrame is a dictionary like container for Series objects. A DataFrame is the primary Pandas data structure.\n",
    "\n",
    "---"
   ]
  },
  {
   "cell_type": "markdown",
   "metadata": {},
   "source": [
    "## Dataset Exploration <a id=\"dataset-exploration\"></a>\n",
    "\n",
    "Import the Pandas software library. Pandas can be used to make datasets clean and process datasets."
   ]
  },
  {
   "cell_type": "code",
   "execution_count": 1,
   "metadata": {},
   "outputs": [],
   "source": [
    "# import the required python libraries\n",
    "import pandas as pd"
   ]
  },
  {
   "cell_type": "markdown",
   "metadata": {},
   "source": [
    "Read in the source data CSV file."
   ]
  },
  {
   "cell_type": "code",
   "execution_count": 2,
   "metadata": {},
   "outputs": [],
   "source": [
    "# use pandas to read in the dataset\n",
    "garden_weather = pd.read_csv('datasets/back_garden_sensor_data_12_months.csv')"
   ]
  },
  {
   "cell_type": "markdown",
   "metadata": {},
   "source": [
    "Visually inspect the top and bottom of the dataframe to ascertain if there is any obvious data quality issues. This is done using the Pandas `head()` and `tail()` methods. The frist and last 5 rows of data are checked."
   ]
  },
  {
   "cell_type": "code",
   "execution_count": 3,
   "metadata": {},
   "outputs": [
    {
     "data": {
      "text/html": [
       "<div>\n",
       "<style scoped>\n",
       "    .dataframe tbody tr th:only-of-type {\n",
       "        vertical-align: middle;\n",
       "    }\n",
       "\n",
       "    .dataframe tbody tr th {\n",
       "        vertical-align: top;\n",
       "    }\n",
       "\n",
       "    .dataframe thead th {\n",
       "        text-align: right;\n",
       "    }\n",
       "</style>\n",
       "<table border=\"1\" class=\"dataframe\">\n",
       "  <thead>\n",
       "    <tr style=\"text-align: right;\">\n",
       "      <th></th>\n",
       "      <th>Date Time</th>\n",
       "      <th>Wind Speed m/s</th>\n",
       "      <th>Gust m/s</th>\n",
       "      <th>Humidity %</th>\n",
       "      <th>Chill Celsius</th>\n",
       "      <th>Chill Minimum Celsius</th>\n",
       "      <th>Temperature Average Celsius</th>\n",
       "      <th>Temperature Range (low) Celsius</th>\n",
       "      <th>Temperature Range (high)  Celsius</th>\n",
       "      <th>Air Pressure hPa</th>\n",
       "    </tr>\n",
       "  </thead>\n",
       "  <tbody>\n",
       "    <tr>\n",
       "      <th>0</th>\n",
       "      <td>09/11/2022 00:00</td>\n",
       "      <td>3.3</td>\n",
       "      <td>6.7</td>\n",
       "      <td>84.0</td>\n",
       "      <td>12.9</td>\n",
       "      <td>11.8</td>\n",
       "      <td>12.74</td>\n",
       "      <td>12.4</td>\n",
       "      <td>13.0</td>\n",
       "      <td>1000.3</td>\n",
       "    </tr>\n",
       "    <tr>\n",
       "      <th>1</th>\n",
       "      <td>10/11/2022 00:00</td>\n",
       "      <td>3.2</td>\n",
       "      <td>11.5</td>\n",
       "      <td>81.0</td>\n",
       "      <td>16.9</td>\n",
       "      <td>12.1</td>\n",
       "      <td>14.59</td>\n",
       "      <td>12.3</td>\n",
       "      <td>16.9</td>\n",
       "      <td>1007.1</td>\n",
       "    </tr>\n",
       "    <tr>\n",
       "      <th>2</th>\n",
       "      <td>11/11/2022 00:00</td>\n",
       "      <td>3.1</td>\n",
       "      <td>12.5</td>\n",
       "      <td>82.0</td>\n",
       "      <td>16.9</td>\n",
       "      <td>14.4</td>\n",
       "      <td>15.40</td>\n",
       "      <td>14.4</td>\n",
       "      <td>16.9</td>\n",
       "      <td>1013.6</td>\n",
       "    </tr>\n",
       "    <tr>\n",
       "      <th>3</th>\n",
       "      <td>12/11/2022 00:00</td>\n",
       "      <td>0.6</td>\n",
       "      <td>2.3</td>\n",
       "      <td>87.0</td>\n",
       "      <td>13.6</td>\n",
       "      <td>12.6</td>\n",
       "      <td>13.27</td>\n",
       "      <td>12.6</td>\n",
       "      <td>13.6</td>\n",
       "      <td>1018.9</td>\n",
       "    </tr>\n",
       "    <tr>\n",
       "      <th>4</th>\n",
       "      <td>13/11/2022 00:00</td>\n",
       "      <td>0.8</td>\n",
       "      <td>5.5</td>\n",
       "      <td>87.0</td>\n",
       "      <td>14.8</td>\n",
       "      <td>12.3</td>\n",
       "      <td>13.95</td>\n",
       "      <td>12.3</td>\n",
       "      <td>14.8</td>\n",
       "      <td>1011.0</td>\n",
       "    </tr>\n",
       "  </tbody>\n",
       "</table>\n",
       "</div>"
      ],
      "text/plain": [
       "          Date Time  Wind Speed m/s  Gust m/s  Humidity %  Chill Celsius  \\\n",
       "0  09/11/2022 00:00             3.3       6.7        84.0           12.9   \n",
       "1  10/11/2022 00:00             3.2      11.5        81.0           16.9   \n",
       "2  11/11/2022 00:00             3.1      12.5        82.0           16.9   \n",
       "3  12/11/2022 00:00             0.6       2.3        87.0           13.6   \n",
       "4  13/11/2022 00:00             0.8       5.5        87.0           14.8   \n",
       "\n",
       "   Chill Minimum Celsius  Temperature Average Celsius  \\\n",
       "0                   11.8                        12.74   \n",
       "1                   12.1                        14.59   \n",
       "2                   14.4                        15.40   \n",
       "3                   12.6                        13.27   \n",
       "4                   12.3                        13.95   \n",
       "\n",
       "   Temperature Range (low) Celsius  Temperature Range (high)  Celsius  \\\n",
       "0                             12.4                               13.0   \n",
       "1                             12.3                               16.9   \n",
       "2                             14.4                               16.9   \n",
       "3                             12.6                               13.6   \n",
       "4                             12.3                               14.8   \n",
       "\n",
       "   Air Pressure hPa  \n",
       "0            1000.3  \n",
       "1            1007.1  \n",
       "2            1013.6  \n",
       "3            1018.9  \n",
       "4            1011.0  "
      ]
     },
     "execution_count": 3,
     "metadata": {},
     "output_type": "execute_result"
    }
   ],
   "source": [
    "# https://www.analyticsvidhya.com/blog/2023/07/head-and-tail-functions/ - [Accessed 7 Nov. 2023]\n",
    "garden_weather.head()"
   ]
  },
  {
   "cell_type": "code",
   "execution_count": 4,
   "metadata": {},
   "outputs": [
    {
     "data": {
      "text/html": [
       "<div>\n",
       "<style scoped>\n",
       "    .dataframe tbody tr th:only-of-type {\n",
       "        vertical-align: middle;\n",
       "    }\n",
       "\n",
       "    .dataframe tbody tr th {\n",
       "        vertical-align: top;\n",
       "    }\n",
       "\n",
       "    .dataframe thead th {\n",
       "        text-align: right;\n",
       "    }\n",
       "</style>\n",
       "<table border=\"1\" class=\"dataframe\">\n",
       "  <thead>\n",
       "    <tr style=\"text-align: right;\">\n",
       "      <th></th>\n",
       "      <th>Date Time</th>\n",
       "      <th>Wind Speed m/s</th>\n",
       "      <th>Gust m/s</th>\n",
       "      <th>Humidity %</th>\n",
       "      <th>Chill Celsius</th>\n",
       "      <th>Chill Minimum Celsius</th>\n",
       "      <th>Temperature Average Celsius</th>\n",
       "      <th>Temperature Range (low) Celsius</th>\n",
       "      <th>Temperature Range (high)  Celsius</th>\n",
       "      <th>Air Pressure hPa</th>\n",
       "    </tr>\n",
       "  </thead>\n",
       "  <tbody>\n",
       "    <tr>\n",
       "      <th>355</th>\n",
       "      <td>30/10/2023 00:00</td>\n",
       "      <td>0.0</td>\n",
       "      <td>0.6</td>\n",
       "      <td>93.000000</td>\n",
       "      <td>13.9</td>\n",
       "      <td>4.7</td>\n",
       "      <td>8.940000</td>\n",
       "      <td>4.7</td>\n",
       "      <td>13.9</td>\n",
       "      <td>989.5</td>\n",
       "    </tr>\n",
       "    <tr>\n",
       "      <th>356</th>\n",
       "      <td>31/10/2023 00:00</td>\n",
       "      <td>0.6</td>\n",
       "      <td>2.5</td>\n",
       "      <td>93.000000</td>\n",
       "      <td>15.9</td>\n",
       "      <td>5.5</td>\n",
       "      <td>9.910000</td>\n",
       "      <td>5.5</td>\n",
       "      <td>15.9</td>\n",
       "      <td>994.5</td>\n",
       "    </tr>\n",
       "    <tr>\n",
       "      <th>357</th>\n",
       "      <td>01/11/2023 00:00</td>\n",
       "      <td>2.5</td>\n",
       "      <td>7.6</td>\n",
       "      <td>90.000000</td>\n",
       "      <td>12.8</td>\n",
       "      <td>3.0</td>\n",
       "      <td>8.790000</td>\n",
       "      <td>3.0</td>\n",
       "      <td>12.9</td>\n",
       "      <td>979.7</td>\n",
       "    </tr>\n",
       "    <tr>\n",
       "      <th>358</th>\n",
       "      <td>02/11/2023 00:00</td>\n",
       "      <td>1.9</td>\n",
       "      <td>5.6</td>\n",
       "      <td>88.000000</td>\n",
       "      <td>12.4</td>\n",
       "      <td>4.9</td>\n",
       "      <td>7.640000</td>\n",
       "      <td>5.0</td>\n",
       "      <td>12.4</td>\n",
       "      <td>973.1</td>\n",
       "    </tr>\n",
       "    <tr>\n",
       "      <th>359</th>\n",
       "      <td>03/11/2023 00:00</td>\n",
       "      <td>2.0</td>\n",
       "      <td>8.3</td>\n",
       "      <td>89.601351</td>\n",
       "      <td>12.8</td>\n",
       "      <td>4.6</td>\n",
       "      <td>8.248322</td>\n",
       "      <td>5.3</td>\n",
       "      <td>12.8</td>\n",
       "      <td>981.0</td>\n",
       "    </tr>\n",
       "  </tbody>\n",
       "</table>\n",
       "</div>"
      ],
      "text/plain": [
       "            Date Time  Wind Speed m/s  Gust m/s  Humidity %  Chill Celsius  \\\n",
       "355  30/10/2023 00:00             0.0       0.6   93.000000           13.9   \n",
       "356  31/10/2023 00:00             0.6       2.5   93.000000           15.9   \n",
       "357  01/11/2023 00:00             2.5       7.6   90.000000           12.8   \n",
       "358  02/11/2023 00:00             1.9       5.6   88.000000           12.4   \n",
       "359  03/11/2023 00:00             2.0       8.3   89.601351           12.8   \n",
       "\n",
       "     Chill Minimum Celsius  Temperature Average Celsius  \\\n",
       "355                    4.7                     8.940000   \n",
       "356                    5.5                     9.910000   \n",
       "357                    3.0                     8.790000   \n",
       "358                    4.9                     7.640000   \n",
       "359                    4.6                     8.248322   \n",
       "\n",
       "     Temperature Range (low) Celsius  Temperature Range (high)  Celsius  \\\n",
       "355                              4.7                               13.9   \n",
       "356                              5.5                               15.9   \n",
       "357                              3.0                               12.9   \n",
       "358                              5.0                               12.4   \n",
       "359                              5.3                               12.8   \n",
       "\n",
       "     Air Pressure hPa  \n",
       "355             989.5  \n",
       "356             994.5  \n",
       "357             979.7  \n",
       "358             973.1  \n",
       "359             981.0  "
      ]
     },
     "execution_count": 4,
     "metadata": {},
     "output_type": "execute_result"
    }
   ],
   "source": [
    "# https://www.analyticsvidhya.com/blog/2023/07/head-and-tail-functions/ - [Accessed 7 Nov. 2023]\n",
    "garden_weather.tail()"
   ]
  },
  {
   "cell_type": "markdown",
   "metadata": {},
   "source": [
    "Using Pandas the column names can be renamed to make them python friendly."
   ]
  },
  {
   "cell_type": "code",
   "execution_count": 5,
   "metadata": {},
   "outputs": [],
   "source": [
    "# python friendly column names list\n",
    "column_rename = ['date_time', 'wind_speed_m_s', 'gust_m_s', 'humidity_%', 'chill_celsius', 'chill_minimum_celsius', \n",
    "                 'temperature_average_celsius', 'temperature_range_low_celsius', 'temperature_range_high_celsius', 'outside_air_pres_hPa']\n",
    "\n",
    "# rename columns - https://www.geeksforgeeks.org/how-to-rename-columns-in-pandas-dataframe/ [Accessed 7 Nov. 2023].\n",
    "garden_weather.columns = column_rename"
   ]
  },
  {
   "cell_type": "markdown",
   "metadata": {},
   "source": [
    "The Pandas `info()` method is used to print more information about the DataFrame. The renamed columns can be seen in the output of this command. The Pandas Dtype (datatype) is displayed."
   ]
  },
  {
   "cell_type": "code",
   "execution_count": 6,
   "metadata": {},
   "outputs": [
    {
     "name": "stdout",
     "output_type": "stream",
     "text": [
      "<class 'pandas.core.frame.DataFrame'>\n",
      "RangeIndex: 360 entries, 0 to 359\n",
      "Data columns (total 10 columns):\n",
      " #   Column                          Non-Null Count  Dtype  \n",
      "---  ------                          --------------  -----  \n",
      " 0   date_time                       360 non-null    object \n",
      " 1   wind_speed_m_s                  359 non-null    float64\n",
      " 2   gust_m_s                        359 non-null    float64\n",
      " 3   humidity_%                      359 non-null    float64\n",
      " 4   chill_celsius                   359 non-null    float64\n",
      " 5   chill_minimum_celsius           359 non-null    float64\n",
      " 6   temperature_average_celsius     359 non-null    float64\n",
      " 7   temperature_range_low_celsius   359 non-null    float64\n",
      " 8   temperature_range_high_celsius  359 non-null    float64\n",
      " 9   outside_air_pres_hPa            359 non-null    float64\n",
      "dtypes: float64(9), object(1)\n",
      "memory usage: 28.3+ KB\n"
     ]
    }
   ],
   "source": [
    "# Code from https://www.w3schools.com/python/pandas/ref_df_info.asp [Accessed 7 Nov. 2023].\n",
    "garden_weather.info()"
   ]
  },
  {
   "cell_type": "markdown",
   "metadata": {},
   "source": [
    "The range index indicates that there are 360 rows in the dataset.\n",
    "\n",
    "The variables in the *date_time* column are stored as objects. The Pandas object datatype is used to store text or mixed numeric and non-numeric values (Moffitt, 2018). The values in this column are character strings and do not provide any datetime operations (e.g. extract the year, day of the week, etc.). The Pandas `to_datetime()` function can be applied to this data. Pandas interprets the strings and convert these to datetime objects. This allows for examining details during specific time periods of interest, and zooming out to explore variations on different time scales, such as monthly or annual aggregations, recurring patterns, and long-term trends (Walker, 2019)."
   ]
  },
  {
   "cell_type": "code",
   "execution_count": 7,
   "metadata": {},
   "outputs": [],
   "source": [
    "# https://pandas.pydata.org/docs/reference/api/pandas.to_datetime.html [Accessed 7 Nov. 2023]\n",
    "garden_weather['time_series'] = pd.to_datetime(garden_weather['date_time'], dayfirst=True, format='%d/%m/%Y %H:%M')\n",
    "\n",
    "# set time_series column as index\n",
    "# https://stackoverflow.com/questions/27032052/how-do-i-properly-set-the-datetimeindex-for-a-pandas-datetime-object-in-a-datafr [Accessed 7 Nov. 2023].\n",
    "garden_weather = garden_weather.set_index('time_series')"
   ]
  },
  {
   "cell_type": "markdown",
   "metadata": {},
   "source": [
    "The rest of the variables in the dataset are stored as 64bit floating point integers. 64-bit datatypes allow for a high degree of precision. However, use of 64-bit precision comes at a cost of computational overhead as more memory is required to complete calculations on these numbers due to their size.\n",
    "\n",
    "Of note, there is an issue caused by limitations in the way in which Python performs floating point arithmetic (docs.python.org, n.d.). Floating point numbers are stored in memory as base 2 binary fractions. Most decimal fractions cannot be represented exactly as binary fractions. Thus decimal floating-point numbers are only approximated by the binary floating-point numbers actually stored in the machine. This has the potential to cause inaccuracies when arithmetic is performed on floating point numbers in Python and could lead to inaccuracies when modelling data."
   ]
  },
  {
   "cell_type": "markdown",
   "metadata": {},
   "source": [
    "After re-indexing the DataFrame a quick visual check can be made to validate the changes. "
   ]
  },
  {
   "cell_type": "code",
   "execution_count": 8,
   "metadata": {},
   "outputs": [
    {
     "data": {
      "text/html": [
       "<div>\n",
       "<style scoped>\n",
       "    .dataframe tbody tr th:only-of-type {\n",
       "        vertical-align: middle;\n",
       "    }\n",
       "\n",
       "    .dataframe tbody tr th {\n",
       "        vertical-align: top;\n",
       "    }\n",
       "\n",
       "    .dataframe thead th {\n",
       "        text-align: right;\n",
       "    }\n",
       "</style>\n",
       "<table border=\"1\" class=\"dataframe\">\n",
       "  <thead>\n",
       "    <tr style=\"text-align: right;\">\n",
       "      <th></th>\n",
       "      <th>date_time</th>\n",
       "      <th>wind_speed_m_s</th>\n",
       "      <th>gust_m_s</th>\n",
       "      <th>humidity_%</th>\n",
       "      <th>chill_celsius</th>\n",
       "      <th>chill_minimum_celsius</th>\n",
       "      <th>temperature_average_celsius</th>\n",
       "      <th>temperature_range_low_celsius</th>\n",
       "      <th>temperature_range_high_celsius</th>\n",
       "      <th>outside_air_pres_hPa</th>\n",
       "    </tr>\n",
       "    <tr>\n",
       "      <th>time_series</th>\n",
       "      <th></th>\n",
       "      <th></th>\n",
       "      <th></th>\n",
       "      <th></th>\n",
       "      <th></th>\n",
       "      <th></th>\n",
       "      <th></th>\n",
       "      <th></th>\n",
       "      <th></th>\n",
       "      <th></th>\n",
       "    </tr>\n",
       "  </thead>\n",
       "  <tbody>\n",
       "    <tr>\n",
       "      <th>2022-11-09</th>\n",
       "      <td>09/11/2022 00:00</td>\n",
       "      <td>3.3</td>\n",
       "      <td>6.7</td>\n",
       "      <td>84.0</td>\n",
       "      <td>12.9</td>\n",
       "      <td>11.8</td>\n",
       "      <td>12.74</td>\n",
       "      <td>12.4</td>\n",
       "      <td>13.0</td>\n",
       "      <td>1000.3</td>\n",
       "    </tr>\n",
       "    <tr>\n",
       "      <th>2022-11-10</th>\n",
       "      <td>10/11/2022 00:00</td>\n",
       "      <td>3.2</td>\n",
       "      <td>11.5</td>\n",
       "      <td>81.0</td>\n",
       "      <td>16.9</td>\n",
       "      <td>12.1</td>\n",
       "      <td>14.59</td>\n",
       "      <td>12.3</td>\n",
       "      <td>16.9</td>\n",
       "      <td>1007.1</td>\n",
       "    </tr>\n",
       "    <tr>\n",
       "      <th>2022-11-11</th>\n",
       "      <td>11/11/2022 00:00</td>\n",
       "      <td>3.1</td>\n",
       "      <td>12.5</td>\n",
       "      <td>82.0</td>\n",
       "      <td>16.9</td>\n",
       "      <td>14.4</td>\n",
       "      <td>15.40</td>\n",
       "      <td>14.4</td>\n",
       "      <td>16.9</td>\n",
       "      <td>1013.6</td>\n",
       "    </tr>\n",
       "    <tr>\n",
       "      <th>2022-11-12</th>\n",
       "      <td>12/11/2022 00:00</td>\n",
       "      <td>0.6</td>\n",
       "      <td>2.3</td>\n",
       "      <td>87.0</td>\n",
       "      <td>13.6</td>\n",
       "      <td>12.6</td>\n",
       "      <td>13.27</td>\n",
       "      <td>12.6</td>\n",
       "      <td>13.6</td>\n",
       "      <td>1018.9</td>\n",
       "    </tr>\n",
       "    <tr>\n",
       "      <th>2022-11-13</th>\n",
       "      <td>13/11/2022 00:00</td>\n",
       "      <td>0.8</td>\n",
       "      <td>5.5</td>\n",
       "      <td>87.0</td>\n",
       "      <td>14.8</td>\n",
       "      <td>12.3</td>\n",
       "      <td>13.95</td>\n",
       "      <td>12.3</td>\n",
       "      <td>14.8</td>\n",
       "      <td>1011.0</td>\n",
       "    </tr>\n",
       "  </tbody>\n",
       "</table>\n",
       "</div>"
      ],
      "text/plain": [
       "                    date_time  wind_speed_m_s  gust_m_s  humidity_%  \\\n",
       "time_series                                                           \n",
       "2022-11-09   09/11/2022 00:00             3.3       6.7        84.0   \n",
       "2022-11-10   10/11/2022 00:00             3.2      11.5        81.0   \n",
       "2022-11-11   11/11/2022 00:00             3.1      12.5        82.0   \n",
       "2022-11-12   12/11/2022 00:00             0.6       2.3        87.0   \n",
       "2022-11-13   13/11/2022 00:00             0.8       5.5        87.0   \n",
       "\n",
       "             chill_celsius  chill_minimum_celsius  \\\n",
       "time_series                                         \n",
       "2022-11-09            12.9                   11.8   \n",
       "2022-11-10            16.9                   12.1   \n",
       "2022-11-11            16.9                   14.4   \n",
       "2022-11-12            13.6                   12.6   \n",
       "2022-11-13            14.8                   12.3   \n",
       "\n",
       "             temperature_average_celsius  temperature_range_low_celsius  \\\n",
       "time_series                                                               \n",
       "2022-11-09                         12.74                           12.4   \n",
       "2022-11-10                         14.59                           12.3   \n",
       "2022-11-11                         15.40                           14.4   \n",
       "2022-11-12                         13.27                           12.6   \n",
       "2022-11-13                         13.95                           12.3   \n",
       "\n",
       "             temperature_range_high_celsius  outside_air_pres_hPa  \n",
       "time_series                                                        \n",
       "2022-11-09                             13.0                1000.3  \n",
       "2022-11-10                             16.9                1007.1  \n",
       "2022-11-11                             16.9                1013.6  \n",
       "2022-11-12                             13.6                1018.9  \n",
       "2022-11-13                             14.8                1011.0  "
      ]
     },
     "execution_count": 8,
     "metadata": {},
     "output_type": "execute_result"
    }
   ],
   "source": [
    "# quick visual validation of the changes to the dataframe\n",
    "garden_weather.head()"
   ]
  },
  {
   "cell_type": "markdown",
   "metadata": {},
   "source": [
    "The dataset can be checked for missing values using the `isnull()` function chained with the `sum()` function."
   ]
  },
  {
   "cell_type": "code",
   "execution_count": 9,
   "metadata": {},
   "outputs": [
    {
     "data": {
      "text/plain": [
       "date_time                         0\n",
       "wind_speed_m_s                    1\n",
       "gust_m_s                          1\n",
       "humidity_%                        1\n",
       "chill_celsius                     1\n",
       "chill_minimum_celsius             1\n",
       "temperature_average_celsius       1\n",
       "temperature_range_low_celsius     1\n",
       "temperature_range_high_celsius    1\n",
       "outside_air_pres_hPa              1\n",
       "dtype: int64"
      ]
     },
     "execution_count": 9,
     "metadata": {},
     "output_type": "execute_result"
    }
   ],
   "source": [
    "# https://chartio.com/resources/tutorials/how-to-check-if-any-value-is-nan-in-a-pandas-dataframe/ - [Accessed 7 Nov. 2023].\n",
    "garden_weather.isnull().sum()"
   ]
  },
  {
   "cell_type": "markdown",
   "metadata": {},
   "source": [
    "One null values is demonstrated in all of the columns except the *date_time* column. The presence of missing values in any dataset is an issue in so far as it can create a lack of relatability or trustworthiness in the dataset (Kumar, 2021). Consequently, if a strategy to manage missing values during model development is not employed insight could be lost leading to incorrect results (Tamboli, 2021). To synthesis or model the dataset the null values will need to be managed.\n",
    "\n",
    "Inspect the dataset for any duplicate rows across all columns."
   ]
  },
  {
   "cell_type": "code",
   "execution_count": 10,
   "metadata": {},
   "outputs": [
    {
     "data": {
      "text/html": [
       "<div>\n",
       "<style scoped>\n",
       "    .dataframe tbody tr th:only-of-type {\n",
       "        vertical-align: middle;\n",
       "    }\n",
       "\n",
       "    .dataframe tbody tr th {\n",
       "        vertical-align: top;\n",
       "    }\n",
       "\n",
       "    .dataframe thead th {\n",
       "        text-align: right;\n",
       "    }\n",
       "</style>\n",
       "<table border=\"1\" class=\"dataframe\">\n",
       "  <thead>\n",
       "    <tr style=\"text-align: right;\">\n",
       "      <th></th>\n",
       "      <th>date_time</th>\n",
       "      <th>wind_speed_m_s</th>\n",
       "      <th>gust_m_s</th>\n",
       "      <th>humidity_%</th>\n",
       "      <th>chill_celsius</th>\n",
       "      <th>chill_minimum_celsius</th>\n",
       "      <th>temperature_average_celsius</th>\n",
       "      <th>temperature_range_low_celsius</th>\n",
       "      <th>temperature_range_high_celsius</th>\n",
       "      <th>outside_air_pres_hPa</th>\n",
       "    </tr>\n",
       "    <tr>\n",
       "      <th>time_series</th>\n",
       "      <th></th>\n",
       "      <th></th>\n",
       "      <th></th>\n",
       "      <th></th>\n",
       "      <th></th>\n",
       "      <th></th>\n",
       "      <th></th>\n",
       "      <th></th>\n",
       "      <th></th>\n",
       "      <th></th>\n",
       "    </tr>\n",
       "  </thead>\n",
       "  <tbody>\n",
       "  </tbody>\n",
       "</table>\n",
       "</div>"
      ],
      "text/plain": [
       "Empty DataFrame\n",
       "Columns: [date_time, wind_speed_m_s, gust_m_s, humidity_%, chill_celsius, chill_minimum_celsius, temperature_average_celsius, temperature_range_low_celsius, temperature_range_high_celsius, outside_air_pres_hPa]\n",
       "Index: []"
      ]
     },
     "execution_count": 10,
     "metadata": {},
     "output_type": "execute_result"
    }
   ],
   "source": [
    "# https://www.statology.org/pandas-find-duplicates/ [Accessed 07 Nov.2023]\n",
    "duplicate_rows = garden_weather[garden_weather.duplicated()]\n",
    "\n",
    "duplicate_rows"
   ]
  },
  {
   "cell_type": "markdown",
   "metadata": {},
   "source": [
    "No duplicate rows are demonstrated."
   ]
  },
  {
   "cell_type": "markdown",
   "metadata": {},
   "source": [
    "## Dataset Variables <a id=\"dataset-variables\"></a>"
   ]
  },
  {
   "cell_type": "markdown",
   "metadata": {},
   "source": [
    "The dataset consists of 10 variables. When examining the dataset variables it is useful to look at their classification as this in turn will dictate how they can be analysed.\n",
    "\n",
    "**Variable Classification Summary Table** (Summarised from Sharma, 2020)\n",
    "\n",
    "![Data Summary](images/illustrations/data_categories_18102023_sh.png \"Data Summary Graphic\")\n",
    "\n",
    "Levels of measurement tell how precisely variables are recorded (Bhandari, 2020) and are summarised as follows:\n",
    "\n",
    "**Levels of Measurement Summary Table**\n",
    "\n",
    "| Level             | Description                                                                   |\n",
    "| :-----------      | :----------                                                                   |\n",
    "| Nominal           | The data can only be categorized                                              |\n",
    "| Ordinal           | The data can be categorized and ranked                                        |\n",
    "| Interval          | The data can be categorized, ranked, and evenly spaced                        |\n",
    "| Ratio             | The data can be categorized, ranked, evenly spaced, and has a natural zero    |\n",
    "\n",
    "Applying variable classification and level of measurement the dataset can be summarised as follows:\n",
    "\n",
    "**Variable Summary Table**\n",
    "\n",
    "| Variable                      | Classification    | Type          | Python Dtype  | Unit of Measure   | Level of Measure  |\n",
    "| :----------                   | :----------       | :----------   | :----------   | :---------        | :---------        |\n",
    "| date_time                     | numerical         | *             | Object        | date              | interval          |\n",
    "| wind_speed_m_s                | numerical         | continuous    | float64       | m/s               | ratio             |\n",
    "| gust_m_s                      | numerical         | continuous    | float64       | m/s               | ratio             |\n",
    "| humidity_%                    | numerical         | continuous    | float64       | mm                | ratio             |\n",
    "| chill_celsius                 | numerical         | continuous    | float64       | mm                | ratio             |\n",
    "| chill_minimum_celsius         | numerical         | continuous    | float64       | degrees celcius   | interval          |\n",
    "| temperature_average_celsius   | numerical         | continuous    | float64       | degrees celcius   | interval          |\n",
    "| temperature_range_low_celsius | numerical         | continuous    | float64       | degrees celcius   | interval          |\n",
    "| temperature_range_high_celsius| numerical         | continuous    | float64       | degrees celcius   | interval          |\n",
    "| outside_air_pres_hPa          | numerical         | continuous    | float64       | hPa               | interval          |\n",
    "\n",
    "\\* date and time can be continuous or discreet depending on use (Treadwell, 2014).\n",
    "\n",
    "Complex mathematical operations can be carried out on interval and ratio datatypes. Measures of central tendancy on these datatypes include mode, median and arithemtic mean (Bhandari, 2020). The measure of variability include range, interquartile range standard deviation and variance (op. cit.). Knowing these measures for the variable will enable modelling of the data. These values can be automatically calculated using the Pandas `describe()` method (www.javatpoint.com, n.d.)."
   ]
  },
  {
   "cell_type": "code",
   "execution_count": 11,
   "metadata": {},
   "outputs": [
    {
     "data": {
      "text/html": [
       "<div>\n",
       "<style scoped>\n",
       "    .dataframe tbody tr th:only-of-type {\n",
       "        vertical-align: middle;\n",
       "    }\n",
       "\n",
       "    .dataframe tbody tr th {\n",
       "        vertical-align: top;\n",
       "    }\n",
       "\n",
       "    .dataframe thead th {\n",
       "        text-align: right;\n",
       "    }\n",
       "</style>\n",
       "<table border=\"1\" class=\"dataframe\">\n",
       "  <thead>\n",
       "    <tr style=\"text-align: right;\">\n",
       "      <th></th>\n",
       "      <th>wind_speed_m_s</th>\n",
       "      <th>gust_m_s</th>\n",
       "      <th>humidity_%</th>\n",
       "      <th>chill_celsius</th>\n",
       "      <th>chill_minimum_celsius</th>\n",
       "      <th>temperature_average_celsius</th>\n",
       "      <th>temperature_range_low_celsius</th>\n",
       "      <th>temperature_range_high_celsius</th>\n",
       "      <th>outside_air_pres_hPa</th>\n",
       "    </tr>\n",
       "  </thead>\n",
       "  <tbody>\n",
       "    <tr>\n",
       "      <th>count</th>\n",
       "      <td>359.000000</td>\n",
       "      <td>359.000000</td>\n",
       "      <td>359.000000</td>\n",
       "      <td>359.000000</td>\n",
       "      <td>359.000000</td>\n",
       "      <td>359.000000</td>\n",
       "      <td>359.000000</td>\n",
       "      <td>359.000000</td>\n",
       "      <td>359.000000</td>\n",
       "    </tr>\n",
       "    <tr>\n",
       "      <th>mean</th>\n",
       "      <td>1.698329</td>\n",
       "      <td>5.204735</td>\n",
       "      <td>81.166020</td>\n",
       "      <td>17.349025</td>\n",
       "      <td>7.145404</td>\n",
       "      <td>11.561806</td>\n",
       "      <td>7.419220</td>\n",
       "      <td>17.405850</td>\n",
       "      <td>1011.865738</td>\n",
       "    </tr>\n",
       "    <tr>\n",
       "      <th>std</th>\n",
       "      <td>1.105596</td>\n",
       "      <td>2.961325</td>\n",
       "      <td>5.671424</td>\n",
       "      <td>6.558507</td>\n",
       "      <td>4.898555</td>\n",
       "      <td>5.100804</td>\n",
       "      <td>4.684545</td>\n",
       "      <td>6.486319</td>\n",
       "      <td>13.269578</td>\n",
       "    </tr>\n",
       "    <tr>\n",
       "      <th>min</th>\n",
       "      <td>0.000000</td>\n",
       "      <td>0.000000</td>\n",
       "      <td>60.000000</td>\n",
       "      <td>3.400000</td>\n",
       "      <td>-5.800000</td>\n",
       "      <td>-1.750000</td>\n",
       "      <td>-5.800000</td>\n",
       "      <td>3.400000</td>\n",
       "      <td>973.100000</td>\n",
       "    </tr>\n",
       "    <tr>\n",
       "      <th>25%</th>\n",
       "      <td>0.800000</td>\n",
       "      <td>3.000000</td>\n",
       "      <td>78.000000</td>\n",
       "      <td>11.800000</td>\n",
       "      <td>3.650000</td>\n",
       "      <td>7.720000</td>\n",
       "      <td>4.100000</td>\n",
       "      <td>11.900000</td>\n",
       "      <td>1004.000000</td>\n",
       "    </tr>\n",
       "    <tr>\n",
       "      <th>50%</th>\n",
       "      <td>1.500000</td>\n",
       "      <td>4.600000</td>\n",
       "      <td>81.000000</td>\n",
       "      <td>17.400000</td>\n",
       "      <td>7.600000</td>\n",
       "      <td>11.650000</td>\n",
       "      <td>7.700000</td>\n",
       "      <td>17.400000</td>\n",
       "      <td>1013.200000</td>\n",
       "    </tr>\n",
       "    <tr>\n",
       "      <th>75%</th>\n",
       "      <td>2.300000</td>\n",
       "      <td>6.700000</td>\n",
       "      <td>85.000000</td>\n",
       "      <td>23.050000</td>\n",
       "      <td>11.200000</td>\n",
       "      <td>15.460000</td>\n",
       "      <td>11.200000</td>\n",
       "      <td>23.050000</td>\n",
       "      <td>1020.500000</td>\n",
       "    </tr>\n",
       "    <tr>\n",
       "      <th>max</th>\n",
       "      <td>5.500000</td>\n",
       "      <td>15.600000</td>\n",
       "      <td>94.000000</td>\n",
       "      <td>32.800000</td>\n",
       "      <td>17.800000</td>\n",
       "      <td>22.510000</td>\n",
       "      <td>17.800000</td>\n",
       "      <td>32.800000</td>\n",
       "      <td>1045.200000</td>\n",
       "    </tr>\n",
       "  </tbody>\n",
       "</table>\n",
       "</div>"
      ],
      "text/plain": [
       "       wind_speed_m_s    gust_m_s  humidity_%  chill_celsius  \\\n",
       "count      359.000000  359.000000  359.000000     359.000000   \n",
       "mean         1.698329    5.204735   81.166020      17.349025   \n",
       "std          1.105596    2.961325    5.671424       6.558507   \n",
       "min          0.000000    0.000000   60.000000       3.400000   \n",
       "25%          0.800000    3.000000   78.000000      11.800000   \n",
       "50%          1.500000    4.600000   81.000000      17.400000   \n",
       "75%          2.300000    6.700000   85.000000      23.050000   \n",
       "max          5.500000   15.600000   94.000000      32.800000   \n",
       "\n",
       "       chill_minimum_celsius  temperature_average_celsius  \\\n",
       "count             359.000000                   359.000000   \n",
       "mean                7.145404                    11.561806   \n",
       "std                 4.898555                     5.100804   \n",
       "min                -5.800000                    -1.750000   \n",
       "25%                 3.650000                     7.720000   \n",
       "50%                 7.600000                    11.650000   \n",
       "75%                11.200000                    15.460000   \n",
       "max                17.800000                    22.510000   \n",
       "\n",
       "       temperature_range_low_celsius  temperature_range_high_celsius  \\\n",
       "count                     359.000000                      359.000000   \n",
       "mean                        7.419220                       17.405850   \n",
       "std                         4.684545                        6.486319   \n",
       "min                        -5.800000                        3.400000   \n",
       "25%                         4.100000                       11.900000   \n",
       "50%                         7.700000                       17.400000   \n",
       "75%                        11.200000                       23.050000   \n",
       "max                        17.800000                       32.800000   \n",
       "\n",
       "       outside_air_pres_hPa  \n",
       "count            359.000000  \n",
       "mean            1011.865738  \n",
       "std               13.269578  \n",
       "min              973.100000  \n",
       "25%             1004.000000  \n",
       "50%             1013.200000  \n",
       "75%             1020.500000  \n",
       "max             1045.200000  "
      ]
     },
     "execution_count": 11,
     "metadata": {},
     "output_type": "execute_result"
    }
   ],
   "source": [
    "# assign variable so that values can be accessed later\n",
    "data_summary = garden_weather.describe()\n",
    "data_summary"
   ]
  },
  {
   "cell_type": "markdown",
   "metadata": {},
   "source": [
    "---"
   ]
  },
  {
   "cell_type": "markdown",
   "metadata": {},
   "source": [
    "## Random Probability Distribution <a id=\"random-probability-distribution\"></a>\n",
    "\n",
    "*\"In probability theory and statistics, a [probability distribution](https://en.wikipedia.org/wiki/Probability_distribution) is the mathematical function that gives the probabilities of occurrence of different possible outcomes for an experiment.\"* (Wikipedia Contributors, 2019).\n",
    "\n",
    "In order synthesise variables in the dataset it is insightful to visually represent the day in order to understand how the data is distributed. This can be achieved using the Matplotlib library to create histigrams of the dataset variables."
   ]
  },
  {
   "cell_type": "code",
   "execution_count": 12,
   "metadata": {},
   "outputs": [],
   "source": [
    "# import the required libraries\n",
    "import matplotlib.pyplot as plt\n",
    "import numpy as np"
   ]
  },
  {
   "cell_type": "markdown",
   "metadata": {},
   "source": [
    "Weather variables are subject to seasonal variation and therefore to create an accurate model of the dataset it becomes useful to break the data down by season. As per Wikipedia (Wikipedia Contributors, 2023), Ireland experiences 4 seasons:\n",
    "- Winter = November, December & January\n",
    "- Spring = February, March & April\n",
    "- Summer = May, June & July\n",
    "- Autumn = August, September & October"
   ]
  },
  {
   "cell_type": "code",
   "execution_count": 13,
   "metadata": {},
   "outputs": [],
   "source": [
    "# Filter DateFrame by seasons - https://kanoki.org/2022/07/16/pandas-filter-dates-by-month-hour-day-or-last-n-days-weeks/ [Accessed 8 Nov. 2023]. \n",
    "winter = garden_weather[garden_weather.index.month_name().isin(['November', 'December', 'January'])].sort_index(ascending=True)\n",
    "winter_rows = winter.shape[0]\n",
    "spring = garden_weather[garden_weather.index.month_name().isin(['February', 'March', 'April'])].sort_index(ascending=True)\n",
    "spring_rows = spring.shape[0]\n",
    "summer = garden_weather[garden_weather.index.month_name().isin(['May', 'June', 'July'])].sort_index(ascending=True)\n",
    "summer_rows = summer.shape[0]\n",
    "autumn = garden_weather[garden_weather.index.month_name().isin(['August', 'September', 'October'])].sort_index(ascending=True)\n",
    "autumn_rows = summer.shape[0]"
   ]
  },
  {
   "cell_type": "markdown",
   "metadata": {},
   "source": [
    "## Wind Speed <a id=\"random-probability-distribution\"></a>\n",
    "\n",
    "Wind speed constantly varies. The Weibull distribution is often a good approximation for the wind speed distribution wind-data.ch, n.d.).\n",
    "\n",
    "![Weibull](images/illustrations/weibullgleichung.jpg \"Weibull\")\n",
    "\n",
    "+ A is the Weibull scale parameter in m/s; a measure for the characteristic wind speed of the distribution. A is proportional to the mean wind speed.\n",
    "+ k is the Weibull form parameter. It specifies the shape of a Weibull distribution and takes on a value of between 1 and 3. A small value for k signifies very variable winds, while constand winds are characterized by a larger k. (op. cit.)"
   ]
  },
  {
   "cell_type": "code",
   "execution_count": 14,
   "metadata": {},
   "outputs": [
    {
     "data": {
      "text/plain": [
       "[Text(0.5, 0, 'value'), Text(0, 0.5, 'count')]"
      ]
     },
     "execution_count": 14,
     "metadata": {},
     "output_type": "execute_result"
    },
    {
     "data": {
      "image/png": "[encoded data removed]",
      "text/plain": [
       "<Figure size 1600x400 with 4 Axes>"
      ]
     },
     "metadata": {},
     "output_type": "display_data"
    }
   ],
   "source": [
    "plt.rcParams[\"figure.figsize\"] = [16, 4]\n",
    "plt.rcParams[\"figure.autolayout\"] = True\n",
    "\n",
    "fig, axis = plt.subplots(1, 4)\n",
    "axis[0].hist(winter['wind_speed_m_s'], color = 'green', edgecolor = 'black', bins=15)\n",
    "axis[0].set_title(\"Wind Speed - Winter\")\n",
    "axis[0].set(xlabel='value', ylabel='count')\n",
    "axis[1].hist(spring['wind_speed_m_s'], color = 'green', edgecolor = 'black', bins=15)\n",
    "axis[1].set_title(\"Wind Speed -Spring\")\n",
    "axis[1].set(xlabel='value', ylabel='count')\n",
    "axis[2].hist(summer['wind_speed_m_s'], color = 'green', edgecolor = 'black', bins=15)\n",
    "axis[2].set_title(\"Wind Speed - Summer\")\n",
    "axis[2].set(xlabel='value', ylabel='count')\n",
    "axis[3].hist(autumn['wind_speed_m_s'], color = 'green', edgecolor = 'black', bins=15)\n",
    "axis[3].set_title(\"Wind Speed - Autumn\")\n",
    "axis[3].set(xlabel='value', ylabel='count')"
   ]
  },
  {
   "cell_type": "markdown",
   "metadata": {},
   "source": [
    "As expected wind speed is more widely distributed over a greater range in winter and spring than in the summer and autumn."
   ]
  },
  {
   "cell_type": "code",
   "execution_count": 15,
   "metadata": {},
   "outputs": [
    {
     "data": {
      "text/plain": [
       "[Text(0.5, 0, 'value'), Text(0, 0.5, 'count')]"
      ]
     },
     "execution_count": 15,
     "metadata": {},
     "output_type": "execute_result"
    },
    {
     "data": {
      "image/png": "[encoded data removed]",
      "text/plain": [
       "<Figure size 1600x400 with 4 Axes>"
      ]
     },
     "metadata": {},
     "output_type": "display_data"
    }
   ],
   "source": [
    "# seeding so the random numbers generated don't change when code is run, for demonstrative purposes\n",
    "seed = np.random.seed(2)\n",
    "\n",
    "ws_winter = np.random.weibull(1, winter_rows) # shape, 359 # no of data points to generate\n",
    "ws_spring = np.random.weibull(1.15, spring_rows)\n",
    "ws_summer = np.random.weibull(1.4, summer_rows)\n",
    "ws_autumn = np.random.weibull(1.5, autumn_rows)\n",
    "\n",
    "\n",
    "plt.rcParams[\"figure.figsize\"] = [16, 4]\n",
    "plt.rcParams[\"figure.autolayout\"] = True\n",
    "\n",
    "fig, axis = plt.subplots(1, 4)\n",
    "axis[0].hist(ws_winter, color = 'grey', edgecolor = 'black', bins=15)\n",
    "axis[0].set_title(\"Wind Speed Model Winter\")\n",
    "axis[0].set(xlabel='value', ylabel='count')\n",
    "axis[1].hist(ws_spring, color = 'grey', edgecolor = 'black', bins=15)\n",
    "axis[1].set_title(\"Wind Speed Model Spring\")\n",
    "axis[1].set(xlabel='value', ylabel='count')\n",
    "axis[2].hist(ws_summer, color = 'grey', edgecolor = 'black', bins=15)\n",
    "axis[2].set_title(\"Wind Speed Model Summer\")\n",
    "axis[2].set(xlabel='value', ylabel='count')\n",
    "axis[3].hist(ws_autumn, color = 'grey', edgecolor = 'black', bins=15)\n",
    "axis[3].set_title(\"Wind Speed Model Autumn\")\n",
    "axis[3].set(xlabel='value', ylabel='count')"
   ]
  },
  {
   "cell_type": "code",
   "execution_count": 16,
   "metadata": {},
   "outputs": [
    {
     "data": {
      "image/png": "[encoded data removed]",
      "text/plain": [
       "<Figure size 1000x600 with 1 Axes>"
      ]
     },
     "metadata": {},
     "output_type": "display_data"
    },
    {
     "data": {
      "text/plain": [
       "<Axes: xlabel='wind_speed_m_s', ylabel='Density'>"
      ]
     },
     "execution_count": 16,
     "metadata": {},
     "output_type": "execute_result"
    },
    {
     "data": {
      "image/png": "[encoded data removed]",
      "text/plain": [
       "<Figure size 1600x400 with 1 Axes>"
      ]
     },
     "metadata": {},
     "output_type": "display_data"
    }
   ],
   "source": [
    "import seaborn as sns\n",
    "\n",
    "fig = plt.figure(figsize=(10,6))\n",
    "sns.kdeplot(ws_winter)\n",
    "sns.kdeplot(winter['wind_speed_m_s'])\n",
    "sns.kdeplot(np.random.normal(2.327586, 1.234267, size = winter_rows))\n",
    "fig.legend(labels=['weibull model','data', 'standard model'], loc=\"right\")\n",
    "\n",
    "plt.title(\"Sports Watch Data\")\n",
    "plt.show()\n",
    "\n",
    "sns.kdeplot(ws_spring)\n",
    "sns.kdeplot(spring['wind_speed_m_s'])\n"
   ]
  },
  {
   "cell_type": "code",
   "execution_count": 48,
   "metadata": {},
   "outputs": [
    {
     "name": "stdout",
     "output_type": "stream",
     "text": [
      "date_time                         01/11/2023 00:00\n",
      "wind_speed_m_s                                 2.5\n",
      "gust_m_s                                       7.6\n",
      "humidity_%                                    90.0\n",
      "chill_celsius                                 12.8\n",
      "chill_minimum_celsius                          3.0\n",
      "temperature_average_celsius                   8.79\n",
      "temperature_range_low_celsius                  3.0\n",
      "temperature_range_high_celsius                12.9\n",
      "outside_air_pres_hPa                         979.7\n",
      "Name: 2023-11-01 00:00:00, dtype: object\n"
     ]
    }
   ],
   "source": [
    "# x = winter.describe()\n",
    "# print(x)\n",
    "c = winter.iloc[84]\n",
    "print(c)\n",
    "#winter['wind_speed_m_s'][0:83].mode()\n",
    "#print(b)\n",
    "# y= np.random.rayleigh(1.6, 87)\n",
    "# sns.histplot(data=y)"
   ]
  },
  {
   "cell_type": "code",
   "execution_count": 17,
   "metadata": {},
   "outputs": [
    {
     "ename": "AttributeError",
     "evalue": "'Axes' object has no attribute 'kdeplot'",
     "output_type": "error",
     "traceback": [
      "\u001b[1;31m---------------------------------------------------------------------------\u001b[0m",
      "\u001b[1;31mAttributeError\u001b[0m                            Traceback (most recent call last)",
      "\u001b[1;32mc:\\Users\\patsy\\OneDrive\\Documents\\ATU-sean_laptop\\programming_for_data_analysis_assignment_1\\submission_notebook.ipynb Cell 38\u001b[0m line \u001b[0;36m2\n\u001b[0;32m      <a href='vscode-notebook-cell:/c%3A/Users/patsy/OneDrive/Documents/ATU-sean_laptop/programming_for_data_analysis_assignment_1/submission_notebook.ipynb#Y125sZmlsZQ%3D%3D?line=0'>1</a>\u001b[0m fig, axis \u001b[39m=\u001b[39m plt\u001b[39m.\u001b[39msubplots(\u001b[39m1\u001b[39m, \u001b[39m4\u001b[39m)\n\u001b[1;32m----> <a href='vscode-notebook-cell:/c%3A/Users/patsy/OneDrive/Documents/ATU-sean_laptop/programming_for_data_analysis_assignment_1/submission_notebook.ipynb#Y125sZmlsZQ%3D%3D?line=1'>2</a>\u001b[0m axis[\u001b[39m0\u001b[39m]\u001b[39m.\u001b[39mkdeplot(ws_winter)\n\u001b[0;32m      <a href='vscode-notebook-cell:/c%3A/Users/patsy/OneDrive/Documents/ATU-sean_laptop/programming_for_data_analysis_assignment_1/submission_notebook.ipynb#Y125sZmlsZQ%3D%3D?line=2'>3</a>\u001b[0m axis[\u001b[39m0\u001b[39m]\u001b[39m.\u001b[39mset_title(\u001b[39m\"\u001b[39m\u001b[39mWind Speed Model Winter\u001b[39m\u001b[39m\"\u001b[39m)\n\u001b[0;32m      <a href='vscode-notebook-cell:/c%3A/Users/patsy/OneDrive/Documents/ATU-sean_laptop/programming_for_data_analysis_assignment_1/submission_notebook.ipynb#Y125sZmlsZQ%3D%3D?line=3'>4</a>\u001b[0m axis[\u001b[39m0\u001b[39m]\u001b[39m.\u001b[39mset(xlabel\u001b[39m=\u001b[39m\u001b[39m'\u001b[39m\u001b[39mvalue\u001b[39m\u001b[39m'\u001b[39m, ylabel\u001b[39m=\u001b[39m\u001b[39m'\u001b[39m\u001b[39mcount\u001b[39m\u001b[39m'\u001b[39m)\n",
      "\u001b[1;31mAttributeError\u001b[0m: 'Axes' object has no attribute 'kdeplot'"
     ]
    },
    {
     "data": {
      "image/png": "[encoded data removed]",
      "text/plain": [
       "<Figure size 1600x400 with 4 Axes>"
      ]
     },
     "metadata": {},
     "output_type": "display_data"
    }
   ],
   "source": [
    "fig, axis = plt.subplots(1, 4)\n",
    "axis[0].kdeplot(ws_winter)\n",
    "axis[0].set_title(\"Wind Speed Model Winter\")\n",
    "axis[0].set(xlabel='value', ylabel='count')\n",
    "axis[1].hist(ws_spring, color = 'grey', edgecolor = 'black', bins=15)\n",
    "axis[1].set_title(\"Wind Speed Model Spring\")\n",
    "axis[1].set(xlabel='value', ylabel='count')\n",
    "axis[2].hist(ws_summer, color = 'grey', edgecolor = 'black', bins=15)\n",
    "axis[2].set_title(\"Wind Speed Model Summer\")\n",
    "axis[2].set(xlabel='value', ylabel='count')\n",
    "axis[3].hist(ws_autumn, color = 'grey', edgecolor = 'black', bins=15)\n",
    "axis[3].set_title(\"Wind Speed Model Autumn\")\n",
    "axis[3].set(xlabel='value', ylabel='count')"
   ]
  },
  {
   "cell_type": "markdown",
   "metadata": {},
   "source": [
    "## References <a id=\"references\"></a>\n",
    "\n",
    "Bhandari, P. (2020). Levels of Measurement | Nominal, Ordinal, Interval and Ratio. [online] Scribbr. Available at: https://www.scribbr.com/statistics/levels-of-measurement/. [Accessed 7 Nov. 2023].\n",
    "\n",
    "Chartio. (n.d.). How to Check If Any Value is NaN in a Pandas DataFrame. [online] Available at: https://chartio.com/resources/tutorials/how-to-check-if-any-value-is-nan-in-a-pandas-dataframe/. [Accessed 7 Nov. 2023].\n",
    "\n",
    "docs.python.org. (n.d.). 15. Floating Point Arithmetic: Issues and Limitations — Python 3.10.1 documentation. [online] Available at: https://docs.python.org/3/tutorial/floatingpoint.html. [Accessed 7 Nov. 2023].\n",
    "\n",
    "GeeksforGeeks. (2018). How to rename columns in Pandas DataFrame. [online] Available at: https://www.geeksforgeeks.org/how-to-rename-columns-in-pandas-dataframe/. [Accessed 7 Nov. 2023].\n",
    "\n",
    "H, S. (2023). head () and tail () Functions Explained with Examples and Codes. [online] Analytics Vidhya. Available at: https://www.analyticsvidhya.com/blog/2023/07/head-and-tail-functions/. [Accessed 7 Nov. 2023].\n",
    "\n",
    "Kumar, S. (2021). Deep Dive Analysis of Missing Values in Dataset. [online] Medium. Available at: https://towardsdatascience.com/deep-dive-analysis-of-missing-values-in-dataset-b387d9de6d4b. [Accessed 7 Nov. 2023].\n",
    "\n",
    "Moffitt, C. (2018). Overview of Pandas Data Types - Practical Business Python. [online] pbpython.com. Available at: https://pbpython.com/pandas_dtypes.html. [Accessed 6 Nov. 2023].\n",
    "\n",
    "Name, Y. (2022). Pandas filter dates by month, hour, day and last N days & weeks. [online] kanoki. Available at: https://kanoki.org/2022/07/16/pandas-filter-dates-by-month-hour-day-or-last-n-days-weeks/ [Accessed 9 Nov. 2023].\n",
    "\n",
    "Sharma, R. (2020). 4 Types of Data: Nominal, Ordinal, Discrete, Continuous. [online] upGrad blog. Available at: https://www.upgrad.com/blog/types-of-data/. [Accessed 7 Nov. 2023].\n",
    "\n",
    "Stack Overflow. (n.d.). How do I properly set the Datetimeindex for a Pandas datetime object in a dataframe? [online] Available at: https://stackoverflow.com/questions/27032052/how-do-i-properly-set-the-datetimeindex-for-a-pandas-datetime-object-in-a-datafr [Accessed 7 Nov. 2023].\n",
    "\n",
    "Tamboli, N. (2021). Tackling Missing Value in Dataset. [online] Analytics Vidhya. Available at: https://www.analyticsvidhya.com/blog/2021/10/handling-missing-value/. [Accessed 7 Nov. 2023].\n",
    "\n",
    "Treadwell, M. (2014). Tableau Pills: Continuous and Discrete Data Roles. [online] InterWorks. Available at: https://interworks.com/blog/mtreadwell/2014/02/19/tableau-pills-continuous-and-discrete-data-roles/ [Accessed 7 Nov. 2023].\n",
    "\n",
    "Walker, J. (2019). Tutorial: Time Series Analysis with Pandas – Dataquest. [online] Dataquest. Available at: https://www.dataquest.io/blog/tutorial-time-series-analysis-with-pandas/. [Accessed 7 Nov. 2023].\n",
    "\n",
    "Wikipedia Contributors (2019). Probability distribution. [online] Wikipedia. Available at: https://en.wikipedia.org/wiki/Probability_distribution. [Accessed 8 Nov. 2023].\n",
    "\n",
    "Wikipedia Contributors (2023). Irish calendar. [online] Wikipedia. Available at: https://en.wikipedia.org/wiki/Irish_calendar [Accessed 9 Nov. 2023].\n",
    "\n",
    "wind-data.ch. (n.d.). Windenergie-Daten der Schweiz. [online] Available at: https://wind-data.ch/tools/weibull.php?lng=en. [Accessed 9. Nov. 2023].\n",
    "\n",
    "www.javatpoint.com. (n.d.). Pandas DataFrame.describe() - javatpoint. [online] Available at: https://www.javatpoint.com/pandas-dataframe-describe. [Accessed 8 Nov. 2023].\n",
    "\n",
    "www.w3schools.com. (n.d.). Pandas DataFrame info() Method. [online] Available at: https://www.w3schools.com/python/pandas/ref_df_info.asp. [Accessed 7 Nov. 2023].\n",
    "\n",
    "Zach (2021). How to Find Duplicates in Pandas DataFrame (With Examples). [online] Statology. Available at: https://www.statology.org/pandas-find-duplicates/. [Accessed 3 Nov. 2023]."
   ]
  },
  {
   "cell_type": "markdown",
   "metadata": {},
   "source": [
    "## Associated Reading <a id=\"associated-reading\"></a>\n",
    "\n",
    "Flom, P. (2019). Are dates nominal, ordinal, interval or ratio? [online] Medium. Available at: https://medium.com/@peterflom/are-dates-nominal-ordinal-interval-or-ratio-ef567e10884 [Accessed 7 Nov. 2023].\n",
    "\n",
    "Matplotlib (2012). Matplotlib: Python plotting — Matplotlib 3.1.1 documentation. [online] Matplotlib.org. Available at: https://matplotlib.org/. [Accessed 8 Nov 2023].\n",
    "\n",
    "numpy.org. (n.d.). Overview — NumPy v1.21 Manual. [online] Available at: https://numpy.org/doc/stable/index.html. [Accessed 8 Nov. 2023].\n",
    "\n",
    "Pandas (2018). Python Data Analysis Library — pandas: Python Data Analysis Library. [online] Pydata.org. Available at: https://pandas.pydata.org/. [Accessed 03 Nov. 2023].\n",
    "\n",
    "pandas.pydata.org. (n.d.). API reference — pandas 1.1.4 documentation. [online] Available at: https://pandas.pydata.org/docs/reference/index.html. [Accessed 03 Nov. 2023].\n",
    "\n",
    "pandas.pydata.org. (n.d.). How to handle time series data with ease — pandas 2.1.2 documentation. [online] Available at: https://pandas.pydata.org/docs/getting_started/intro_tutorials/09_timeseries.html [Accessed 7 Nov. 2023].\n",
    "\n",
    "Stack Overflow. (n.d.). The real difference between float32 and float64. [online] Available at: https://stackoverflow.com/questions/43440821/the-real-difference-between-float32-and-float64 [Accessed 7 Nov. 2023].\n",
    "\n",
    "---\n",
    "\n",
    "*Notebook Ends*"
   ]
  }
 ],
 "metadata": {
  "kernelspec": {
   "display_name": "Python 3 (ipykernel)",
   "language": "python",
   "name": "python3"
  },
  "language_info": {
   "codemirror_mode": {
    "name": "ipython",
    "version": 3
   },
   "file_extension": ".py",
   "mimetype": "text/x-python",
   "name": "python",
   "nbconvert_exporter": "python",
   "pygments_lexer": "ipython3",
   "version": "3.11.5"
  }
 },
 "nbformat": 4,
 "nbformat_minor": 2
}
