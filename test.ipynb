{
 "cells": [
  {
   "cell_type": "markdown",
   "metadata": {},
   "source": [
    "# Programming for Data Analysis Assignment 1 Notebook\n",
    "\n",
    "Author - Sean Humphreys\n",
    "\n",
    "---\n",
    "\n",
    "## Contents\n",
    "\n",
    "1. [Introduction](#introduction)\n",
    "2. [Definitions](#definitions)\n",
    "3. [Dataset Exploration](#dataset-exploration)\n",
    "4. [Dataset Variables](#dataset-variables)\n",
    "5. [Random Probability Distribution](#random-probability-distribution)\n",
    "    1. [Wind Speed](#wind-speed)\n",
    "    2. [Gust Speed](#gust-speed)\n",
    "    3. [Humidity](#humidity)\n",
    "4. [References](#references)\n",
    "5. [Associated Reading](#associated-reading)\n",
    "\n",
    "---"
   ]
  },
  {
   "cell_type": "markdown",
   "metadata": {},
   "source": [
    "## Introduction <a id=\"introduction\"></a>\n",
    "\n",
    "The dataset explored and synthesised in this notebook is from a weather sensor in the author's back garden. \n",
    "\n",
    "The data extract is in the form of a csv. The source data csv can be accessed [here](datasets/back_garden_sensor_data_12_months.csv). \n",
    "\n",
    "The extract contains local weather data captured over a 12 month period.\n",
    "\n",
    "---"
   ]
  },
  {
   "cell_type": "markdown",
   "metadata": {},
   "source": [
    "## Definitions <a id=\"definitions\"></a>\n",
    "\n",
    "- [Matplotlib](https://matplotlib.org/) (https://matplotlib.org/ - last accesssed 8 Nov. 2023) - is an opensource software library for creating static, animated, and interactive visualizations in Python.\n",
    "- [Numpy](https://numpy.org/doc/stable/index.html) (https://numpy.org/doc/stable/index.html - last accessed 8. Nov 2023) - is an opensource software library for the Python, adding support for large, multi-dimensional arrays and matrices, along with a large collection of high-level mathematical functions to operate on these arrays. \n",
    "- [Pandas](https://pandas.pydata.org/) (https://pandas.pydata.org/ - last accessed 3 Nov. 2023) is an open source software library used in data analytics that allows data analysis and manipulation. Pandas is built on top of the *Python* programming language. A Pandas DataFrame is a dictionary like container for Series objects. A DataFrame is the primary Pandas data structure.\n",
    "\n",
    "---"
   ]
  },
  {
   "cell_type": "markdown",
   "metadata": {},
   "source": [
    "## Dataset Exploration <a id=\"dataset-exploration\"></a>\n",
    "\n",
    "Import the Pandas software library. Pandas can be used to make datasets clean and process datasets."
   ]
  },
  {
   "cell_type": "code",
   "execution_count": 75,
   "metadata": {},
   "outputs": [],
   "source": [
    "# import the required python libraries\n",
    "import pandas as pd"
   ]
  },
  {
   "cell_type": "markdown",
   "metadata": {},
   "source": [
    "Read in the source data CSV file."
   ]
  },
  {
   "cell_type": "code",
   "execution_count": 76,
   "metadata": {},
   "outputs": [],
   "source": [
    "# use pandas to read in the dataset\n",
    "garden_weather = pd.read_csv('datasets/back_garden_sensor_data_12_months.csv')"
   ]
  },
  {
   "cell_type": "markdown",
   "metadata": {},
   "source": [
    "Visually inspect the top and bottom of the dataframe to ascertain if there is any obvious data quality issues. This is done using the Pandas `head()` and `tail()` methods. The frist and last 5 rows of data are checked."
   ]
  },
  {
   "cell_type": "code",
   "execution_count": 77,
   "metadata": {},
   "outputs": [
    {
     "data": {
      "text/html": [
       "<div>\n",
       "<style scoped>\n",
       "    .dataframe tbody tr th:only-of-type {\n",
       "        vertical-align: middle;\n",
       "    }\n",
       "\n",
       "    .dataframe tbody tr th {\n",
       "        vertical-align: top;\n",
       "    }\n",
       "\n",
       "    .dataframe thead th {\n",
       "        text-align: right;\n",
       "    }\n",
       "</style>\n",
       "<table border=\"1\" class=\"dataframe\">\n",
       "  <thead>\n",
       "    <tr style=\"text-align: right;\">\n",
       "      <th></th>\n",
       "      <th>Date Time</th>\n",
       "      <th>Wind Speed m/s</th>\n",
       "      <th>Gust m/s</th>\n",
       "      <th>Humidity %</th>\n",
       "      <th>Chill Celsius</th>\n",
       "      <th>Chill Minimum Celsius</th>\n",
       "      <th>Temperature Average Celsius</th>\n",
       "      <th>Temperature Range (low) Celsius</th>\n",
       "      <th>Temperature Range (high)  Celsius</th>\n",
       "      <th>Air Pressure hPa</th>\n",
       "    </tr>\n",
       "  </thead>\n",
       "  <tbody>\n",
       "    <tr>\n",
       "      <th>0</th>\n",
       "      <td>09/11/2022 00:00</td>\n",
       "      <td>3.3</td>\n",
       "      <td>6.7</td>\n",
       "      <td>84.0</td>\n",
       "      <td>12.9</td>\n",
       "      <td>11.8</td>\n",
       "      <td>12.74</td>\n",
       "      <td>12.4</td>\n",
       "      <td>13.0</td>\n",
       "      <td>1000.3</td>\n",
       "    </tr>\n",
       "    <tr>\n",
       "      <th>1</th>\n",
       "      <td>10/11/2022 00:00</td>\n",
       "      <td>3.2</td>\n",
       "      <td>11.5</td>\n",
       "      <td>81.0</td>\n",
       "      <td>16.9</td>\n",
       "      <td>12.1</td>\n",
       "      <td>14.59</td>\n",
       "      <td>12.3</td>\n",
       "      <td>16.9</td>\n",
       "      <td>1007.1</td>\n",
       "    </tr>\n",
       "    <tr>\n",
       "      <th>2</th>\n",
       "      <td>11/11/2022 00:00</td>\n",
       "      <td>3.1</td>\n",
       "      <td>12.5</td>\n",
       "      <td>82.0</td>\n",
       "      <td>16.9</td>\n",
       "      <td>14.4</td>\n",
       "      <td>15.40</td>\n",
       "      <td>14.4</td>\n",
       "      <td>16.9</td>\n",
       "      <td>1013.6</td>\n",
       "    </tr>\n",
       "    <tr>\n",
       "      <th>3</th>\n",
       "      <td>12/11/2022 00:00</td>\n",
       "      <td>0.6</td>\n",
       "      <td>2.3</td>\n",
       "      <td>87.0</td>\n",
       "      <td>13.6</td>\n",
       "      <td>12.6</td>\n",
       "      <td>13.27</td>\n",
       "      <td>12.6</td>\n",
       "      <td>13.6</td>\n",
       "      <td>1018.9</td>\n",
       "    </tr>\n",
       "    <tr>\n",
       "      <th>4</th>\n",
       "      <td>13/11/2022 00:00</td>\n",
       "      <td>0.8</td>\n",
       "      <td>5.5</td>\n",
       "      <td>87.0</td>\n",
       "      <td>14.8</td>\n",
       "      <td>12.3</td>\n",
       "      <td>13.95</td>\n",
       "      <td>12.3</td>\n",
       "      <td>14.8</td>\n",
       "      <td>1011.0</td>\n",
       "    </tr>\n",
       "  </tbody>\n",
       "</table>\n",
       "</div>"
      ],
      "text/plain": [
       "          Date Time  Wind Speed m/s  Gust m/s  Humidity %  Chill Celsius  \\\n",
       "0  09/11/2022 00:00             3.3       6.7        84.0           12.9   \n",
       "1  10/11/2022 00:00             3.2      11.5        81.0           16.9   \n",
       "2  11/11/2022 00:00             3.1      12.5        82.0           16.9   \n",
       "3  12/11/2022 00:00             0.6       2.3        87.0           13.6   \n",
       "4  13/11/2022 00:00             0.8       5.5        87.0           14.8   \n",
       "\n",
       "   Chill Minimum Celsius  Temperature Average Celsius  \\\n",
       "0                   11.8                        12.74   \n",
       "1                   12.1                        14.59   \n",
       "2                   14.4                        15.40   \n",
       "3                   12.6                        13.27   \n",
       "4                   12.3                        13.95   \n",
       "\n",
       "   Temperature Range (low) Celsius  Temperature Range (high)  Celsius  \\\n",
       "0                             12.4                               13.0   \n",
       "1                             12.3                               16.9   \n",
       "2                             14.4                               16.9   \n",
       "3                             12.6                               13.6   \n",
       "4                             12.3                               14.8   \n",
       "\n",
       "   Air Pressure hPa  \n",
       "0            1000.3  \n",
       "1            1007.1  \n",
       "2            1013.6  \n",
       "3            1018.9  \n",
       "4            1011.0  "
      ]
     },
     "execution_count": 77,
     "metadata": {},
     "output_type": "execute_result"
    }
   ],
   "source": [
    "# https://www.analyticsvidhya.com/blog/2023/07/head-and-tail-functions/ - [Accessed 7 Nov. 2023]\n",
    "garden_weather.head()"
   ]
  },
  {
   "cell_type": "code",
   "execution_count": 78,
   "metadata": {},
   "outputs": [
    {
     "data": {
      "text/html": [
       "<div>\n",
       "<style scoped>\n",
       "    .dataframe tbody tr th:only-of-type {\n",
       "        vertical-align: middle;\n",
       "    }\n",
       "\n",
       "    .dataframe tbody tr th {\n",
       "        vertical-align: top;\n",
       "    }\n",
       "\n",
       "    .dataframe thead th {\n",
       "        text-align: right;\n",
       "    }\n",
       "</style>\n",
       "<table border=\"1\" class=\"dataframe\">\n",
       "  <thead>\n",
       "    <tr style=\"text-align: right;\">\n",
       "      <th></th>\n",
       "      <th>Date Time</th>\n",
       "      <th>Wind Speed m/s</th>\n",
       "      <th>Gust m/s</th>\n",
       "      <th>Humidity %</th>\n",
       "      <th>Chill Celsius</th>\n",
       "      <th>Chill Minimum Celsius</th>\n",
       "      <th>Temperature Average Celsius</th>\n",
       "      <th>Temperature Range (low) Celsius</th>\n",
       "      <th>Temperature Range (high)  Celsius</th>\n",
       "      <th>Air Pressure hPa</th>\n",
       "    </tr>\n",
       "  </thead>\n",
       "  <tbody>\n",
       "    <tr>\n",
       "      <th>352</th>\n",
       "      <td>27/10/2023 00:00</td>\n",
       "      <td>0.2</td>\n",
       "      <td>1.5</td>\n",
       "      <td>91.0</td>\n",
       "      <td>16.8</td>\n",
       "      <td>5.0</td>\n",
       "      <td>9.58</td>\n",
       "      <td>5.0</td>\n",
       "      <td>16.8</td>\n",
       "      <td>983.9</td>\n",
       "    </tr>\n",
       "    <tr>\n",
       "      <th>353</th>\n",
       "      <td>28/10/2023 00:00</td>\n",
       "      <td>0.5</td>\n",
       "      <td>2.2</td>\n",
       "      <td>91.0</td>\n",
       "      <td>17.0</td>\n",
       "      <td>6.7</td>\n",
       "      <td>10.32</td>\n",
       "      <td>6.7</td>\n",
       "      <td>17.0</td>\n",
       "      <td>980.4</td>\n",
       "    </tr>\n",
       "    <tr>\n",
       "      <th>354</th>\n",
       "      <td>29/10/2023 00:00</td>\n",
       "      <td>1.3</td>\n",
       "      <td>4.9</td>\n",
       "      <td>92.0</td>\n",
       "      <td>13.4</td>\n",
       "      <td>3.6</td>\n",
       "      <td>8.36</td>\n",
       "      <td>3.6</td>\n",
       "      <td>13.4</td>\n",
       "      <td>979.6</td>\n",
       "    </tr>\n",
       "    <tr>\n",
       "      <th>355</th>\n",
       "      <td>30/10/2023 00:00</td>\n",
       "      <td>0.0</td>\n",
       "      <td>0.6</td>\n",
       "      <td>93.0</td>\n",
       "      <td>13.9</td>\n",
       "      <td>4.7</td>\n",
       "      <td>8.94</td>\n",
       "      <td>4.7</td>\n",
       "      <td>13.9</td>\n",
       "      <td>989.5</td>\n",
       "    </tr>\n",
       "    <tr>\n",
       "      <th>356</th>\n",
       "      <td>31/10/2023 00:00</td>\n",
       "      <td>0.6</td>\n",
       "      <td>2.5</td>\n",
       "      <td>93.0</td>\n",
       "      <td>15.9</td>\n",
       "      <td>5.5</td>\n",
       "      <td>9.91</td>\n",
       "      <td>5.5</td>\n",
       "      <td>15.9</td>\n",
       "      <td>994.5</td>\n",
       "    </tr>\n",
       "  </tbody>\n",
       "</table>\n",
       "</div>"
      ],
      "text/plain": [
       "            Date Time  Wind Speed m/s  Gust m/s  Humidity %  Chill Celsius  \\\n",
       "352  27/10/2023 00:00             0.2       1.5        91.0           16.8   \n",
       "353  28/10/2023 00:00             0.5       2.2        91.0           17.0   \n",
       "354  29/10/2023 00:00             1.3       4.9        92.0           13.4   \n",
       "355  30/10/2023 00:00             0.0       0.6        93.0           13.9   \n",
       "356  31/10/2023 00:00             0.6       2.5        93.0           15.9   \n",
       "\n",
       "     Chill Minimum Celsius  Temperature Average Celsius  \\\n",
       "352                    5.0                         9.58   \n",
       "353                    6.7                        10.32   \n",
       "354                    3.6                         8.36   \n",
       "355                    4.7                         8.94   \n",
       "356                    5.5                         9.91   \n",
       "\n",
       "     Temperature Range (low) Celsius  Temperature Range (high)  Celsius  \\\n",
       "352                              5.0                               16.8   \n",
       "353                              6.7                               17.0   \n",
       "354                              3.6                               13.4   \n",
       "355                              4.7                               13.9   \n",
       "356                              5.5                               15.9   \n",
       "\n",
       "     Air Pressure hPa  \n",
       "352             983.9  \n",
       "353             980.4  \n",
       "354             979.6  \n",
       "355             989.5  \n",
       "356             994.5  "
      ]
     },
     "execution_count": 78,
     "metadata": {},
     "output_type": "execute_result"
    }
   ],
   "source": [
    "# https://www.analyticsvidhya.com/blog/2023/07/head-and-tail-functions/ - [Accessed 7 Nov. 2023]\n",
    "garden_weather.tail()"
   ]
  },
  {
   "cell_type": "markdown",
   "metadata": {},
   "source": [
    "Using Pandas the column names can be renamed to make them python friendly."
   ]
  },
  {
   "cell_type": "code",
   "execution_count": 79,
   "metadata": {},
   "outputs": [],
   "source": [
    "# python friendly column names list\n",
    "column_rename = ['date_time', 'wind_speed_m_s', 'gust_m_s', 'humidity_%', 'chill_celsius', 'chill_minimum_celsius', \n",
    "                 'temperature_average_celsius', 'temperature_range_low_celsius', 'temperature_range_high_celsius', 'outside_air_pres_hPa']\n",
    "\n",
    "# rename columns - https://www.geeksforgeeks.org/how-to-rename-columns-in-pandas-dataframe/ [Accessed 7 Nov. 2023].\n",
    "garden_weather.columns = column_rename"
   ]
  },
  {
   "cell_type": "markdown",
   "metadata": {},
   "source": [
    "The Pandas `info()` method is used to print more information about the DataFrame. The renamed columns can be seen in the output of this command. The Pandas Dtype (datatype) is displayed."
   ]
  },
  {
   "cell_type": "code",
   "execution_count": 80,
   "metadata": {},
   "outputs": [
    {
     "name": "stdout",
     "output_type": "stream",
     "text": [
      "<class 'pandas.core.frame.DataFrame'>\n",
      "RangeIndex: 357 entries, 0 to 356\n",
      "Data columns (total 10 columns):\n",
      " #   Column                          Non-Null Count  Dtype  \n",
      "---  ------                          --------------  -----  \n",
      " 0   date_time                       357 non-null    object \n",
      " 1   wind_speed_m_s                  356 non-null    float64\n",
      " 2   gust_m_s                        356 non-null    float64\n",
      " 3   humidity_%                      356 non-null    float64\n",
      " 4   chill_celsius                   356 non-null    float64\n",
      " 5   chill_minimum_celsius           356 non-null    float64\n",
      " 6   temperature_average_celsius     356 non-null    float64\n",
      " 7   temperature_range_low_celsius   356 non-null    float64\n",
      " 8   temperature_range_high_celsius  356 non-null    float64\n",
      " 9   outside_air_pres_hPa            356 non-null    float64\n",
      "dtypes: float64(9), object(1)\n",
      "memory usage: 28.0+ KB\n"
     ]
    }
   ],
   "source": [
    "# Code from https://www.w3schools.com/python/pandas/ref_df_info.asp [Accessed 7 Nov. 2023].\n",
    "garden_weather.info()"
   ]
  },
  {
   "cell_type": "markdown",
   "metadata": {},
   "source": [
    "The range index indicates that there are 357 rows in the dataset.\n",
    "\n",
    "The variables in the *date_time* column are stored as objects. The Pandas object datatype is used to store text or mixed numeric and non-numeric values (Moffitt, 2018). The values in this column are character strings and do not provide any datetime operations (e.g. extract the year, day of the week, etc.). The Pandas `to_datetime()` function can be applied to this data. Pandas interprets the strings and convert these to datetime objects. This allows for examining details during specific time periods of interest, and zooming out to explore variations on different time scales, such as monthly or annual aggregations, recurring patterns, and long-term trends (Walker, 2019)."
   ]
  },
  {
   "cell_type": "code",
   "execution_count": 81,
   "metadata": {},
   "outputs": [],
   "source": [
    "# https://pandas.pydata.org/docs/reference/api/pandas.to_datetime.html [Accessed 7 Nov. 2023]\n",
    "garden_weather['time_series'] = pd.to_datetime(garden_weather['date_time'], dayfirst=True, format='%d/%m/%Y %H:%M')\n",
    "\n",
    "# set time_series column as index\n",
    "# https://stackoverflow.com/questions/27032052/how-do-i-properly-set-the-datetimeindex-for-a-pandas-datetime-object-in-a-datafr [Accessed 7 Nov. 2023].\n",
    "garden_weather = garden_weather.set_index('time_series')"
   ]
  },
  {
   "cell_type": "markdown",
   "metadata": {},
   "source": [
    "The rest of the variables in the dataset are stored as 64bit floating point integers. 64-bit datatypes allow for a high degree of precision. However, use of 64-bit precision comes at a cost of computational overhead as more memory is required to complete calculations on these numbers due to their size.\n",
    "\n",
    "Of note, there is an issue caused by limitations in the way in which Python performs floating point arithmetic (docs.python.org, n.d.). Floating point numbers are stored in memory as base 2 binary fractions. Most decimal fractions cannot be represented exactly as binary fractions. Thus decimal floating-point numbers are only approximated by the binary floating-point numbers actually stored in the machine. This has the potential to cause inaccuracies when arithmetic is performed on floating point numbers in Python and could lead to inaccuracies when modelling data."
   ]
  },
  {
   "cell_type": "markdown",
   "metadata": {},
   "source": [
    "After re-indexing the DataFrame a quick visual check can be made to validate the changes. "
   ]
  },
  {
   "cell_type": "code",
   "execution_count": 82,
   "metadata": {},
   "outputs": [
    {
     "data": {
      "text/html": [
       "<div>\n",
       "<style scoped>\n",
       "    .dataframe tbody tr th:only-of-type {\n",
       "        vertical-align: middle;\n",
       "    }\n",
       "\n",
       "    .dataframe tbody tr th {\n",
       "        vertical-align: top;\n",
       "    }\n",
       "\n",
       "    .dataframe thead th {\n",
       "        text-align: right;\n",
       "    }\n",
       "</style>\n",
       "<table border=\"1\" class=\"dataframe\">\n",
       "  <thead>\n",
       "    <tr style=\"text-align: right;\">\n",
       "      <th></th>\n",
       "      <th>date_time</th>\n",
       "      <th>wind_speed_m_s</th>\n",
       "      <th>gust_m_s</th>\n",
       "      <th>humidity_%</th>\n",
       "      <th>chill_celsius</th>\n",
       "      <th>chill_minimum_celsius</th>\n",
       "      <th>temperature_average_celsius</th>\n",
       "      <th>temperature_range_low_celsius</th>\n",
       "      <th>temperature_range_high_celsius</th>\n",
       "      <th>outside_air_pres_hPa</th>\n",
       "    </tr>\n",
       "    <tr>\n",
       "      <th>time_series</th>\n",
       "      <th></th>\n",
       "      <th></th>\n",
       "      <th></th>\n",
       "      <th></th>\n",
       "      <th></th>\n",
       "      <th></th>\n",
       "      <th></th>\n",
       "      <th></th>\n",
       "      <th></th>\n",
       "      <th></th>\n",
       "    </tr>\n",
       "  </thead>\n",
       "  <tbody>\n",
       "    <tr>\n",
       "      <th>2022-11-09</th>\n",
       "      <td>09/11/2022 00:00</td>\n",
       "      <td>3.3</td>\n",
       "      <td>6.7</td>\n",
       "      <td>84.0</td>\n",
       "      <td>12.9</td>\n",
       "      <td>11.8</td>\n",
       "      <td>12.74</td>\n",
       "      <td>12.4</td>\n",
       "      <td>13.0</td>\n",
       "      <td>1000.3</td>\n",
       "    </tr>\n",
       "    <tr>\n",
       "      <th>2022-11-10</th>\n",
       "      <td>10/11/2022 00:00</td>\n",
       "      <td>3.2</td>\n",
       "      <td>11.5</td>\n",
       "      <td>81.0</td>\n",
       "      <td>16.9</td>\n",
       "      <td>12.1</td>\n",
       "      <td>14.59</td>\n",
       "      <td>12.3</td>\n",
       "      <td>16.9</td>\n",
       "      <td>1007.1</td>\n",
       "    </tr>\n",
       "    <tr>\n",
       "      <th>2022-11-11</th>\n",
       "      <td>11/11/2022 00:00</td>\n",
       "      <td>3.1</td>\n",
       "      <td>12.5</td>\n",
       "      <td>82.0</td>\n",
       "      <td>16.9</td>\n",
       "      <td>14.4</td>\n",
       "      <td>15.40</td>\n",
       "      <td>14.4</td>\n",
       "      <td>16.9</td>\n",
       "      <td>1013.6</td>\n",
       "    </tr>\n",
       "    <tr>\n",
       "      <th>2022-11-12</th>\n",
       "      <td>12/11/2022 00:00</td>\n",
       "      <td>0.6</td>\n",
       "      <td>2.3</td>\n",
       "      <td>87.0</td>\n",
       "      <td>13.6</td>\n",
       "      <td>12.6</td>\n",
       "      <td>13.27</td>\n",
       "      <td>12.6</td>\n",
       "      <td>13.6</td>\n",
       "      <td>1018.9</td>\n",
       "    </tr>\n",
       "    <tr>\n",
       "      <th>2022-11-13</th>\n",
       "      <td>13/11/2022 00:00</td>\n",
       "      <td>0.8</td>\n",
       "      <td>5.5</td>\n",
       "      <td>87.0</td>\n",
       "      <td>14.8</td>\n",
       "      <td>12.3</td>\n",
       "      <td>13.95</td>\n",
       "      <td>12.3</td>\n",
       "      <td>14.8</td>\n",
       "      <td>1011.0</td>\n",
       "    </tr>\n",
       "  </tbody>\n",
       "</table>\n",
       "</div>"
      ],
      "text/plain": [
       "                    date_time  wind_speed_m_s  gust_m_s  humidity_%  \\\n",
       "time_series                                                           \n",
       "2022-11-09   09/11/2022 00:00             3.3       6.7        84.0   \n",
       "2022-11-10   10/11/2022 00:00             3.2      11.5        81.0   \n",
       "2022-11-11   11/11/2022 00:00             3.1      12.5        82.0   \n",
       "2022-11-12   12/11/2022 00:00             0.6       2.3        87.0   \n",
       "2022-11-13   13/11/2022 00:00             0.8       5.5        87.0   \n",
       "\n",
       "             chill_celsius  chill_minimum_celsius  \\\n",
       "time_series                                         \n",
       "2022-11-09            12.9                   11.8   \n",
       "2022-11-10            16.9                   12.1   \n",
       "2022-11-11            16.9                   14.4   \n",
       "2022-11-12            13.6                   12.6   \n",
       "2022-11-13            14.8                   12.3   \n",
       "\n",
       "             temperature_average_celsius  temperature_range_low_celsius  \\\n",
       "time_series                                                               \n",
       "2022-11-09                         12.74                           12.4   \n",
       "2022-11-10                         14.59                           12.3   \n",
       "2022-11-11                         15.40                           14.4   \n",
       "2022-11-12                         13.27                           12.6   \n",
       "2022-11-13                         13.95                           12.3   \n",
       "\n",
       "             temperature_range_high_celsius  outside_air_pres_hPa  \n",
       "time_series                                                        \n",
       "2022-11-09                             13.0                1000.3  \n",
       "2022-11-10                             16.9                1007.1  \n",
       "2022-11-11                             16.9                1013.6  \n",
       "2022-11-12                             13.6                1018.9  \n",
       "2022-11-13                             14.8                1011.0  "
      ]
     },
     "execution_count": 82,
     "metadata": {},
     "output_type": "execute_result"
    }
   ],
   "source": [
    "# quick visual validation of the changes to the dataframe\n",
    "garden_weather.head()"
   ]
  },
  {
   "cell_type": "markdown",
   "metadata": {},
   "source": [
    "The dataset can be checked for missing values using the `isnull()` function chained with the `sum()` function."
   ]
  },
  {
   "cell_type": "code",
   "execution_count": 83,
   "metadata": {},
   "outputs": [
    {
     "data": {
      "text/plain": [
       "date_time                         0\n",
       "wind_speed_m_s                    1\n",
       "gust_m_s                          1\n",
       "humidity_%                        1\n",
       "chill_celsius                     1\n",
       "chill_minimum_celsius             1\n",
       "temperature_average_celsius       1\n",
       "temperature_range_low_celsius     1\n",
       "temperature_range_high_celsius    1\n",
       "outside_air_pres_hPa              1\n",
       "dtype: int64"
      ]
     },
     "execution_count": 83,
     "metadata": {},
     "output_type": "execute_result"
    }
   ],
   "source": [
    "# https://chartio.com/resources/tutorials/how-to-check-if-any-value-is-nan-in-a-pandas-dataframe/ - [Accessed 7 Nov. 2023].\n",
    "garden_weather.isnull().sum()"
   ]
  },
  {
   "cell_type": "markdown",
   "metadata": {},
   "source": [
    "One null values is demonstrated in all of the columns except the *date_time* column. The presence of missing values in any dataset is an issue in so far as it can create a lack of relatability or trustworthiness in the dataset (Kumar, 2021). Consequently, if a strategy to manage missing values during model development is not employed insight could be lost leading to incorrect results (Tamboli, 2021). To synthesise or model the dataset the null values will need to be managed.\n",
    "\n",
    "Inspect the dataset for any duplicate rows across all columns."
   ]
  },
  {
   "cell_type": "code",
   "execution_count": 84,
   "metadata": {},
   "outputs": [
    {
     "data": {
      "text/html": [
       "<div>\n",
       "<style scoped>\n",
       "    .dataframe tbody tr th:only-of-type {\n",
       "        vertical-align: middle;\n",
       "    }\n",
       "\n",
       "    .dataframe tbody tr th {\n",
       "        vertical-align: top;\n",
       "    }\n",
       "\n",
       "    .dataframe thead th {\n",
       "        text-align: right;\n",
       "    }\n",
       "</style>\n",
       "<table border=\"1\" class=\"dataframe\">\n",
       "  <thead>\n",
       "    <tr style=\"text-align: right;\">\n",
       "      <th></th>\n",
       "      <th>date_time</th>\n",
       "      <th>wind_speed_m_s</th>\n",
       "      <th>gust_m_s</th>\n",
       "      <th>humidity_%</th>\n",
       "      <th>chill_celsius</th>\n",
       "      <th>chill_minimum_celsius</th>\n",
       "      <th>temperature_average_celsius</th>\n",
       "      <th>temperature_range_low_celsius</th>\n",
       "      <th>temperature_range_high_celsius</th>\n",
       "      <th>outside_air_pres_hPa</th>\n",
       "    </tr>\n",
       "    <tr>\n",
       "      <th>time_series</th>\n",
       "      <th></th>\n",
       "      <th></th>\n",
       "      <th></th>\n",
       "      <th></th>\n",
       "      <th></th>\n",
       "      <th></th>\n",
       "      <th></th>\n",
       "      <th></th>\n",
       "      <th></th>\n",
       "      <th></th>\n",
       "    </tr>\n",
       "  </thead>\n",
       "  <tbody>\n",
       "  </tbody>\n",
       "</table>\n",
       "</div>"
      ],
      "text/plain": [
       "Empty DataFrame\n",
       "Columns: [date_time, wind_speed_m_s, gust_m_s, humidity_%, chill_celsius, chill_minimum_celsius, temperature_average_celsius, temperature_range_low_celsius, temperature_range_high_celsius, outside_air_pres_hPa]\n",
       "Index: []"
      ]
     },
     "execution_count": 84,
     "metadata": {},
     "output_type": "execute_result"
    }
   ],
   "source": [
    "# https://www.statology.org/pandas-find-duplicates/ [Accessed 07 Nov.2023]\n",
    "duplicate_rows = garden_weather[garden_weather.duplicated()]\n",
    "\n",
    "duplicate_rows"
   ]
  },
  {
   "cell_type": "markdown",
   "metadata": {},
   "source": [
    "No duplicate rows are demonstrated."
   ]
  },
  {
   "cell_type": "markdown",
   "metadata": {},
   "source": [
    "## Dataset Variables <a id=\"dataset-variables\"></a>"
   ]
  },
  {
   "cell_type": "markdown",
   "metadata": {},
   "source": [
    "The dataset consists of 10 variables. When examining the dataset variables it is useful to look at their classification as this in turn will dictate how they can be analysed.\n",
    "\n",
    "**Variable Classification Summary Table** (Summarised from Sharma, 2020)\n",
    "\n",
    "![Data Summary](images/illustrations/data_categories_18102023_sh.png \"Data Summary Graphic\")\n",
    "\n",
    "Levels of measurement tell how precisely variables are recorded (Bhandari, 2020) and are summarised as follows:\n",
    "\n",
    "**Levels of Measurement Summary Table**\n",
    "\n",
    "| Level             | Description                                                                   |\n",
    "| :-----------      | :----------                                                                   |\n",
    "| Nominal           | The data can only be categorized                                              |\n",
    "| Ordinal           | The data can be categorized and ranked                                        |\n",
    "| Interval          | The data can be categorized, ranked, and evenly spaced                        |\n",
    "| Ratio             | The data can be categorized, ranked, evenly spaced, and has a natural zero    |\n",
    "\n",
    "Applying variable classification and level of measurement the dataset can be summarised as follows:\n",
    "\n",
    "**Variable Summary Table**\n",
    "\n",
    "| Variable                      | Classification    | Type          | Python Dtype  | Unit of Measure   | Level of Measure  |\n",
    "| :----------                   | :----------       | :----------   | :----------   | :---------        | :---------        |\n",
    "| date_time                     | numerical         | *             | Object        | date              | interval          |\n",
    "| wind_speed_m_s                | numerical         | continuous    | float64       | m/s               | ratio             |\n",
    "| gust_m_s                      | numerical         | continuous    | float64       | m/s               | ratio             |\n",
    "| humidity_%                    | numerical         | continuous    | float64       | mm                | ratio             |\n",
    "| chill_celsius                 | numerical         | continuous    | float64       | mm                | ratio             |\n",
    "| chill_minimum_celsius         | numerical         | continuous    | float64       | degrees celcius   | interval          |\n",
    "| temperature_average_celsius   | numerical         | continuous    | float64       | degrees celcius   | interval          |\n",
    "| temperature_range_low_celsius | numerical         | continuous    | float64       | degrees celcius   | interval          |\n",
    "| temperature_range_high_celsius| numerical         | continuous    | float64       | degrees celcius   | interval          |\n",
    "| outside_air_pres_hPa          | numerical         | continuous    | float64       | hPa               | interval          |\n",
    "\n",
    "\\* date and time can be continuous or discreet depending on use (Treadwell, 2014).\n",
    "\n",
    "Complex mathematical operations can be carried out on interval and ratio datatypes. Measures of central tendancy on these datatypes include mode, median and arithemtic mean (Bhandari, 2020). The measure of variability include range, interquartile range standard deviation and variance (op. cit.). Knowing these measures for the variable will enable modelling of the data. These values can be automatically calculated using the Pandas `describe()` method (www.javatpoint.com, n.d.)."
   ]
  },
  {
   "cell_type": "code",
   "execution_count": 85,
   "metadata": {},
   "outputs": [
    {
     "data": {
      "text/html": [
       "<div>\n",
       "<style scoped>\n",
       "    .dataframe tbody tr th:only-of-type {\n",
       "        vertical-align: middle;\n",
       "    }\n",
       "\n",
       "    .dataframe tbody tr th {\n",
       "        vertical-align: top;\n",
       "    }\n",
       "\n",
       "    .dataframe thead th {\n",
       "        text-align: right;\n",
       "    }\n",
       "</style>\n",
       "<table border=\"1\" class=\"dataframe\">\n",
       "  <thead>\n",
       "    <tr style=\"text-align: right;\">\n",
       "      <th></th>\n",
       "      <th>wind_speed_m_s</th>\n",
       "      <th>gust_m_s</th>\n",
       "      <th>humidity_%</th>\n",
       "      <th>chill_celsius</th>\n",
       "      <th>chill_minimum_celsius</th>\n",
       "      <th>temperature_average_celsius</th>\n",
       "      <th>temperature_range_low_celsius</th>\n",
       "      <th>temperature_range_high_celsius</th>\n",
       "      <th>outside_air_pres_hPa</th>\n",
       "    </tr>\n",
       "  </thead>\n",
       "  <tbody>\n",
       "    <tr>\n",
       "      <th>count</th>\n",
       "      <td>356.000000</td>\n",
       "      <td>356.000000</td>\n",
       "      <td>356.000000</td>\n",
       "      <td>356.000000</td>\n",
       "      <td>356.000000</td>\n",
       "      <td>356.000000</td>\n",
       "      <td>356.000000</td>\n",
       "      <td>356.000000</td>\n",
       "      <td>356.000000</td>\n",
       "    </tr>\n",
       "    <tr>\n",
       "      <th>mean</th>\n",
       "      <td>1.694663</td>\n",
       "      <td>5.188202</td>\n",
       "      <td>81.098315</td>\n",
       "      <td>17.388483</td>\n",
       "      <td>7.170506</td>\n",
       "      <td>11.589916</td>\n",
       "      <td>7.444382</td>\n",
       "      <td>17.445506</td>\n",
       "      <td>1012.151685</td>\n",
       "    </tr>\n",
       "    <tr>\n",
       "      <th>std</th>\n",
       "      <td>1.109269</td>\n",
       "      <td>2.966427</td>\n",
       "      <td>5.646277</td>\n",
       "      <td>6.571938</td>\n",
       "      <td>4.910919</td>\n",
       "      <td>5.112865</td>\n",
       "      <td>4.695277</td>\n",
       "      <td>6.499136</td>\n",
       "      <td>12.948221</td>\n",
       "    </tr>\n",
       "    <tr>\n",
       "      <th>min</th>\n",
       "      <td>0.000000</td>\n",
       "      <td>0.000000</td>\n",
       "      <td>60.000000</td>\n",
       "      <td>3.400000</td>\n",
       "      <td>-5.800000</td>\n",
       "      <td>-1.750000</td>\n",
       "      <td>-5.800000</td>\n",
       "      <td>3.400000</td>\n",
       "      <td>977.000000</td>\n",
       "    </tr>\n",
       "    <tr>\n",
       "      <th>25%</th>\n",
       "      <td>0.800000</td>\n",
       "      <td>3.000000</td>\n",
       "      <td>78.000000</td>\n",
       "      <td>11.775000</td>\n",
       "      <td>3.675000</td>\n",
       "      <td>7.730000</td>\n",
       "      <td>4.100000</td>\n",
       "      <td>11.800000</td>\n",
       "      <td>1004.375000</td>\n",
       "    </tr>\n",
       "    <tr>\n",
       "      <th>50%</th>\n",
       "      <td>1.500000</td>\n",
       "      <td>4.600000</td>\n",
       "      <td>81.000000</td>\n",
       "      <td>17.450000</td>\n",
       "      <td>7.600000</td>\n",
       "      <td>11.790000</td>\n",
       "      <td>7.750000</td>\n",
       "      <td>17.450000</td>\n",
       "      <td>1013.350000</td>\n",
       "    </tr>\n",
       "    <tr>\n",
       "      <th>75%</th>\n",
       "      <td>2.300000</td>\n",
       "      <td>6.700000</td>\n",
       "      <td>85.000000</td>\n",
       "      <td>23.100000</td>\n",
       "      <td>11.200000</td>\n",
       "      <td>15.517500</td>\n",
       "      <td>11.200000</td>\n",
       "      <td>23.100000</td>\n",
       "      <td>1020.650000</td>\n",
       "    </tr>\n",
       "    <tr>\n",
       "      <th>max</th>\n",
       "      <td>5.500000</td>\n",
       "      <td>15.600000</td>\n",
       "      <td>94.000000</td>\n",
       "      <td>32.800000</td>\n",
       "      <td>17.800000</td>\n",
       "      <td>22.510000</td>\n",
       "      <td>17.800000</td>\n",
       "      <td>32.800000</td>\n",
       "      <td>1045.200000</td>\n",
       "    </tr>\n",
       "  </tbody>\n",
       "</table>\n",
       "</div>"
      ],
      "text/plain": [
       "       wind_speed_m_s    gust_m_s  humidity_%  chill_celsius  \\\n",
       "count      356.000000  356.000000  356.000000     356.000000   \n",
       "mean         1.694663    5.188202   81.098315      17.388483   \n",
       "std          1.109269    2.966427    5.646277       6.571938   \n",
       "min          0.000000    0.000000   60.000000       3.400000   \n",
       "25%          0.800000    3.000000   78.000000      11.775000   \n",
       "50%          1.500000    4.600000   81.000000      17.450000   \n",
       "75%          2.300000    6.700000   85.000000      23.100000   \n",
       "max          5.500000   15.600000   94.000000      32.800000   \n",
       "\n",
       "       chill_minimum_celsius  temperature_average_celsius  \\\n",
       "count             356.000000                   356.000000   \n",
       "mean                7.170506                    11.589916   \n",
       "std                 4.910919                     5.112865   \n",
       "min                -5.800000                    -1.750000   \n",
       "25%                 3.675000                     7.730000   \n",
       "50%                 7.600000                    11.790000   \n",
       "75%                11.200000                    15.517500   \n",
       "max                17.800000                    22.510000   \n",
       "\n",
       "       temperature_range_low_celsius  temperature_range_high_celsius  \\\n",
       "count                     356.000000                      356.000000   \n",
       "mean                        7.444382                       17.445506   \n",
       "std                         4.695277                        6.499136   \n",
       "min                        -5.800000                        3.400000   \n",
       "25%                         4.100000                       11.800000   \n",
       "50%                         7.750000                       17.450000   \n",
       "75%                        11.200000                       23.100000   \n",
       "max                        17.800000                       32.800000   \n",
       "\n",
       "       outside_air_pres_hPa  \n",
       "count            356.000000  \n",
       "mean            1012.151685  \n",
       "std               12.948221  \n",
       "min              977.000000  \n",
       "25%             1004.375000  \n",
       "50%             1013.350000  \n",
       "75%             1020.650000  \n",
       "max             1045.200000  "
      ]
     },
     "execution_count": 85,
     "metadata": {},
     "output_type": "execute_result"
    }
   ],
   "source": [
    "# assign variable so that values can be accessed later\n",
    "data_summary = garden_weather.describe()\n",
    "data_summary"
   ]
  },
  {
   "cell_type": "markdown",
   "metadata": {},
   "source": [
    "---"
   ]
  },
  {
   "cell_type": "markdown",
   "metadata": {},
   "source": [
    "## Random Probability Distribution <a id=\"random-probability-distribution\"></a>\n",
    "\n",
    "*\"In probability theory and statistics, a [probability distribution](https://en.wikipedia.org/wiki/Probability_distribution) is the mathematical function that gives the probabilities of occurrence of different possible outcomes for an experiment.\"* (Wikipedia Contributors, 2019).\n",
    "\n",
    "In order synthesise variables in the dataset it is insightful to visually represent the day in order to understand how the data is distributed. This can be achieved using the Matplotlib library to create histigrams of the dataset variables."
   ]
  },
  {
   "cell_type": "code",
   "execution_count": 86,
   "metadata": {},
   "outputs": [],
   "source": [
    "# import the required libraries\n",
    "import matplotlib.pyplot as plt\n",
    "import numpy as np"
   ]
  },
  {
   "cell_type": "markdown",
   "metadata": {},
   "source": [
    "Weather variables are subject to seasonal variation and therefore to create an accurate model of the dataset it becomes useful to break the data down by season. As per Wikipedia (Wikipedia Contributors, 2023), Ireland experiences 4 seasons:\n",
    "- Winter = November, December & January\n",
    "- Spring = February, March & April\n",
    "- summer = May, June & July\n",
    "- Autumn = August, September & October"
   ]
  },
  {
   "cell_type": "code",
   "execution_count": 87,
   "metadata": {},
   "outputs": [],
   "source": [
    "# Filter DateFrame by seasons - https://kanoki.org/2022/07/16/pandas-filter-dates-by-month-hour-day-or-last-n-days-weeks/ [Accessed 8 Nov. 2023]. \n",
    "winter = garden_weather[garden_weather.index.month_name().isin(['November', 'December', 'January'])].sort_index(ascending=True)\n",
    "winter_rows = winter.shape[0]\n",
    "spring = garden_weather[garden_weather.index.month_name().isin(['February', 'March', 'April'])].sort_index(ascending=True)\n",
    "spring_rows = spring.shape[0]\n",
    "summer = garden_weather[garden_weather.index.month_name().isin(['May', 'June', 'July'])].sort_index(ascending=True)\n",
    "summer_rows = summer.shape[0]\n",
    "autumn = garden_weather[garden_weather.index.month_name().isin(['August', 'September', 'October'])].sort_index(ascending=True)\n",
    "autumn_rows = autumn.shape[0]"
   ]
  },
  {
   "cell_type": "markdown",
   "metadata": {},
   "source": [
    "### Wind Speed <a id=\"wind-speed\"></a>\n",
    "\n",
    "Literature suggests that the Rayleigh distribution can be used to model wind speed. \n",
    "\n",
    "*Rayleigh's distribution can be used to describe the wind variations in a wind regime with an acceptable level of\n",
    "accuracy without the need for data collected over short time intervals, as is the case of the Weibull distribution,\n",
    "because in many cases, such information cannot be available.* (Paraschiv, Paraschiv and Ion, 2019).\n",
    "\n",
    "The wind speed variable in the dataset is an average daily value which relative to an hourly value is a much longer time interval and therefore would be better suited to the Rayleigh model than the Weibull distribution.\n",
    "\n",
    "The probability density function of the Rayleigh is expressed mathematically as:\n",
    "\n",
    "$f(x;\\sigma )={\\frac {x}{\\sigma ^{2}}}e^{-x^{2}/(2\\sigma ^{2})},\\quad x\\geq 0,$\n",
    "\n",
    "where $\\sigma$ is the scale parameter of the distribution.\n",
    "\n",
    "Using numpy it is possible to draw samples from the Rayleigh distribution. The python syntax of the Rayleigh distribution is `random.Generator.rayleigh(scale=1.0, size=None)`. The scale also equals the mode also equals the mode (numpy.org, n.d.)."
   ]
  },
  {
   "cell_type": "markdown",
   "metadata": {},
   "source": [
    "Plotting histograms of the distribution of the wind speeds assists with fitting a probability distribution model."
   ]
  },
  {
   "cell_type": "code",
   "execution_count": 88,
   "metadata": {},
   "outputs": [
    {
     "data": {
      "text/plain": [
       "[Text(0.5, 0, 'value'), Text(0, 0.5, 'count')]"
      ]
     },
     "execution_count": 88,
     "metadata": {},
     "output_type": "execute_result"
    },
    {
     "data": {
      "image/png": "[encoded data removed]",
      "text/plain": [
       "<Figure size 1600x400 with 4 Axes>"
      ]
     },
     "metadata": {},
     "output_type": "display_data"
    }
   ],
   "source": [
    "plt.rcParams[\"figure.figsize\"] = [16, 4]\n",
    "plt.rcParams[\"figure.autolayout\"] = True\n",
    "\n",
    "fig, axis = plt.subplots(1, 4)\n",
    "axis[0].hist(winter['wind_speed_m_s'], color = 'green', edgecolor = 'black', bins=15)\n",
    "axis[0].set_title(\"Wind Speed - Winter\")\n",
    "axis[0].set(xlabel='value', ylabel='count')\n",
    "axis[1].hist(spring['wind_speed_m_s'], color = 'green', edgecolor = 'black', bins=15)\n",
    "axis[1].set_title(\"Wind Speed -Spring\")\n",
    "axis[1].set(xlabel='value', ylabel='count')\n",
    "axis[2].hist(summer['wind_speed_m_s'], color = 'green', edgecolor = 'black', bins=15)\n",
    "axis[2].set_title(\"Wind Speed - summer\")\n",
    "axis[2].set(xlabel='value', ylabel='count')\n",
    "axis[3].hist(autumn['wind_speed_m_s'], color = 'green', edgecolor = 'black', bins=15)\n",
    "axis[3].set_title(\"Wind Speed - Autumn\")\n",
    "axis[3].set(xlabel='value', ylabel='count')"
   ]
  },
  {
   "cell_type": "code",
   "execution_count": 89,
   "metadata": {},
   "outputs": [
    {
     "name": "stderr",
     "output_type": "stream",
     "text": [
      "/home/sean/lib/python3.11/site-packages/scipy/stats/_continuous_distns.py:8280: RuntimeWarning: overflow encountered in divide\n",
      "  s3 = (1/xm).sum()\n"
     ]
    },
    {
     "ename": "ValueError",
     "evalue": "The data contains non-finite values.",
     "output_type": "error",
     "traceback": [
      "\u001b[0;31m---------------------------------------------------------------------------\u001b[0m",
      "\u001b[0;31mValueError\u001b[0m                                Traceback (most recent call last)",
      "\u001b[0;32m/tmp/ipykernel_69311/3553648827.py\u001b[0m in \u001b[0;36m?\u001b[0;34m()\u001b[0m\n\u001b[1;32m      2\u001b[0m \u001b[0;34m\u001b[0m\u001b[0m\n\u001b[1;32m      3\u001b[0m \u001b[0mwinter_loc\u001b[0m\u001b[0;34m,\u001b[0m \u001b[0mwinter_scale\u001b[0m \u001b[0;34m=\u001b[0m \u001b[0mstats\u001b[0m\u001b[0;34m.\u001b[0m\u001b[0mrayleigh\u001b[0m\u001b[0;34m.\u001b[0m\u001b[0mfit\u001b[0m\u001b[0;34m(\u001b[0m\u001b[0mwinter\u001b[0m\u001b[0;34m[\u001b[0m\u001b[0;34m'wind_speed_m_s'\u001b[0m\u001b[0;34m]\u001b[0m\u001b[0;34m)\u001b[0m\u001b[0;34m\u001b[0m\u001b[0;34m\u001b[0m\u001b[0m\n\u001b[1;32m      4\u001b[0m \u001b[0mspring_loc\u001b[0m\u001b[0;34m,\u001b[0m \u001b[0mspring_scale\u001b[0m \u001b[0;34m=\u001b[0m \u001b[0mstats\u001b[0m\u001b[0;34m.\u001b[0m\u001b[0mrayleigh\u001b[0m\u001b[0;34m.\u001b[0m\u001b[0mfit\u001b[0m\u001b[0;34m(\u001b[0m\u001b[0mspring\u001b[0m\u001b[0;34m[\u001b[0m\u001b[0;34m'wind_speed_m_s'\u001b[0m\u001b[0;34m]\u001b[0m\u001b[0;34m)\u001b[0m\u001b[0;34m\u001b[0m\u001b[0;34m\u001b[0m\u001b[0m\n\u001b[1;32m      5\u001b[0m \u001b[0msummer_loc\u001b[0m\u001b[0;34m,\u001b[0m \u001b[0msummer_scale\u001b[0m \u001b[0;34m=\u001b[0m \u001b[0mstats\u001b[0m\u001b[0;34m.\u001b[0m\u001b[0mrayleigh\u001b[0m\u001b[0;34m.\u001b[0m\u001b[0mfit\u001b[0m\u001b[0;34m(\u001b[0m\u001b[0msummer\u001b[0m\u001b[0;34m[\u001b[0m\u001b[0;34m'wind_speed_m_s'\u001b[0m\u001b[0;34m]\u001b[0m\u001b[0;34m)\u001b[0m\u001b[0;34m\u001b[0m\u001b[0;34m\u001b[0m\u001b[0m\n\u001b[0;32m----> 6\u001b[0;31m \u001b[0mautumn_loc\u001b[0m\u001b[0;34m,\u001b[0m \u001b[0mautumn_scale\u001b[0m \u001b[0;34m=\u001b[0m \u001b[0mstats\u001b[0m\u001b[0;34m.\u001b[0m\u001b[0mrayleigh\u001b[0m\u001b[0;34m.\u001b[0m\u001b[0mfit\u001b[0m\u001b[0;34m(\u001b[0m\u001b[0mautumn\u001b[0m\u001b[0;34m[\u001b[0m\u001b[0;34m'wind_speed_m_s'\u001b[0m\u001b[0;34m]\u001b[0m\u001b[0;34m)\u001b[0m\u001b[0;34m\u001b[0m\u001b[0;34m\u001b[0m\u001b[0m\n\u001b[0m\u001b[1;32m      7\u001b[0m \u001b[0;34m\u001b[0m\u001b[0m\n\u001b[1;32m      8\u001b[0m \u001b[0mwinter_xl\u001b[0m \u001b[0;34m=\u001b[0m \u001b[0mnp\u001b[0m\u001b[0;34m.\u001b[0m\u001b[0mlinspace\u001b[0m\u001b[0;34m(\u001b[0m\u001b[0mwinter\u001b[0m\u001b[0;34m[\u001b[0m\u001b[0;34m'wind_speed_m_s'\u001b[0m\u001b[0;34m]\u001b[0m\u001b[0;34m.\u001b[0m\u001b[0mmin\u001b[0m\u001b[0;34m(\u001b[0m\u001b[0;34m)\u001b[0m\u001b[0;34m,\u001b[0m \u001b[0mwinter\u001b[0m\u001b[0;34m[\u001b[0m\u001b[0;34m'wind_speed_m_s'\u001b[0m\u001b[0;34m]\u001b[0m\u001b[0;34m.\u001b[0m\u001b[0mmax\u001b[0m\u001b[0;34m(\u001b[0m\u001b[0;34m)\u001b[0m\u001b[0;34m)\u001b[0m\u001b[0;34m\u001b[0m\u001b[0;34m\u001b[0m\u001b[0m\n\u001b[1;32m      9\u001b[0m \u001b[0mspring_xl\u001b[0m \u001b[0;34m=\u001b[0m \u001b[0mnp\u001b[0m\u001b[0;34m.\u001b[0m\u001b[0mlinspace\u001b[0m\u001b[0;34m(\u001b[0m\u001b[0mspring\u001b[0m\u001b[0;34m[\u001b[0m\u001b[0;34m'wind_speed_m_s'\u001b[0m\u001b[0;34m]\u001b[0m\u001b[0;34m.\u001b[0m\u001b[0mmin\u001b[0m\u001b[0;34m(\u001b[0m\u001b[0;34m)\u001b[0m\u001b[0;34m,\u001b[0m \u001b[0mspring\u001b[0m\u001b[0;34m[\u001b[0m\u001b[0;34m'wind_speed_m_s'\u001b[0m\u001b[0;34m]\u001b[0m\u001b[0;34m.\u001b[0m\u001b[0mmax\u001b[0m\u001b[0;34m(\u001b[0m\u001b[0;34m)\u001b[0m\u001b[0;34m)\u001b[0m\u001b[0;34m\u001b[0m\u001b[0;34m\u001b[0m\u001b[0m\n",
      "\u001b[0;32m/home/sean/lib/python3.11/site-packages/scipy/stats/_continuous_distns.py\u001b[0m in \u001b[0;36m?\u001b[0;34m(self, data, *args, **kwds)\u001b[0m\n\u001b[1;32m     70\u001b[0m                 \u001b[0;31m# data is an instance of CensoredData, but actually holds\u001b[0m\u001b[0;34m\u001b[0m\u001b[0;34m\u001b[0m\u001b[0m\n\u001b[1;32m     71\u001b[0m                 \u001b[0;31m# no censored values, so replace it with the array of\u001b[0m\u001b[0;34m\u001b[0m\u001b[0;34m\u001b[0m\u001b[0m\n\u001b[1;32m     72\u001b[0m                 \u001b[0;31m# uncensored values.\u001b[0m\u001b[0;34m\u001b[0m\u001b[0;34m\u001b[0m\u001b[0m\n\u001b[1;32m     73\u001b[0m                 \u001b[0mdata\u001b[0m \u001b[0;34m=\u001b[0m \u001b[0mdata\u001b[0m\u001b[0;34m.\u001b[0m\u001b[0m_uncensored\u001b[0m\u001b[0;34m\u001b[0m\u001b[0;34m\u001b[0m\u001b[0m\n\u001b[0;32m---> 74\u001b[0;31m             \u001b[0;32mreturn\u001b[0m \u001b[0mfun\u001b[0m\u001b[0;34m(\u001b[0m\u001b[0mself\u001b[0m\u001b[0;34m,\u001b[0m \u001b[0mdata\u001b[0m\u001b[0;34m,\u001b[0m \u001b[0;34m*\u001b[0m\u001b[0margs\u001b[0m\u001b[0;34m,\u001b[0m \u001b[0;34m**\u001b[0m\u001b[0mkwds\u001b[0m\u001b[0;34m)\u001b[0m\u001b[0;34m\u001b[0m\u001b[0;34m\u001b[0m\u001b[0m\n\u001b[0m",
      "\u001b[0;32m/home/sean/lib/python3.11/site-packages/scipy/stats/_continuous_distns.py\u001b[0m in \u001b[0;36m?\u001b[0;34m(self, data, *args, **kwds)\u001b[0m\n\u001b[1;32m   8262\u001b[0m         for the optimizer are ignored.\\n\\n\"\"\")\n\u001b[1;32m   8263\u001b[0m     \u001b[0;32mdef\u001b[0m \u001b[0mfit\u001b[0m\u001b[0;34m(\u001b[0m\u001b[0mself\u001b[0m\u001b[0;34m,\u001b[0m \u001b[0mdata\u001b[0m\u001b[0;34m,\u001b[0m \u001b[0;34m*\u001b[0m\u001b[0margs\u001b[0m\u001b[0;34m,\u001b[0m \u001b[0;34m**\u001b[0m\u001b[0mkwds\u001b[0m\u001b[0;34m)\u001b[0m\u001b[0;34m:\u001b[0m\u001b[0;34m\u001b[0m\u001b[0;34m\u001b[0m\u001b[0m\n\u001b[1;32m   8264\u001b[0m         \u001b[0;32mif\u001b[0m \u001b[0mkwds\u001b[0m\u001b[0;34m.\u001b[0m\u001b[0mpop\u001b[0m\u001b[0;34m(\u001b[0m\u001b[0;34m'superfit'\u001b[0m\u001b[0;34m,\u001b[0m \u001b[0;32mFalse\u001b[0m\u001b[0;34m)\u001b[0m\u001b[0;34m:\u001b[0m\u001b[0;34m\u001b[0m\u001b[0;34m\u001b[0m\u001b[0m\n\u001b[1;32m   8265\u001b[0m             \u001b[0;32mreturn\u001b[0m \u001b[0msuper\u001b[0m\u001b[0;34m(\u001b[0m\u001b[0;34m)\u001b[0m\u001b[0;34m.\u001b[0m\u001b[0mfit\u001b[0m\u001b[0;34m(\u001b[0m\u001b[0mdata\u001b[0m\u001b[0;34m,\u001b[0m \u001b[0;34m*\u001b[0m\u001b[0margs\u001b[0m\u001b[0;34m,\u001b[0m \u001b[0;34m**\u001b[0m\u001b[0mkwds\u001b[0m\u001b[0;34m)\u001b[0m\u001b[0;34m\u001b[0m\u001b[0;34m\u001b[0m\u001b[0m\n\u001b[0;32m-> 8266\u001b[0;31m         data, floc, fscale = _check_fit_input_parameters(self, data,\n\u001b[0m\u001b[1;32m   8267\u001b[0m                                                          args, kwds)\n\u001b[1;32m   8268\u001b[0m \u001b[0;34m\u001b[0m\u001b[0m\n\u001b[1;32m   8269\u001b[0m         \u001b[0;32mdef\u001b[0m \u001b[0mscale_mle\u001b[0m\u001b[0;34m(\u001b[0m\u001b[0mloc\u001b[0m\u001b[0;34m)\u001b[0m\u001b[0;34m:\u001b[0m\u001b[0;34m\u001b[0m\u001b[0;34m\u001b[0m\u001b[0m\n",
      "\u001b[0;32m/home/sean/lib/python3.11/site-packages/scipy/stats/_continuous_distns.py\u001b[0m in \u001b[0;36m?\u001b[0;34m(dist, data, args, kwds)\u001b[0m\n\u001b[1;32m   5514\u001b[0m                            \"optimize.\")\n\u001b[1;32m   5515\u001b[0m \u001b[0;34m\u001b[0m\u001b[0m\n\u001b[1;32m   5516\u001b[0m     \u001b[0muncensored\u001b[0m \u001b[0;34m=\u001b[0m \u001b[0mdata\u001b[0m\u001b[0;34m.\u001b[0m\u001b[0m_uncensor\u001b[0m\u001b[0;34m(\u001b[0m\u001b[0;34m)\u001b[0m \u001b[0;32mif\u001b[0m \u001b[0misinstance\u001b[0m\u001b[0;34m(\u001b[0m\u001b[0mdata\u001b[0m\u001b[0;34m,\u001b[0m \u001b[0mCensoredData\u001b[0m\u001b[0;34m)\u001b[0m \u001b[0;32melse\u001b[0m \u001b[0mdata\u001b[0m\u001b[0;34m\u001b[0m\u001b[0;34m\u001b[0m\u001b[0m\n\u001b[1;32m   5517\u001b[0m     \u001b[0;32mif\u001b[0m \u001b[0;32mnot\u001b[0m \u001b[0mnp\u001b[0m\u001b[0;34m.\u001b[0m\u001b[0misfinite\u001b[0m\u001b[0;34m(\u001b[0m\u001b[0muncensored\u001b[0m\u001b[0;34m)\u001b[0m\u001b[0;34m.\u001b[0m\u001b[0mall\u001b[0m\u001b[0;34m(\u001b[0m\u001b[0;34m)\u001b[0m\u001b[0;34m:\u001b[0m\u001b[0;34m\u001b[0m\u001b[0;34m\u001b[0m\u001b[0m\n\u001b[0;32m-> 5518\u001b[0;31m         \u001b[0;32mraise\u001b[0m \u001b[0mValueError\u001b[0m\u001b[0;34m(\u001b[0m\u001b[0;34m\"The data contains non-finite values.\"\u001b[0m\u001b[0;34m)\u001b[0m\u001b[0;34m\u001b[0m\u001b[0;34m\u001b[0m\u001b[0m\n\u001b[0m\u001b[1;32m   5519\u001b[0m \u001b[0;34m\u001b[0m\u001b[0m\n\u001b[1;32m   5520\u001b[0m     \u001b[0;32mreturn\u001b[0m \u001b[0;34m(\u001b[0m\u001b[0mdata\u001b[0m\u001b[0;34m,\u001b[0m \u001b[0;34m*\u001b[0m\u001b[0mfshapes\u001b[0m\u001b[0;34m,\u001b[0m \u001b[0mfloc\u001b[0m\u001b[0;34m,\u001b[0m \u001b[0mfscale\u001b[0m\u001b[0;34m)\u001b[0m\u001b[0;34m\u001b[0m\u001b[0;34m\u001b[0m\u001b[0m\n",
      "\u001b[0;31mValueError\u001b[0m: The data contains non-finite values."
     ]
    }
   ],
   "source": [
    "from scipy import stats\n",
    "\n",
    "winter_loc, winter_scale = stats.rayleigh.fit(winter['wind_speed_m_s'])\n",
    "spring_loc, spring_scale = stats.rayleigh.fit(spring['wind_speed_m_s'])\n",
    "summer_loc, summer_scale = stats.rayleigh.fit(summer['wind_speed_m_s'])\n",
    "autumn_loc, autumn_scale = stats.rayleigh.fit(autumn['wind_speed_m_s'])\n",
    "\n",
    "winter_xl = np.linspace(winter['wind_speed_m_s'].min(), winter['wind_speed_m_s'].max())\n",
    "spring_xl = np.linspace(spring['wind_speed_m_s'].min(), spring['wind_speed_m_s'].max())\n",
    "summer_xl = np.linspace(summer['wind_speed_m_s'].min(), summer['wind_speed_m_s'].max())\n",
    "autumn_xl = np.linspace(winter['wind_speed_m_s'].min(), autumn['wind_speed_m_s'].max())\n",
    "\n",
    "\n",
    "# Display Results:\n",
    "fig, axe = plt.subplots(1, 4)\n",
    "\n",
    "axe[0].hist(winter['wind_speed_m_s'],density=1, label=\"Real World Data\", color='green')\n",
    "axe[0].plot(winter_xl,stats.rayleigh(scale=winter_scale, loc=winter_loc).pdf(winter_xl), label=\"Rayleigh\", color='black')\n",
    "axe[0].set_title(\"Winter Wind Speed Distribution Fit\")\n",
    "axe[0].set_xlabel(\"Value\")\n",
    "axe[0].legend()\n",
    "axe[0].grid()\n",
    "\n",
    "axe[1].hist(spring['wind_speed_m_s'],density=1, label=\"Real World Data\", color='green')\n",
    "axe[1].plot(spring_xl,stats.rayleigh(scale=spring_scale, loc=spring_loc).pdf(spring_xl), label=\"Rayleigh\", color='black')\n",
    "axe[1].set_title(\"Spring Wind Speed Distribution Fit\")\n",
    "axe[1].set_xlabel(\"Value\")\n",
    "axe[1].legend()\n",
    "axe[1].grid()\n",
    "\n",
    "axe[2].hist(summer['wind_speed_m_s'],density=1, label=\"Real World Data\", color='green')\n",
    "axe[2].plot(summer_xl,stats.rayleigh(scale=summer_scale, loc=summer_loc).pdf(summer_xl), label=\"Rayleigh\", color='black')\n",
    "axe[2].set_title(\"Summer Wind Speed Distribution Fit\")\n",
    "axe[2].set_xlabel(\"Value\")\n",
    "axe[2].legend()\n",
    "axe[2].grid()\n",
    "\n",
    "axe[3].hist(autumn['wind_speed_m_s'],density=1, label=\"Real World Data\", color='green')\n",
    "axe[3].plot(autumn_xl,stats.rayleigh(scale=autumn_scale, loc=autumn_loc).pdf(autumn_xl), label=\"Rayleigh\", color='black')\n",
    "axe[3].set_title(\"Autumn Wind Speed Distribution Fit\")\n",
    "axe[3].set_xlabel(\"Value\")\n",
    "axe[3].legend()\n",
    "axe[3].grid()\n"
   ]
  },
  {
   "cell_type": "code",
   "execution_count": null,
   "metadata": {},
   "outputs": [],
   "source": [
    "january = garden_weather[garden_weather.index.month_name().isin(['January'])].sort_index(ascending=True)\n",
    "\n",
    "\n",
    "january_loc, january_scale = stats.rayleigh.fit(january['wind_speed_m_s'])\n",
    "\n",
    "january_xl = np.linspace(january['wind_speed_m_s'].min(), january['wind_speed_m_s'].max())\n",
    "\n",
    "plt.rcParams[\"figure.figsize\"] = [4, 4]\n",
    "\n",
    "fig, axe = plt.subplots(1)\n",
    "\n",
    "axe.hist(january['wind_speed_m_s'],density=1, label=\"background\", color='green')\n",
    "axe.plot(january_xl,stats.rayleigh(scale=january_scale, loc=january_loc).pdf(january_xl), label=\"Rayleigh\", color='black')\n",
    "axe.set_title(\"January Wind Speed Distribution Fit\")\n",
    "axe.set_xlabel(\"Value\")\n",
    "axe.legend()\n",
    "axe.grid()\n"
   ]
  },
  {
   "cell_type": "markdown",
   "metadata": {},
   "source": [
    "Wind speed appears to be more widely distributed over a greater range in winter and spring than in the autumn and autumn with a higher frequency of lower speeds vs higher speeds. The appearance of the distributions is similar to \"standard\" bell curve, however the distribution appears to be shifted to the right which is more consistent with the characteristics of a Rayleigh distribution.\n",
    "\n",
    "**Rayleigh Distribution** - Krishnavedala, CC0, via Wikimedia Commons\n",
    "![Rayleigh Distribution Curves](images/illustrations/768px-Rayleigh_distributionPDF.svg.png \"Rayleigh Distribution Curve\")"
   ]
  },
  {
   "cell_type": "markdown",
   "metadata": {},
   "source": [
    "To model the distribution using the Rayleigh probability distribution the mode of the variables must be known. However, firstly, the null values must be managed. The null values are located in the autumn data range. The null values can be replaced with the median values. "
   ]
  },
  {
   "cell_type": "code",
   "execution_count": null,
   "metadata": {},
   "outputs": [],
   "source": [
    "# identify null values\n",
    "autumn.isnull().sum()"
   ]
  },
  {
   "cell_type": "code",
   "execution_count": null,
   "metadata": {},
   "outputs": [],
   "source": [
    "# replace nan values with the median - Zach (2022). The model could be unreliable if null values are not managed (Tamboli, 2021) \n",
    "autumn = autumn.fillna(autumn.median(numeric_only=True))\n",
    "\n",
    "# check na values\n",
    "autumn.isnull().sum()"
   ]
  },
  {
   "cell_type": "markdown",
   "metadata": {},
   "source": [
    "The mode of the ranges of data are required for the Rayleigh distribution."
   ]
  },
  {
   "cell_type": "code",
   "execution_count": null,
   "metadata": {},
   "outputs": [],
   "source": [
    "# get mode of the wind speed variables by season\n",
    "winter_ws_mode = winter['wind_speed_m_s'].mode()\n",
    "spring_ws_mode = spring['wind_speed_m_s'].mode()\n",
    "autumn_ws_mode = autumn['wind_speed_m_s'].mode()\n",
    "autumn_ws_mode = autumn['wind_speed_m_s'].mode()\n",
    "\n",
    "print(winter_ws_mode)\n",
    "print(spring_ws_mode)\n",
    "print(autumn_ws_mode)\n",
    "print(autumn_ws_mode)"
   ]
  },
  {
   "cell_type": "markdown",
   "metadata": {},
   "source": [
    "The Raleigh distributions are generated and the histograms are plotted."
   ]
  },
  {
   "cell_type": "code",
   "execution_count": null,
   "metadata": {},
   "outputs": [],
   "source": [
    "# seeding so the random numbers generated don't change when code is run, for demonstrative purposes\n",
    "seed = np.random.seed(2)\n",
    "\n",
    "# draw randomly from rayleigh distributions for each season\n",
    "model_ws_winter = np.random.rayleigh(winter_ws_mode[0], winter_rows)\n",
    "model_ws_spring = np.random.rayleigh(spring_ws_mode[0], spring_rows)\n",
    "model_ws_autumn = np.random.rayleigh(autumn_ws_mode[0], autumn_rows)\n",
    "model_ws_autumn = np.random.rayleigh(autumn_ws_mode[0], autumn_rows)\n",
    "\n",
    "\n",
    "\n",
    "plt.rcParams[\"figure.figsize\"] = [16, 4]\n",
    "plt.rcParams[\"figure.autolayout\"] = True\n",
    "\n",
    "fig, axis = plt.subplots(1, 4)\n",
    "axis[0].hist(model_ws_winter, color = 'grey', edgecolor = 'black', bins=15)\n",
    "axis[0].set_title(\"Wind Speed Model Winter\")\n",
    "axis[0].set(xlabel='value', ylabel='count')\n",
    "axis[1].hist(model_ws_spring, color = 'grey', edgecolor = 'black', bins=15)\n",
    "axis[1].set_title(\"Wind Speed Model Spring\")\n",
    "axis[1].set(xlabel='value', ylabel='count')\n",
    "axis[2].hist(model_ws_autumn, color = 'grey', edgecolor = 'black', bins=15)\n",
    "axis[2].set_title(\"Wind Speed Model autumn\")\n",
    "axis[2].set(xlabel='value', ylabel='count')\n",
    "axis[3].hist(model_ws_autumn, color = 'grey', edgecolor = 'black', bins=15)\n",
    "axis[3].set_title(\"Wind Speed Model Autumn\")\n",
    "axis[3].set(xlabel='value', ylabel='count')"
   ]
  },
  {
   "cell_type": "markdown",
   "metadata": {},
   "source": [
    "The histograms from the generated data have a similar appearance to the wind speed data in the dataset. To test the hypothesis that the Rayleigh distribution models the wind speed variable the Kernel Density Estimations (KDE) for the real world data and the modelled data can be compared. Kernel Density Estimation is the application of kernel smoothing for probability density estimation."
   ]
  },
  {
   "cell_type": "code",
   "execution_count": null,
   "metadata": {},
   "outputs": [],
   "source": [
    "# import seaborn in order to plot KDE\n",
    "import seaborn as sns\n",
    "\n",
    "# seeding so the random numbers generated don't change when code is run, for demonstrative purposes\n",
    "seed = np.random.seed(3)\n",
    "\n",
    "# generate a range of values normally distributed with the actual data\n",
    "winter_normal_wind_speed = np.random.normal(winter.describe()['wind_speed_m_s']['mean'], winter.describe()['wind_speed_m_s']['std'], size = winter_rows)\n",
    "\n",
    "fig = plt.figure(figsize=(5,5))\n",
    "sns.kdeplot(model_ws_winter)\n",
    "sns.kdeplot(winter['wind_speed_m_s'])\n",
    "#sns.kdeplot(winter_normal_wind_speed)\n",
    "fig.legend(labels=['rayleigh model','actual data'], loc=\"right\")\n",
    "\n",
    "plt.title(\"Winter Wind Speed KDE Plots\")\n",
    "plt.show()\n"
   ]
  },
  {
   "cell_type": "code",
   "execution_count": null,
   "metadata": {},
   "outputs": [],
   "source": [
    "# seeding so the random numbers generated don't change when code is run, for demonstrative purposes\n",
    "seed = np.random.seed(3)\n",
    "\n",
    "# generate a range of values normally distributed with the actual data\n",
    "spring_normal_wind_speed = np.random.normal(spring.describe()['wind_speed_m_s']['mean'], spring.describe()['wind_speed_m_s']['std'], size = spring_rows)\n",
    "\n",
    "fig = plt.figure(figsize=(5,5))\n",
    "sns.kdeplot(model_ws_spring)\n",
    "sns.kdeplot(spring['wind_speed_m_s'])\n",
    "# sns.kdeplot(spring_normal_wind_speed)\n",
    "fig.legend(labels=['rayleigh model','actual data', 'standard model'], loc=\"right\")\n",
    "\n",
    "plt.title(\"Spring Wind Speed KDE Plots\")\n",
    "plt.show()"
   ]
  },
  {
   "cell_type": "code",
   "execution_count": null,
   "metadata": {},
   "outputs": [],
   "source": [
    "# seeding so the random numbers generated don't change when code is run, for demonstrative purposes\n",
    "seed = np.random.seed(3)\n",
    "\n",
    "# generate a range of values normally distributed with the actual data\n",
    "autumn_normal_wind_speed = np.random.normal(spring.describe()['wind_speed_m_s']['mean'], spring.describe()['wind_speed_m_s']['std'], size = spring_rows)\n",
    "\n",
    "fig = plt.figure(figsize=(5,5))\n",
    "sns.kdeplot(model_ws_autumn)\n",
    "sns.kdeplot(autumn['wind_speed_m_s'])\n",
    "# sns.kdeplot(spring_normal_wind_speed)\n",
    "fig.legend(labels=['rayleigh model','actual data', 'standard model'], loc=\"right\")\n",
    "\n",
    "plt.title(\"autumn Wind Speed KDE Plots\")\n",
    "plt.show()"
   ]
  },
  {
   "cell_type": "code",
   "execution_count": null,
   "metadata": {},
   "outputs": [],
   "source": [
    "# seeding so the random numbers generated don't change when code is run, for demonstrative purposes\n",
    "seed = np.random.seed(3)\n",
    "\n",
    "# generate a range of values normally distributed with the actual data\n",
    "autumn_normal_wind_speed = np.random.normal(spring.describe()['wind_speed_m_s']['mean'], spring.describe()['wind_speed_m_s']['std'], size = spring_rows)\n",
    "\n",
    "fig = plt.figure(figsize=(5,5))\n",
    "sns.kdeplot(model_ws_autumn)\n",
    "sns.kdeplot(autumn['wind_speed_m_s'])\n",
    "# sns.kdeplot(spring_normal_wind_speed)\n",
    "fig.legend(labels=['rayleigh model','actual data', 'standard model'], loc=\"right\")\n",
    "\n",
    "plt.title(\"Autumn Wind Speed KDE Plots\")\n",
    "plt.show()"
   ]
  },
  {
   "cell_type": "markdown",
   "metadata": {},
   "source": [
    "The overlaid KDEs are close but not exact matches. There could be a number of reasons for this possibly including that the anemometer where the data was generated is measuring some level of wind turbulence (and thus signal noise) as opposed to wind speed that is not being contaminated by turbulence. The anemometer is mounted on the roof of the author's shed. Less noisy data would be attainable if the anemometer was mounted on the roof of the author's house in a more exposed setting.  "
   ]
  },
  {
   "cell_type": "markdown",
   "metadata": {},
   "source": [
    "### Gust Speed <a id=\"gust-speed\"></a>\n",
    "\n",
    "As the gust speed variable is a measure of woind variations over time it can be modelled in the same was as wind speed."
   ]
  },
  {
   "cell_type": "markdown",
   "metadata": {},
   "source": [
    "Histograms of the distribution of gust speeds are plotted:"
   ]
  },
  {
   "cell_type": "code",
   "execution_count": null,
   "metadata": {},
   "outputs": [],
   "source": [
    "plt.rcParams[\"figure.figsize\"] = [16, 4]\n",
    "plt.rcParams[\"figure.autolayout\"] = True\n",
    "\n",
    "fig, axis = plt.subplots(1, 4)\n",
    "axis[0].hist(winter['gust_m_s'], color = 'green', edgecolor = 'black', bins=15)\n",
    "axis[0].set_title(\"Gust Speed - Winter\")\n",
    "axis[0].set(xlabel='value', ylabel='count')\n",
    "axis[1].hist(spring['gust_m_s'], color = 'green', edgecolor = 'black', bins=15)\n",
    "axis[1].set_title(\"Gust Speed -Spring\")\n",
    "axis[1].set(xlabel='value', ylabel='count')\n",
    "axis[2].hist(autumn['gust_m_s'], color = 'green', edgecolor = 'black', bins=15)\n",
    "axis[2].set_title(\"Gust Speed - autumn\")\n",
    "axis[2].set(xlabel='value', ylabel='count')\n",
    "axis[3].hist(autumn['gust_m_s'], color = 'green', edgecolor = 'black', bins=15)\n",
    "axis[3].set_title(\"Gust Speed - Autumn\")\n",
    "axis[3].set(xlabel='value', ylabel='count')"
   ]
  },
  {
   "cell_type": "markdown",
   "metadata": {},
   "source": [
    "Plot the Raleigh distribution models:"
   ]
  },
  {
   "cell_type": "code",
   "execution_count": null,
   "metadata": {},
   "outputs": [],
   "source": [
    "# get mode of the wind speed variables by season\n",
    "winter_gust_mode = winter['gust_m_s'].mode()\n",
    "spring_gust_mode = spring['gust_m_s'].mode()\n",
    "autumn_gust_mode = autumn['gust_m_s'].mode()\n",
    "autumn_gust_mode = autumn['gust_m_s'].mode()"
   ]
  },
  {
   "cell_type": "code",
   "execution_count": null,
   "metadata": {},
   "outputs": [],
   "source": [
    "# seeding so the random numbers generated don't change when code is run, for demonstrative purposes\n",
    "seed = np.random.seed(4)\n",
    "\n",
    "# draw randomly from rayleigh distributions for each season\n",
    "model_gust_winter = np.random.rayleigh(winter_gust_mode[0], winter_rows)\n",
    "model_gust_spring = np.random.rayleigh(spring_gust_mode[0], spring_rows)\n",
    "model_gust_autumn = np.random.rayleigh(autumn_gust_mode[0], autumn_rows)\n",
    "model_gust_autumn = np.random.rayleigh(autumn_gust_mode[0], autumn_rows)\n",
    "\n",
    "\n",
    "\n",
    "plt.rcParams[\"figure.figsize\"] = [16, 4]\n",
    "plt.rcParams[\"figure.autolayout\"] = True\n",
    "\n",
    "fig, axis = plt.subplots(1, 4)\n",
    "axis[0].hist(model_gust_winter, color = 'grey', edgecolor = 'black', bins=15)\n",
    "axis[0].set_title(\"Gust Speed Model Winter\")\n",
    "axis[0].set(xlabel='value', ylabel='count')\n",
    "axis[1].hist(model_gust_spring, color = 'grey', edgecolor = 'black', bins=15)\n",
    "axis[1].set_title(\"Gust Speed Model Spring\")\n",
    "axis[1].set(xlabel='value', ylabel='count')\n",
    "axis[2].hist(model_gust_autumn, color = 'grey', edgecolor = 'black', bins=15)\n",
    "axis[2].set_title(\"Gust Speed Model autumn\")\n",
    "axis[2].set(xlabel='value', ylabel='count')\n",
    "axis[3].hist(model_gust_autumn, color = 'grey', edgecolor = 'black', bins=15)\n",
    "axis[3].set_title(\"Gust Speed Model Autumn\")\n",
    "axis[3].set(xlabel='value', ylabel='count')"
   ]
  },
  {
   "cell_type": "markdown",
   "metadata": {},
   "source": [
    "Compare the KDE of the real world data and the modelled data."
   ]
  },
  {
   "cell_type": "code",
   "execution_count": null,
   "metadata": {},
   "outputs": [],
   "source": [
    "# import seaborn in order to plot KDE\n",
    "import seaborn as sns\n",
    "\n",
    "# seeding so the random numbers generated don't change when code is run, for demonstrative purposes\n",
    "seed = np.random.seed(3)\n",
    "\n",
    "# generate a range of values normally distributed with the actual data\n",
    "winter_normal_wind_speed = np.random.normal(winter.describe()['wind_speed_m_s']['mean'], winter.describe()['wind_speed_m_s']['std'], size = winter_rows)\n",
    "\n",
    "fig = plt.figure(figsize=(5,5))\n",
    "sns.kdeplot(model_gust_winter)\n",
    "sns.kdeplot(winter['gust_m_s'])\n",
    "#sns.kdeplot(winter_normal_wind_speed)\n",
    "fig.legend(labels=['rayleigh model','actual data'], loc=\"right\")\n",
    "\n",
    "plt.title(\"Winter Gust Speed KDE Plots\")\n",
    "plt.show()"
   ]
  },
  {
   "cell_type": "code",
   "execution_count": null,
   "metadata": {},
   "outputs": [],
   "source": [
    "# seeding so the random numbers generated don't change when code is run, for demonstrative purposes\n",
    "seed = np.random.seed(3)\n",
    "\n",
    "# generate a range of values normally distributed with the actual data\n",
    "autumn_normal_wind_speed = np.random.normal(spring.describe()['wind_speed_m_s']['mean'], spring.describe()['wind_speed_m_s']['std'], size = spring_rows)\n",
    "\n",
    "fig = plt.figure(figsize=(5,5))\n",
    "sns.kdeplot(model_gust_spring)\n",
    "sns.kdeplot(spring['gust_m_s'])\n",
    "# sns.kdeplot(spring_normal_wind_speed)\n",
    "fig.legend(labels=['rayleigh model','actual data', 'standard model'], loc=\"right\")\n",
    "\n",
    "plt.title(\"Spring Gust Speed KDE Plots\")\n",
    "plt.show()"
   ]
  },
  {
   "cell_type": "code",
   "execution_count": null,
   "metadata": {},
   "outputs": [],
   "source": [
    "# seeding so the random numbers generated don't change when code is run, for demonstrative purposes\n",
    "seed = np.random.seed(3)\n",
    "\n",
    "# generate a range of values normally distributed with the actual data\n",
    "autumn_normal_wind_speed = np.random.normal(spring.describe()['wind_speed_m_s']['mean'], spring.describe()['wind_speed_m_s']['std'], size = spring_rows)\n",
    "\n",
    "fig = plt.figure(figsize=(5,5))\n",
    "sns.kdeplot(model_gust_autumn)\n",
    "sns.kdeplot(autumn['gust_m_s'])\n",
    "# sns.kdeplot(spring_normal_wind_speed)\n",
    "fig.legend(labels=['rayleigh model','actual data', 'standard model'], loc=\"right\")\n",
    "\n",
    "plt.title(\"autumn Gust Speed KDE Plots\")\n",
    "plt.show()"
   ]
  },
  {
   "cell_type": "code",
   "execution_count": null,
   "metadata": {},
   "outputs": [],
   "source": [
    "# seeding so the random numbers generated don't change when code is run, for demonstrative purposes\n",
    "seed = np.random.seed(3)\n",
    "\n",
    "# generate a range of values normally distributed with the actual data\n",
    "autumn_normal_wind_speed = np.random.normal(spring.describe()['wind_speed_m_s']['mean'], spring.describe()['wind_speed_m_s']['std'], size = spring_rows)\n",
    "\n",
    "fig = plt.figure(figsize=(5,5))\n",
    "sns.kdeplot(model_gust_autumn)\n",
    "sns.kdeplot(autumn['gust_m_s'])\n",
    "# sns.kdeplot(spring_normal_wind_speed)\n",
    "fig.legend(labels=['rayleigh model','actual data', 'standard model'], loc=\"right\")\n",
    "\n",
    "plt.title(\"Autumn Gust Speed KDE Plots\")\n",
    "plt.show()"
   ]
  },
  {
   "cell_type": "markdown",
   "metadata": {},
   "source": [
    "### Humidity <a id=\"humidity\"></a>\n",
    "\n",
    "Using Matplotlib the histogram of humidity frequency distribution can be plotted."
   ]
  },
  {
   "cell_type": "code",
   "execution_count": null,
   "metadata": {},
   "outputs": [],
   "source": [
    "plt.rcParams[\"figure.figsize\"] = [16, 4]\n",
    "plt.rcParams[\"figure.autolayout\"] = True\n",
    "\n",
    "fig, axis = plt.subplots(1, 4)\n",
    "axis[0].hist(winter['humidity_%'], color = 'green', edgecolor = 'black', bins=15)\n",
    "axis[0].set_title(\"Humidity - Winter\")\n",
    "axis[0].set(xlabel='value', ylabel='count')\n",
    "axis[1].hist(spring['humidity_%'], color = 'green', edgecolor = 'black', bins=15)\n",
    "axis[1].set_title(\"Humidity -Spring\")\n",
    "axis[1].set(xlabel='value', ylabel='count')\n",
    "axis[2].hist(autumn['humidity_%'], color = 'green', edgecolor = 'black', bins=15)\n",
    "axis[2].set_title(\"Humidity - autumn\")\n",
    "axis[2].set(xlabel='value', ylabel='count')\n",
    "axis[3].hist(autumn['humidity_%'], color = 'green', edgecolor = 'black', bins=15)\n",
    "axis[3].set_title(\"Humidity - Autumn\")\n",
    "axis[3].set(xlabel='value', ylabel='count')"
   ]
  },
  {
   "cell_type": "markdown",
   "metadata": {},
   "source": [
    "Literature suggests that the normal distribution is the best fit distribution for relative humidity probability modelling (Musa Esıt, 2022). Musa Esıt (2022) found that the normal distribution was the best probability fit for 2 out or 3 weather stations humidity data.\n",
    "\n",
    "*Normal distribution, also known as the Gaussian distribution, is a probability distribution that is symmetric about the mean, showing that data near the mean are more frequent in occurrence than data far from the mean* (Chen, 2021).\n",
    "\n",
    "The standard distribution characteristic bell curve is illustrated below demonstrating that there is a 95.4% chance that a value will fall within 2 standard deviations of the mean.\n",
    "\n",
    "**Standard Probability Distribution** - By Ainali - Own work, CC BY-SA 3.0, https://commons.wikimedia.org/w/index.php?curid=3141713\n",
    "\n",
    "![Normal Distribution Curve](images/illustrations/Standard_deviation_diagram_micro.svg.png \"Normal Distribution Curve\")\n",
    "\n",
    "In mathematical terms the normal distribution probability density function is expressed as:\n",
    "\n",
    "${\\displaystyle f(x)={\\frac {1}{\\sigma {\\sqrt {2\\pi }}}}e^{-{\\frac {1}{2}}\\left({\\frac {x-\\mu }{\\sigma }}\\right)^{2}}}$\n",
    "\n",
    "where:\n",
    "- $x$ = value of the variable or data being examined and $f(x)$ the probability function\n",
    "- $\\mu =$ the mean\n",
    "- $\\sigma =$ the standard deviation"
   ]
  },
  {
   "cell_type": "markdown",
   "metadata": {},
   "source": [
    "The python syntax for the Gaussian distribution is:\n",
    "\n",
    "`random.normal(loc=0.0, scale=1.0, size=None)`\n",
    "\n",
    "- loc = mean of the distribution\n",
    "- scale = standard deviation of the distribution\n",
    "- size = output shape\n",
    "\n",
    "In order to generate a sample of random normally distributed data the mean and standard deviation of the real world data are needed. Once these are known the data can be synthesised and histograms plotted."
   ]
  },
  {
   "cell_type": "code",
   "execution_count": null,
   "metadata": {},
   "outputs": [],
   "source": [
    "winter_normal_humidity = np.random.normal(winter.describe()['humidity_%']['mean'], winter.describe()['humidity_%']['std'], size = winter_rows)\n",
    "spring_normal_humidity = np.random.normal(spring.describe()['humidity_%']['mean'], spring.describe()['humidity_%']['std'], size = spring_rows)\n",
    "autumn_normal_humidity = np.random.normal(autumn.describe()['humidity_%']['mean'], autumn.describe()['humidity_%']['std'], size = autumn_rows)\n",
    "autumn_normal_humidity = np.random.normal(autumn.describe()['humidity_%']['mean'], autumn.describe()['humidity_%']['std'], size = autumn_rows)\n"
   ]
  },
  {
   "cell_type": "code",
   "execution_count": null,
   "metadata": {},
   "outputs": [],
   "source": [
    "# seeding so the random numbers generated don't change when code is run, for demonstrative purposes\n",
    "seed = np.random.seed(4)\n",
    "\n",
    "plt.rcParams[\"figure.figsize\"] = [16, 4]\n",
    "plt.rcParams[\"figure.autolayout\"] = True\n",
    "\n",
    "fig, axis = plt.subplots(1, 4)\n",
    "axis[0].hist(winter_normal_humidity, color = 'grey', edgecolor = 'black', bins=15)\n",
    "axis[0].set_title(\"Winter Humidity Model\")\n",
    "axis[0].set(xlabel='value', ylabel='count')\n",
    "axis[1].hist(spring_normal_humidity, color = 'grey', edgecolor = 'black', bins=15)\n",
    "axis[1].set_title(\"Spring Humidity Model\")\n",
    "axis[1].set(xlabel='value', ylabel='count')\n",
    "axis[2].hist(autumn_normal_humidity, color = 'grey', edgecolor = 'black', bins=15)\n",
    "axis[2].set_title(\"autumn Humidity Model\")\n",
    "axis[2].set(xlabel='value', ylabel='count')\n",
    "axis[3].hist(autumn_normal_humidity, color = 'grey', edgecolor = 'black', bins=15)\n",
    "axis[3].set_title(\"Autumn Humidity Model\")\n",
    "axis[3].set(xlabel='value', ylabel='count')"
   ]
  },
  {
   "cell_type": "markdown",
   "metadata": {},
   "source": [
    "Using python it is possible to define a function for the probability density function (PDF) for the normal distribution."
   ]
  },
  {
   "cell_type": "code",
   "execution_count": null,
   "metadata": {},
   "outputs": [],
   "source": [
    "def normal_dist(x , mean , sd):\n",
    "    prob_density = (np.pi*sd) * np.exp(-0.5*((x-mean)/sd)**2)\n",
    "    return prob_density"
   ]
  },
  {
   "cell_type": "markdown",
   "metadata": {},
   "source": [
    "The normal distribution PDF for real world dataset and can be plotted and compared against the KDE of the randomly generated winter humidity dataset."
   ]
  },
  {
   "cell_type": "code",
   "execution_count": null,
   "metadata": {},
   "outputs": [],
   "source": [
    "import numpy as np\n",
    "\n",
    "x_axis_values = np.linspace(winter.describe()['humidity_%']['min'], (winter.describe()['humidity_%']['max'], winter_rows))\n",
    "\n",
    "pdf = normal_dist(x_axis_values ,winter.describe()['humidity_%']['mean'] , winter.describe()['humidity_%']['std'])\n",
    " \n",
    "\n",
    "plt.rcParams['figure.figsize'] = (7,5)\n",
    "\n",
    "# plt.plot(x_axis_values, pdf, color = 'red')\n",
    "# sns.histplot(winter_normal_humidity, kde=True, color = 'grey')\n",
    "# sns.histplot(winter['humidity_%'], kde=True)\n",
    "sns.kdeplot(winter['humidity_%'])\n",
    "sns.kdeplot(winter_normal_humidity)\n",
    "plt.xlabel('Data points')\n",
    "plt.ylabel('Probability Density')\n",
    "plt.legend(labels=['Humidity KDE', 'Humidity KDE'])\n",
    "plt.title('Normal Distribution KDE and Simulated Distribution KDE')\n",
    "plt.show()"
   ]
  },
  {
   "cell_type": "markdown",
   "metadata": {},
   "source": [
    "The KDE curves for the real world humidity data and the modelled humidity data are similar in appearance."
   ]
  },
  {
   "cell_type": "markdown",
   "metadata": {},
   "source": [
    "### Chill <a id=\"chill\"></a>\n",
    "\n",
    "Wind chill is said to have a quasi-normal probability distribution  **ref\n"
   ]
  },
  {
   "cell_type": "code",
   "execution_count": null,
   "metadata": {},
   "outputs": [],
   "source": [
    "plt.rcParams[\"figure.figsize\"] = [16, 4]\n",
    "plt.rcParams[\"figure.autolayout\"] = True\n",
    "\n",
    "fig, axis = plt.subplots(1, 4)\n",
    "axis[0].hist(winter['chill_celsius'], color = 'green', edgecolor = 'black', bins=15)\n",
    "axis[0].set_title(\"Wind Chill - Winter\")\n",
    "axis[0].set(xlabel='value', ylabel='count')\n",
    "axis[1].hist(spring['chill_celsius'], color = 'green', edgecolor = 'black', bins=15)\n",
    "axis[1].set_title(\"Wind Chill -Spring\")\n",
    "axis[1].set(xlabel='value', ylabel='count')\n",
    "axis[2].hist(autumn['chill_celsius'], color = 'green', edgecolor = 'black', bins=15)\n",
    "axis[2].set_title(\"Wind Chill - autumn\")\n",
    "axis[2].set(xlabel='value', ylabel='count')\n",
    "axis[3].hist(autumn['chill_celsius'], color = 'green', edgecolor = 'black', bins=15)\n",
    "axis[3].set_title(\"Wind Chill - Autumn\")\n",
    "axis[3].set(xlabel='value', ylabel='count')\n"
   ]
  },
  {
   "cell_type": "code",
   "execution_count": null,
   "metadata": {},
   "outputs": [],
   "source": [
    "winter_normal_chill = np.random.normal(winter.describe()['chill_celsius']['mean'], winter.describe()['chill_celsius']['std'], size = winter_rows)\n",
    "spring_normal_chill = np.random.normal(spring.describe()['chill_celsius']['mean'], spring.describe()['chill_celsius']['std'], size = spring_rows)\n",
    "autumn_normal_chill = np.random.normal(autumn.describe()['chill_celsius']['mean'], autumn.describe()['chill_celsius']['std'], size = autumn_rows)\n",
    "autumn_normal_chill = np.random.normal(autumn.describe()['chill_celsius']['mean'], autumn.describe()['chill_celsius']['std'], size = autumn_rows)\n"
   ]
  },
  {
   "cell_type": "code",
   "execution_count": null,
   "metadata": {},
   "outputs": [],
   "source": [
    "# seeding so the random numbers generated don't change when code is run, for demonstrative purposes\n",
    "seed = np.random.seed(4)\n",
    "\n",
    "plt.rcParams[\"figure.figsize\"] = [16, 4]\n",
    "plt.rcParams[\"figure.autolayout\"] = True\n",
    "\n",
    "fig, axis = plt.subplots(1, 4)\n",
    "axis[0].hist(winter_normal_chill, color = 'grey', edgecolor = 'black', bins=15)\n",
    "axis[0].set_title(\"Winter Chill Model\")\n",
    "axis[0].set(xlabel='value', ylabel='count')\n",
    "axis[1].hist(spring_normal_chill, color = 'grey', edgecolor = 'black', bins=15)\n",
    "axis[1].set_title(\"Spring Chill Model\")\n",
    "axis[1].set(xlabel='value', ylabel='count')\n",
    "axis[2].hist(autumn_normal_chill, color = 'grey', edgecolor = 'black', bins=15)\n",
    "axis[2].set_title(\"autumn Chill Model\")\n",
    "axis[2].set(xlabel='value', ylabel='count')\n",
    "axis[3].hist(autumn_normal_chill, color = 'grey', edgecolor = 'black', bins=15)\n",
    "axis[3].set_title(\"Autumn Chill Model\")\n",
    "axis[3].set(xlabel='value', ylabel='count')"
   ]
  },
  {
   "cell_type": "code",
   "execution_count": null,
   "metadata": {},
   "outputs": [],
   "source": [
    "\n",
    "# https://stackoverflow.com/questions/63895392/seaborn-is-not-plotting-within-defined-subplots\n",
    "fig, (ax1, ax2) = plt.subplots(1,2)\n",
    "sns.histplot(winter['chill_celsius'], kde=True, ax=ax1)\n",
    "sns.histplot(winter_normal_chill, kde=True, ax=ax2)\n",
    "plt.show()"
   ]
  },
  {
   "cell_type": "markdown",
   "metadata": {},
   "source": [
    "## Modelled Dataset <a id=\"modelled-dataset\"></a>"
   ]
  },
  {
   "cell_type": "markdown",
   "metadata": {},
   "source": [
    "Using the `pd.date_range()` method the time_series from the real world dataset can be created."
   ]
  },
  {
   "cell_type": "code",
   "execution_count": null,
   "metadata": {},
   "outputs": [],
   "source": [
    "# adapted from - https://pandas.pydata.org/docs/reference/api/pandas.date_range.html [Accessed 13 Nov. 2023].\n",
    "dti = pd.date_range(start=\"2022-11-09\", end='2023-10-31')\n"
   ]
  },
  {
   "cell_type": "markdown",
   "metadata": {},
   "source": [
    "A new Pandas DataFrame is created and the generated time series is set as the index."
   ]
  },
  {
   "cell_type": "code",
   "execution_count": null,
   "metadata": {},
   "outputs": [],
   "source": [
    "# Code adapted from - https://pandas.pydata.org/docs/reference/api/pandas.DataFrame.html [Accessed 13 Nov. 2023].\n",
    "synthesised_dataset = pd.DataFrame(index=dti, columns = column_rename)\n",
    "print(synthesised_dataset)"
   ]
  },
  {
   "cell_type": "markdown",
   "metadata": {},
   "source": [
    "Concatenate the seasonal data for each variable into to one array and assign a variable for the array that corresponds to the modelled variable."
   ]
  },
  {
   "cell_type": "code",
   "execution_count": null,
   "metadata": {},
   "outputs": [],
   "source": [
    "\n",
    "# code adapted from - https://sparkbyexamples.com/python/numpy-concatenate-arrays/ [Accessed 13 Nov. 2023]\n",
    "wind_speed_model = np.concatenate((model_ws_winter, model_ws_spring, model_gust_autumn, model_ws_autumn))\n",
    "gust_speed_model = np.concatenate((model_gust_winter, model_gust_spring, model_gust_autumn, model_gust_autumn))\n",
    "humidity_model = np.concatenate((winter_normal_humidity, spring_normal_humidity, autumn_normal_humidity, autumn_normal_humidity))"
   ]
  },
  {
   "cell_type": "markdown",
   "metadata": {},
   "source": [
    "Assign the modelled data to a column in the sythesised DataFrame."
   ]
  },
  {
   "cell_type": "code",
   "execution_count": null,
   "metadata": {},
   "outputs": [],
   "source": [
    "synthesised_dataset['wind_speed_m_s'] = wind_speed_model\n",
    "synthesised_dataset['gust_m_s'] = gust_speed_model\n",
    "synthesised_dataset['humidity_%'] = humidity_model\n",
    "#print(type(synthesised_dataset))\n",
    "print(synthesised_dataset)\n",
    "#print(synthesised_dataset.info())"
   ]
  },
  {
   "cell_type": "markdown",
   "metadata": {},
   "source": [
    "## Correlation <a id=\"correlation\"></a>"
   ]
  },
  {
   "cell_type": "code",
   "execution_count": null,
   "metadata": {},
   "outputs": [],
   "source": [
    "corr_variable = garden_weather.iloc[0:, 1:].corr()\n",
    "corr_variable\n"
   ]
  },
  {
   "cell_type": "code",
   "execution_count": null,
   "metadata": {},
   "outputs": [],
   "source": [
    "# garden_pivot = garden_weather.pivot(index='date_time', columns='wind_speed_m_s')\n",
    "sns.heatmap(corr_variable)"
   ]
  },
  {
   "cell_type": "markdown",
   "metadata": {},
   "source": [
    "## References <a id=\"references\"></a>\n",
    "\n",
    "Bhandari, P. (2020). Levels of Measurement | Nominal, Ordinal, Interval and Ratio. [online] Scribbr. Available at: https://www.scribbr.com/statistics/levels-of-measurement/. [Accessed 7 Nov. 2023].\n",
    "\n",
    "Chartio. (n.d.). How to Check If Any Value is NaN in a Pandas DataFrame. [online] Available at: https://chartio.com/resources/tutorials/how-to-check-if-any-value-is-nan-in-a-pandas-dataframe/. [Accessed 7 Nov. 2023].\n",
    "\n",
    "Chen, J. (2021). Normal Distribution. [online] Investopedia. Available at: https://www.investopedia.com/terms/n/normaldistribution.asp. [Accessed 10 Nov. 2023].\n",
    "\n",
    "docs.python.org. (n.d.). 15. Floating Point Arithmetic: Issues and Limitations — Python 3.10.1 documentation. [online] Available at: https://docs.python.org/3/tutorial/floatingpoint.html. [Accessed 7 Nov. 2023].\n",
    "\n",
    "GeeksforGeeks. (2018). How to rename columns in Pandas DataFrame. [online] Available at: https://www.geeksforgeeks.org/how-to-rename-columns-in-pandas-dataframe/. [Accessed 7 Nov. 2023].\n",
    "\n",
    "H, S. (2023). head () and tail () Functions Explained with Examples and Codes. [online] Analytics Vidhya. Available at: https://www.analyticsvidhya.com/blog/2023/07/head-and-tail-functions/. [Accessed 7 Nov. 2023].\n",
    "\n",
    "Kumar, S. (2021). Deep Dive Analysis of Missing Values in Dataset. [online] Medium. Available at: https://towardsdatascience.com/deep-dive-analysis-of-missing-values-in-dataset-b387d9de6d4b. [Accessed 7 Nov. 2023].\n",
    "\n",
    "Malli (2022). How To Concatenate NumPy Arrays. [online] Spark By {Examples}. Available at: https://sparkbyexamples.com/python/numpy-concatenate-arrays/. [Accessed 13 Nov. 2023].\n",
    "\n",
    "Moffitt, C. (2018). Overview of Pandas Data Types - Practical Business Python. [online] pbpython.com. Available at: https://pbpython.com/pandas_dtypes.html. [Accessed 6 Nov. 2023].\n",
    "\n",
    "Musa Esıt (2022). The Determination of the Most Appropriate Probability Distribution Models for the Meteorological Variables. Bitlis Eren üniversitesi fen bilimleri dergisi, 11(4), pp.1026–1041. doi:https://doi.org/10.17798/bitlisfen.1168077. [Accessed 10 Nov. 2023].\n",
    "\n",
    "Name, Y. (2022). Pandas filter dates by month, hour, day and last N days & weeks. [online] kanoki. Available at: https://kanoki.org/2022/07/16/pandas-filter-dates-by-month-hour-day-or-last-n-days-weeks/ [Accessed 9 Nov. 2023].\n",
    "\n",
    "numpy.org. (n.d.). numpy.random.Generator.rayleigh — NumPy v1.26 Manual. [online] Available at: https://numpy.org/doc/stable/reference/random/generated/numpy.random.Generator.rayleigh.html#numpy.random.Generator.rayleigh [Accessed 10 Nov. 2023].\n",
    "\n",
    "pandas.pydata.org. (2023). pandas.DataFrame — pandas 1.2.4 documentation. [online] Available at: https://pandas.pydata.org/docs/reference/api/pandas.DataFrame.html. [Accessed 13 Nov. 2023].\n",
    "\n",
    "pandas.pydata.org. (n.d.). Time series / date functionality — pandas 1.2.3 documentation. [online] Available at: https://pandas.pydata.org/docs/user_guide/timeseries.html. [Accessed 13 Nov. 2023].\n",
    "\n",
    "Paraschiv, L.-S., Paraschiv, S. and Ion, I.V. (2019). Investigation of wind power density distribution using Rayleigh probability density function. Energy Procedia, 157, pp.1546–1552. doi:https://doi.org/10.1016/j.egypro.2018.11.320. [Accesed 10 Nov. 2023].\n",
    "\n",
    "Sharma, R. (2020). 4 Types of Data: Nominal, Ordinal, Discrete, Continuous. [online] upGrad blog. Available at: https://www.upgrad.com/blog/types-of-data/. [Accessed 7 Nov. 2023].\n",
    "\n",
    "Stack Overflow. (n.d.). How do I properly set the Datetimeindex for a Pandas datetime object in a dataframe? [online] Available at: https://stackoverflow.com/questions/27032052/how-do-i-properly-set-the-datetimeindex-for-a-pandas-datetime-object-in-a-datafr [Accessed 7 Nov. 2023].\n",
    "\n",
    "Tamboli, N. (2021). Tackling Missing Value in Dataset. [online] Analytics Vidhya. Available at: https://www.analyticsvidhya.com/blog/2021/10/handling-missing-value/. [Accessed 7 Nov. 2023].\n",
    "\n",
    "Treadwell, M. (2014). Tableau Pills: Continuous and Discrete Data Roles. [online] InterWorks. Available at: https://interworks.com/blog/mtreadwell/2014/02/19/tableau-pills-continuous-and-discrete-data-roles/ [Accessed 7 Nov. 2023].\n",
    "\n",
    "Walker, J. (2019). Tutorial: Time Series Analysis with Pandas – Dataquest. [online] Dataquest. Available at: https://www.dataquest.io/blog/tutorial-time-series-analysis-with-pandas/. [Accessed 7 Nov. 2023].\n",
    "\n",
    "Wikipedia Contributors (2019). Probability distribution. [online] Wikipedia. Available at: https://en.wikipedia.org/wiki/Probability_distribution. [Accessed 8 Nov. 2023].\n",
    "\n",
    "Wikipedia Contributors (2023). Irish calendar. [online] Wikipedia. Available at: https://en.wikipedia.org/wiki/Irish_calendar [Accessed 9 Nov. 2023].\n",
    "\n",
    "www.javatpoint.com. (n.d.). Pandas DataFrame.describe() - javatpoint. [online] Available at: https://www.javatpoint.com/pandas-dataframe-describe. [Accessed 8 Nov. 2023].\n",
    "\n",
    "www.w3schools.com. (n.d.). Pandas DataFrame info() Method. [online] Available at: https://www.w3schools.com/python/pandas/ref_df_info.asp. [Accessed 7 Nov. 2023].\n",
    "\n",
    "Zach (2021). How to Find Duplicates in Pandas DataFrame (With Examples). [online] Statology. Available at: https://www.statology.org/pandas-find-duplicates/. [Accessed 3 Nov. 2023]."
   ]
  },
  {
   "cell_type": "markdown",
   "metadata": {},
   "source": [
    "## Associated Reading <a id=\"associated-reading\"></a>\n",
    "\n",
    "Flom, P. (2019). Are dates nominal, ordinal, interval or ratio? [online] Medium. Available at: https://medium.com/@peterflom/are-dates-nominal-ordinal-interval-or-ratio-ef567e10884 [Accessed 7 Nov. 2023].\n",
    "\n",
    "Matplotlib (2012). Matplotlib: Python plotting — Matplotlib 3.1.1 documentation. [online] Matplotlib.org. Available at: https://matplotlib.org/. [Accessed 8 Nov 2023].\n",
    "\n",
    "numpy.org. (n.d.). Overview — NumPy v1.21 Manual. [online] Available at: https://numpy.org/doc/stable/index.html. [Accessed 8 Nov. 2023].\n",
    "\n",
    "Pandas (2018). Python Data Analysis Library — pandas: Python Data Analysis Library. [online] Pydata.org. Available at: https://pandas.pydata.org/. [Accessed 03 Nov. 2023].\n",
    "\n",
    "pandas.pydata.org. (n.d.). API reference — pandas 1.1.4 documentation. [online] Available at: https://pandas.pydata.org/docs/reference/index.html. [Accessed 03 Nov. 2023].\n",
    "\n",
    "pandas.pydata.org. (n.d.). How to handle time series data with ease — pandas 2.1.2 documentation. [online] Available at: https://pandas.pydata.org/docs/getting_started/intro_tutorials/09_timeseries.html [Accessed 7 Nov. 2023].\n",
    "\n",
    "Stack Overflow. (n.d.). The real difference between float32 and float64. [online] Available at: https://stackoverflow.com/questions/43440821/the-real-difference-between-float32-and-float64 [Accessed 7 Nov. 2023].\n",
    "\n",
    "---\n",
    "\n",
    "*Notebook Ends*"
   ]
  }
 ],
 "metadata": {
  "kernelspec": {
   "display_name": "Python 3 (ipykernel)",
   "language": "python",
   "name": "python3"
  },
  "language_info": {
   "codemirror_mode": {
    "name": "ipython",
    "version": 3
   },
   "file_extension": ".py",
   "mimetype": "text/x-python",
   "name": "python",
   "nbconvert_exporter": "python",
   "pygments_lexer": "ipython3",
   "version": "3.11.5"
  }
 },
 "nbformat": 4,
 "nbformat_minor": 4
}
