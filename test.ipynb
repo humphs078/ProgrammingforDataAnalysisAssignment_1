{
 "cells": [
  {
   "cell_type": "code",
   "execution_count": 2,
   "metadata": {},
   "outputs": [
    {
     "name": "stdout",
     "output_type": "stream",
     "text": [
      "<class 'pandas.core.frame.DataFrame'>\n",
      "RangeIndex: 359 entries, 0 to 358\n",
      "Data columns (total 9 columns):\n",
      " #   Column                             Non-Null Count  Dtype  \n",
      "---  ------                             --------------  -----  \n",
      " 0   Date Time                          359 non-null    object \n",
      " 1   Wind Speed m/s                     359 non-null    float64\n",
      " 2   Gust m/s                           359 non-null    float64\n",
      " 3   Humidity %                         359 non-null    float64\n",
      " 4   Chill Celsius                      359 non-null    float64\n",
      " 5   Chill Minimum Celsius              359 non-null    float64\n",
      " 6   Temperature Average Celsius        359 non-null    float64\n",
      " 7   Temperature Range (low) Celsius    359 non-null    float64\n",
      " 8   Temperature Range (high)  Celsius  359 non-null    float64\n",
      "dtypes: float64(8), object(1)\n",
      "memory usage: 25.4+ KB\n"
     ]
    }
   ],
   "source": [
    "import pandas as pd\n",
    "# use pandas to read in the dataset, rename the headers to python friendly strings\n",
    "garden_weather = pd.read_csv('datasets/back_garden_sensor_data_12_months.csv')\n",
    "\n",
    "garden_weather.info()"
   ]
  }
 ],
 "metadata": {
  "kernelspec": {
   "display_name": "base",
   "language": "python",
   "name": "python3"
  },
  "language_info": {
   "codemirror_mode": {
    "name": "ipython",
    "version": 3
   },
   "file_extension": ".py",
   "mimetype": "text/x-python",
   "name": "python",
   "nbconvert_exporter": "python",
   "pygments_lexer": "ipython3",
   "version": "3.11.5"
  }
 },
 "nbformat": 4,
 "nbformat_minor": 2
}
